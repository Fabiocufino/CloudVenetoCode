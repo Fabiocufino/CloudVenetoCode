{
 "cells": [
  {
   "attachments": {},
   "cell_type": "markdown",
   "metadata": {},
   "source": [
    "# Creating Table of features from datas"
   ]
  },
  {
   "cell_type": "code",
   "execution_count": 2,
   "metadata": {},
   "outputs": [],
   "source": [
    "import uproot as up\n",
    "import numpy as np\n",
    "import matplotlib.pyplot as plt\n",
    "import pandas as pd\n",
    "\n",
    "plt.style.use('seaborn-v0_8-paper')\n",
    "plt.rcParams[\"patch.force_edgecolor\"] = True"
   ]
  },
  {
   "attachments": {},
   "cell_type": "markdown",
   "metadata": {},
   "source": [
    "## Imprting datasets\n",
    "For the dataset we will use\n",
    "- ibd_userfile_new_production\n",
    "- radioactivity_userfile_7days\n",
    "\n",
    "for the background."
   ]
  },
  {
   "cell_type": "code",
   "execution_count": 3,
   "metadata": {},
   "outputs": [],
   "source": [
    "file_BKG = up.open(\"../../../../mnt/fcufino/radioactivity_userfile_1days.root\")\n",
    "#file_IBD = up.open('../BrutalCuts/unoscillated_IBD_userfile.root') \n",
    "#file_IBD = up.open('../../../../mnt/fcufino/ibd_userfile_1500days_tprecision.root')\n",
    "file_IBD = up.open('../../../../mnt/data/userfiles/ibd_userfile_new_production.root')\n",
    "\n",
    "\n",
    "dataset_IBD_all = file_IBD['TRec'].arrays(library = 'np')\n",
    "dataset_BKG = file_BKG['TRec'].arrays(library = 'np')\n",
    "\n",
    "dataset_IBD = {}\n",
    "for key in ['recx', 'recy', 'recz', 'm_QEn', 'timestamp', 'SimID']:\n",
    "    dataset_IBD[key] = dataset_IBD_all[key]\n",
    "\n",
    "\n",
    "#Adding SimID to the BKG dataset\n",
    "dataset_BKG[\"SimID\"] = np.arange(len(dataset_BKG[\"m_QEn\"]))"
   ]
  },
  {
   "cell_type": "code",
   "execution_count": 4,
   "metadata": {},
   "outputs": [
    {
     "name": "stdout",
     "output_type": "stream",
     "text": [
      "IBD events:  2977856\n",
      "BKG events:  8841188\n"
     ]
    }
   ],
   "source": [
    "print(\"IBD events: \", len(dataset_IBD[\"m_QEn\"]))\n",
    "print(\"BKG events: \", len(dataset_BKG[\"m_QEn\"]))"
   ]
  },
  {
   "attachments": {},
   "cell_type": "markdown",
   "metadata": {},
   "source": [
    "## Creation of two tables of features\n",
    "One for IBD events and one for BKG, keeping them separately.\n",
    "\n",
    "\n",
    "The feature table will have those features ($\\Delta t$, $\\Delta r$, $E_p$, $E_d$,$R_{prompt}$, $R_{delayed}$, $Label$)"
   ]
  },
  {
   "cell_type": "code",
   "execution_count": 5,
   "metadata": {},
   "outputs": [],
   "source": [
    "from numba import njit, prange"
   ]
  },
  {
   "cell_type": "code",
   "execution_count": 6,
   "metadata": {},
   "outputs": [],
   "source": [
    "@njit(parallel = True)\n",
    "def create_features_handle(x,y,z,E,t,SimID,expon_time_cut = 5 * 220e3):\n",
    "\n",
    "    n = x.shape[0] - 1\n",
    "      \n",
    "    delta_time = n*[np.zeros(0)]\n",
    "    delta_radius = n*[np.zeros(0)]\n",
    "    E_pro = n*[np.zeros(0)]\n",
    "    E_del = n*[np.zeros(0)] \n",
    "    R_prompt = n*[np.zeros(0)]\n",
    "    R_delayed = n*[np.zeros(0)]\n",
    "    Label = n*[np.zeros(0)]\n",
    "\n",
    "    for i in prange(x.shape[0] - 1):\n",
    "\n",
    "        mask = np.logical_and(t>t[i], (t - t[i]) < expon_time_cut)\n",
    "        to_loop = np.nonzero(mask)[0] \n",
    "\n",
    "        for t_index in range(len(to_loop)):\n",
    "            j = to_loop[t_index] \n",
    "\n",
    "            if (t[j] - t[i]) < expon_time_cut:\n",
    "                if (j-i)<1000 and j>i: #provvisorio\n",
    "                    delta_time[i] = np.append(delta_time[i], t[j] - t[i])\n",
    "                    delta_radius[i] = np.append(delta_radius[i], np.sqrt((x[i] - x[j])**2 + (y[i] - y[j])**2 + (z[i] - z[j])**2))\n",
    "                    E_pro[i] = np.append(E_pro[i], E[i])\n",
    "                    E_del[i] = np.append(E_del[i], E[j])\n",
    "                    R_prompt[i] = np.append(R_prompt[i],np.sqrt((x[i])**2 + (y[i])**2 + (z[i])**2))\n",
    "                    R_delayed[i] = np.append(R_delayed[i],np.sqrt((x[j])**2 + (y[j])**2 + (z[j])**2))\n",
    "                    \n",
    "                    if SimID[i] == SimID[j]:\n",
    "                        Label[i] = np.append(Label[i], 1)\n",
    "                    elif SimID[i] != SimID[j]:\n",
    "                        Label[i] = np.append(Label[i], 0)\n",
    "\n",
    "            else:\n",
    "                print(i, j, t[j] - t[i], 'Qualcosa non va')\n",
    "                break\n",
    "\n",
    "    return delta_time, delta_radius, E_pro, E_del, R_prompt, R_delayed, Label\n",
    "\n",
    "from iteration_utilities import deepflatten\n",
    "\n",
    "# Funzione per fare un flatten dell'output di Numba\n",
    "def create_features(x,y,z,E,t,SimID,expon_time_cut = 5 * 220e3):\n",
    "    res = create_features_handle(x,y,z,E,t,SimID,expon_time_cut)\n",
    "    out = []\n",
    "    for vec in res:\n",
    "        out.append(np.asarray(list(deepflatten(vec))))  \n",
    "    return out"
   ]
  },
  {
   "attachments": {},
   "cell_type": "markdown",
   "metadata": {},
   "source": [
    "### For IBD events"
   ]
  },
  {
   "cell_type": "code",
   "execution_count": 7,
   "metadata": {},
   "outputs": [],
   "source": [
    "features_IBD = {\"delta_time\": np.array([]), \n",
    "            \"delta_radius\": np.array([]),\n",
    "            \"E_pro\": np.array([]),\n",
    "            \"E_del\": np.array([]),\n",
    "            \"R_prompt\": np.array([]),\n",
    "            \"R_delayed\": np.array([]),\n",
    "            \"Label\": np.array([])} \n",
    "\n",
    "\n",
    "features_IBD[\"delta_time\"],features_IBD[\"delta_radius\"],features_IBD[\"E_pro\"],features_IBD[\"E_del\"],features_IBD[\"R_prompt\"],features_IBD[\"R_delayed\"],features_IBD['Label']  = create_features(\n",
    "    dataset_IBD[\"recx\"],\n",
    "    dataset_IBD[\"recy\"],\n",
    "    dataset_IBD[\"recz\"],\n",
    "    dataset_IBD[\"m_QEn\"],\n",
    "    dataset_IBD[\"timestamp\"],\n",
    "    dataset_IBD[\"SimID\"])\n",
    "\n",
    "\n"
   ]
  },
  {
   "cell_type": "code",
   "execution_count": 8,
   "metadata": {},
   "outputs": [
    {
     "name": "stdout",
     "output_type": "stream",
     "text": [
      "1475009\n",
      "1475009\n",
      "1475009\n",
      "1475009\n",
      "1475009\n",
      "1475009\n",
      "99.55091799439867\n"
     ]
    }
   ],
   "source": [
    "print(features_IBD[\"delta_time\"].shape[0])\n",
    "print(features_IBD[\"delta_radius\"].shape[0])\n",
    "print(features_IBD[\"E_pro\"].shape[0])\n",
    "print(features_IBD[\"E_del\"].shape[0])\n",
    "print(features_IBD[\"R_prompt\"].shape[0])\n",
    "print(features_IBD[\"R_delayed\"].shape[0])\n",
    "print((features_IBD[\"Label\"].sum()/features_IBD[\"Label\"].shape[0]) * 100)"
   ]
  },
  {
   "attachments": {},
   "cell_type": "markdown",
   "metadata": {},
   "source": [
    "### For the BKG events"
   ]
  },
  {
   "cell_type": "code",
   "execution_count": 9,
   "metadata": {},
   "outputs": [],
   "source": [
    "features_BKG = {\"delta_time\": np.array([]),\n",
    "                \"delta_radius\": np.array([]),\n",
    "                \"E_pro\": np.array([]),\n",
    "                \"E_del\": np.array([]),\n",
    "                \"R_prompt\": np.array([]),\n",
    "                \"R_delayed\": np.array([]),\n",
    "                \"Label\": np.array([])} \n",
    "\n",
    "\n",
    "features_BKG[\"delta_time\"],features_BKG[\"delta_radius\"],features_BKG[\"E_pro\"],features_BKG[\"E_del\"],features_BKG[\"R_prompt\"],features_BKG[\"R_delayed\"],features_BKG[\"Label\"] = create_features(\n",
    "        dataset_BKG[\"recx\"],\n",
    "        dataset_BKG[\"recy\"],\n",
    "        dataset_BKG[\"recz\"],\n",
    "        dataset_BKG[\"m_QEn\"],\n",
    "        dataset_BKG[\"m_triggerT\"],\n",
    "        dataset_BKG[\"SimID\"])"
   ]
  },
  {
   "cell_type": "code",
   "execution_count": null,
   "metadata": {},
   "outputs": [
    {
     "name": "stdout",
     "output_type": "stream",
     "text": [
      "563532\n",
      "563532\n",
      "563532\n",
      "563532\n",
      "563532\n",
      "563532\n",
      "563532\n"
     ]
    }
   ],
   "source": [
    "print(features_BKG[\"delta_time\"].shape[0])\n",
    "print(features_BKG[\"delta_radius\"].shape[0])\n",
    "print(features_BKG[\"E_pro\"].shape[0])\n",
    "print(features_BKG[\"E_del\"].shape[0])\n",
    "print(features_BKG[\"R_prompt\"].shape[0])\n",
    "print(features_BKG[\"R_delayed\"].shape[0])\n",
    "print(features_BKG[\"Label\"].shape[0])"
   ]
  },
  {
   "attachments": {},
   "cell_type": "markdown",
   "metadata": {},
   "source": [
    "## Plots before the cut"
   ]
  },
  {
   "attachments": {},
   "cell_type": "markdown",
   "metadata": {},
   "source": [
    "Delta time"
   ]
  },
  {
   "cell_type": "code",
   "execution_count": null,
   "metadata": {},
   "outputs": [
    {
     "data": {
      "text/plain": [
       "<matplotlib.lines.Line2D at 0x7fcfc8a532b0>"
      ]
     },
     "execution_count": 9,
     "metadata": {},
     "output_type": "execute_result"
    },
    {
     "data": {
      "image/png": "[encoded data removed]",
      "text/plain": [
       "<Figure size 640x440 with 1 Axes>"
      ]
     },
     "metadata": {},
     "output_type": "display_data"
    }
   ],
   "source": [
    "#plt.scatter(np.arange(features_IBD[\"delta_time\"][ features_IBD['Label'] ==1].shape[0]), features_IBD[\"delta_time\"][ features_IBD['Label'] ==1], s=1)\n",
    "# plt.scatter(np.arange(features_BKG[\"delta_time\"].shape[0]), features_BKG[\"delta_time\"], s=1)\n",
    "plt.hist(features_IBD[\"delta_time\"][features_IBD['Label'] == 1], np.linspace(0, 1.5e6, 500))\n",
    "plt.axvline(1e6, c = 'red')"
   ]
  },
  {
   "attachments": {},
   "cell_type": "markdown",
   "metadata": {},
   "source": [
    "Delta radius"
   ]
  },
  {
   "cell_type": "code",
   "execution_count": null,
   "metadata": {},
   "outputs": [
    {
     "name": "stdout",
     "output_type": "stream",
     "text": [
      "Ne perdiamo:  17208\n"
     ]
    },
    {
     "data": {
      "text/plain": [
       "<matplotlib.lines.Line2D at 0x7fcfc8e3fdf0>"
      ]
     },
     "execution_count": 10,
     "metadata": {},
     "output_type": "execute_result"
    },
    {
     "data": {
      "image/png": "[encoded data removed]",
      "text/plain": [
       "<Figure size 640x440 with 1 Axes>"
      ]
     },
     "metadata": {},
     "output_type": "display_data"
    }
   ],
   "source": [
    "# plt.scatter(np.arange(features_IBD[\"delta_radius\"][features_IBD['Label'] == 1].shape[0]), features_IBD[\"delta_radius\"][ features_IBD['Label'] == 1], s=1)\n",
    "# plt.scatter(np.arange(features_BKG[\"delta_radius\"].shape[0]), features_BKG[\"delta_radius\"], s=1)\n",
    "plt.hist(features_IBD[\"delta_radius\"][features_IBD['Label'] == 1], np.linspace(0, 1e4, 500))\n",
    "# plt.hist(features_IBD[\"delta_radius\"][features_IBD['Label'] == 0], np.linspace(0, 1e4, 10))\n",
    "plt.legend([\"IBD\", \"BKG\"])\n",
    "count = np.logical_and(True, features_IBD[\"delta_radius\"]>1500)\n",
    "print(\"Ne perdiamo: \", count.sum())\n",
    "plt.axvline(1500, c = 'red')"
   ]
  },
  {
   "attachments": {},
   "cell_type": "markdown",
   "metadata": {},
   "source": [
    "# Cutting algorithm for BOTH IBD and BKG"
   ]
  },
  {
   "cell_type": "code",
   "execution_count": null,
   "metadata": {},
   "outputs": [],
   "source": [
    "@njit(parallel = True) \n",
    "#delta time in nanoseconds\n",
    "#delta radius in mm\n",
    "def selection(dt,dr,E_pro,E_del, delta_time = 1e6, delta_radius = 1500, min_energy_prompt = 0.7,max_energy_prompt = 12, min_energy_delay = 1.9, max_energy_delay = 2.5, min_energy_delay_carb = 4.4, max_energy_delay_carb = 5.5):\n",
    "    prompt_columns = np.zeros(dt.shape)\n",
    "    delay_columns = np.zeros(dt.shape)\n",
    "    delay_columns_carb = np.zeros(dt.shape)\n",
    "    for i in prange(dt.shape[0]):\n",
    "        if dt[i] < delta_time: \n",
    "            if dr[i] < delta_radius: \n",
    "                if E_pro[i]>= min_energy_prompt and E_pro[i]<= max_energy_prompt:\n",
    "                    if E_del[i]>= min_energy_delay and E_del[i]<= max_energy_delay:\n",
    "                        prompt_columns[i] = 1\n",
    "                        delay_columns[i] = 1\n",
    "                    if E_del[i]>= min_energy_delay_carb and E_del[i]<= max_energy_delay_carb:\n",
    "                        prompt_columns[i] = 1\n",
    "                        delay_columns_carb[i] = 1\n",
    "    return prompt_columns,delay_columns,delay_columns_carb"
   ]
  },
  {
   "attachments": {},
   "cell_type": "markdown",
   "metadata": {},
   "source": [
    "### IBD selection, earching for true IBD events"
   ]
  },
  {
   "cell_type": "code",
   "execution_count": null,
   "metadata": {},
   "outputs": [],
   "source": [
    "prompt_columns_IBD, delay_columns_IBD, delay_columns_carb_IBD = selection(features_IBD[\"delta_time\"],\n",
    "                                                                           features_IBD[\"delta_radius\"],\n",
    "                                                                           features_IBD[\"E_pro\"],\n",
    "                                                                           features_IBD[\"E_del\"])"
   ]
  },
  {
   "cell_type": "code",
   "execution_count": null,
   "metadata": {},
   "outputs": [
    {
     "name": "stdout",
     "output_type": "stream",
     "text": [
      "Venongono selezionati come IBD  1435115.0 Su un tot di 1468385\n",
      "97.73424544652799\n"
     ]
    },
    {
     "ename": "ValueError",
     "evalue": "operands could not be broadcast together with shapes (1475009,) (1468385,) ",
     "output_type": "error",
     "traceback": [
      "\u001b[0;31m---------------------------------------------------------------------------\u001b[0m",
      "\u001b[0;31mValueError\u001b[0m                                Traceback (most recent call last)",
      "Cell \u001b[0;32mIn[34], line 5\u001b[0m\n\u001b[1;32m      1\u001b[0m \u001b[39mprint\u001b[39m(\u001b[39m\"\u001b[39m\u001b[39mVenongono selezionati come IBD \u001b[39m\u001b[39m\"\u001b[39m, prompt_columns_IBD\u001b[39m.\u001b[39msum(),\u001b[39m\"\u001b[39m\u001b[39mSu un tot di\u001b[39m\u001b[39m\"\u001b[39m, prompt_columns_IBD\u001b[39m.\u001b[39mshape[\u001b[39m0\u001b[39m])\n\u001b[1;32m      3\u001b[0m \u001b[39mprint\u001b[39m((prompt_columns_IBD\u001b[39m.\u001b[39msum() \u001b[39m*\u001b[39m \u001b[39m100\u001b[39m)\u001b[39m/\u001b[39mprompt_columns_IBD\u001b[39m.\u001b[39mshape[\u001b[39m0\u001b[39m])\n\u001b[0;32m----> 5\u001b[0m TP \u001b[39m=\u001b[39m np\u001b[39m.\u001b[39;49mlogical_and(features_IBD[\u001b[39m'\u001b[39;49m\u001b[39mLabel\u001b[39;49m\u001b[39m'\u001b[39;49m] \u001b[39m==\u001b[39;49m \u001b[39m1\u001b[39;49m, prompt_columns_IBD \u001b[39m==\u001b[39;49m \u001b[39m1\u001b[39;49m)\n\u001b[1;32m      6\u001b[0m TN \u001b[39m=\u001b[39m np\u001b[39m.\u001b[39mlogical_and(features_IBD[\u001b[39m'\u001b[39m\u001b[39mLabel\u001b[39m\u001b[39m'\u001b[39m] \u001b[39m==\u001b[39m \u001b[39m0\u001b[39m, prompt_columns_IBD \u001b[39m==\u001b[39m \u001b[39m0\u001b[39m)\n\u001b[1;32m      7\u001b[0m FN \u001b[39m=\u001b[39m np\u001b[39m.\u001b[39mlogical_and(features_IBD[\u001b[39m\"\u001b[39m\u001b[39mLabel\u001b[39m\u001b[39m\"\u001b[39m] \u001b[39m==\u001b[39m \u001b[39m1\u001b[39m, prompt_columns_IBD \u001b[39m==\u001b[39m \u001b[39m0\u001b[39m)\n",
      "\u001b[0;31mValueError\u001b[0m: operands could not be broadcast together with shapes (1475009,) (1468385,) "
     ]
    }
   ],
   "source": [
    "print(\"Venongono selezionati come IBD \", prompt_columns_IBD.sum(),\"Su un tot di\", prompt_columns_IBD.shape[0])\n",
    "\n",
    "print((prompt_columns_IBD.sum() * 100)/prompt_columns_IBD.shape[0])\n",
    "\n",
    "TP = np.logical_and(features_IBD['Label'] == 1, prompt_columns_IBD == 1)\n",
    "TN = np.logical_and(features_IBD['Label'] == 0, prompt_columns_IBD == 0)\n",
    "FN = np.logical_and(features_IBD[\"Label\"] == 1, prompt_columns_IBD == 0)\n",
    "FP = np.logical_and(features_IBD[\"Label\"] == 0, prompt_columns_IBD == 1) \n",
    "\n",
    "print(\"Efficiency: \", (TP.sum()/(TP.sum()+FN.sum())) * 100)\n",
    "#Efficiency sono il numero di eventi IBD veri selezionati diviso il numero totale di IBD.\n",
    "print(\"Purity: \", (TP.sum()/(TP.sum()+FP.sum())) * 100)\t"
   ]
  },
  {
   "attachments": {},
   "cell_type": "markdown",
   "metadata": {},
   "source": [
    "### BKG selection, searching for fake IBD eventi in BKG dataset"
   ]
  },
  {
   "cell_type": "code",
   "execution_count": null,
   "metadata": {},
   "outputs": [],
   "source": [
    "prompt_columns_BKG, delay_columns_BKG, delay_columns_carb_BKG = selection(features_BKG[\"delta_time\"],\n",
    "                                                                           features_BKG[\"delta_radius\"],\n",
    "                                                                           features_BKG[\"E_pro\"],\n",
    "                                                                           features_BKG[\"E_del\"])"
   ]
  },
  {
   "cell_type": "code",
   "execution_count": null,
   "metadata": {},
   "outputs": [
    {
     "name": "stdout",
     "output_type": "stream",
     "text": [
      "15.0 563532\n",
      "0.0 563532\n",
      "15.0 563532\n"
     ]
    }
   ],
   "source": [
    "print(prompt_columns_BKG.sum(), prompt_columns_BKG.shape[0])\n",
    "print(delay_columns_carb_BKG.sum(),delay_columns_carb_BKG.shape[0])\n",
    "print(delay_columns_BKG.sum(),delay_columns_BKG.shape[0])\n",
    "\n",
    "# DOMANDA 1: Il bkg dataset non ha SimID, quindi non posso fare la selezione dei veri bkg?\n",
    "# TP = np.logical_and(features_BKG['Label'] == 1, prompt_columns_BKG == 1)\n",
    "# TN = np.logical_and(features_BKG['Label'] == 0, prompt_columns_BKG == 0)\n",
    "# FN = np.logical_and(features_BKG[\"Label\"] == 1, prompt_columns_BKG == 0)\n",
    "# FP = np.logical_and(features_BKG[\"Label\"] == 0, prompt_columns_BKG == 1) \n",
    "\n",
    "# print(\"Efficiency: \", (TP.sum()/(TP.sum()+FN.sum())) * 100)\n",
    "# print(\"Purity: \", (TP.sum()/(TP.sum()+FP.sum())) * 100)\t"
   ]
  },
  {
   "attachments": {},
   "cell_type": "markdown",
   "metadata": {},
   "source": [
    "### Plots after the cuts"
   ]
  },
  {
   "cell_type": "code",
   "execution_count": null,
   "metadata": {},
   "outputs": [
    {
     "data": {
      "text/plain": [
       "(array([0.        , 0.01666081, 0.02221441, 0.01666081, 0.02499122,\n",
       "        0.01110721, 0.02221441, 0.03609842, 0.01666081, 0.01666081,\n",
       "        0.01943761, 0.02221441, 0.06108964, 0.04165203, 0.06108964,\n",
       "        0.07775045, 0.16938491, 0.21381374, 0.36931464, 0.63311081,\n",
       "        0.82193333, 1.28843604, 1.72439392, 2.41026397, 2.91286509,\n",
       "        3.51265428, 4.06246104, 4.06523784, 3.97638018, 4.09022906,\n",
       "        3.6959232 , 3.20165248, 2.50189843, 1.8410196 , 1.15237275,\n",
       "        0.69420045, 0.39985946, 0.18882252, 0.08885766, 0.03609842,\n",
       "        0.01666081, 0.01110721, 0.        , 0.        , 0.        ,\n",
       "        0.        , 0.        , 0.        , 0.        ]),\n",
       " array([4.4       , 4.42244898, 4.44489796, 4.46734694, 4.48979592,\n",
       "        4.5122449 , 4.53469388, 4.55714286, 4.57959184, 4.60204082,\n",
       "        4.6244898 , 4.64693878, 4.66938776, 4.69183673, 4.71428571,\n",
       "        4.73673469, 4.75918367, 4.78163265, 4.80408163, 4.82653061,\n",
       "        4.84897959, 4.87142857, 4.89387755, 4.91632653, 4.93877551,\n",
       "        4.96122449, 4.98367347, 5.00612245, 5.02857143, 5.05102041,\n",
       "        5.07346939, 5.09591837, 5.11836735, 5.14081633, 5.16326531,\n",
       "        5.18571429, 5.20816327, 5.23061224, 5.25306122, 5.2755102 ,\n",
       "        5.29795918, 5.32040816, 5.34285714, 5.36530612, 5.3877551 ,\n",
       "        5.41020408, 5.43265306, 5.45510204, 5.47755102, 5.5       ]),\n",
       " <BarContainer object of 49 artists>)"
      ]
     },
     "execution_count": 31,
     "metadata": {},
     "output_type": "execute_result"
    },
    {
     "data": {
      "image/png": "[encoded data removed]",
      "text/plain": [
       "<Figure size 640x440 with 1 Axes>"
      ]
     },
     "metadata": {},
     "output_type": "display_data"
    },
    {
     "data": {
      "image/png": "[encoded data removed]",
      "text/plain": [
       "<Figure size 640x440 with 1 Axes>"
      ]
     },
     "metadata": {},
     "output_type": "display_data"
    }
   ],
   "source": [
    "fig2 = plt.figure()\n",
    "plt.hist(features_IBD[\"delta_radius\"][features_IBD['Label'] == 1], np.linspace(0, 1e4, 500))\n",
    "plt.hist(features_IBD[\"delta_radius\"][prompt_columns_IBD == 1], np.linspace(0, 1e4, 500))\n",
    "plt.legend([\"True IBD\",\"Selected as IBD\"])\n",
    "\n",
    "fig3 = plt.figure()\n",
    "plt.hist(features_IBD[\"E_pro\"][prompt_columns_IBD == 1], np.linspace(0,13,100), density = True)\n",
    "plt.hist(features_IBD[\"E_del\"][delay_columns_IBD == 1], np.linspace(1.5,2.7,50), color= \"green\", density = True)\n",
    "plt.hist(features_IBD[\"E_del\"][delay_columns_carb_IBD == 1], np.linspace(4.4,5.5,50), density=True)"
   ]
  },
  {
   "attachments": {},
   "cell_type": "markdown",
   "metadata": {},
   "source": [
    "# Merging the IBD and BKG tables, but the tables before the cuts "
   ]
  },
  {
   "cell_type": "code",
   "execution_count": null,
   "metadata": {},
   "outputs": [],
   "source": [
    "def combine_dict(d1, d2):\n",
    "    combined = {}\n",
    "    for k in set(d1.keys()) | set(d2.keys()):\n",
    "        if k in d1 and k in d2 and isinstance(d1[k], np.ndarray) and isinstance(d2[k], np.ndarray):\n",
    "            combined[k] = np.concatenate([d1[k], d2[k]])\n",
    "        elif k in d1:\n",
    "            combined[k] = d1[k]\n",
    "        else:\n",
    "            combined[k] = d2[k]\n",
    "    source = np.concatenate([np.full_like(d1.get(k, []), 1), np.full_like(d2.get(k, []), 0)])\n",
    "    return {**combined, 'Source': source}\n",
    "    "
   ]
  },
  {
   "cell_type": "code",
   "execution_count": null,
   "metadata": {},
   "outputs": [
    {
     "name": "stdout",
     "output_type": "stream",
     "text": [
      "{'E_del': array([2.25358   , 2.25309   , 2.18264   , ..., 0.14922771, 0.55319756,\n",
      "       0.21764158]), 'E_pro': array([5.26223   , 1.16043   , 4.45989   , ..., 0.65679288, 0.1671035 ,\n",
      "       0.60863018]), 'R_delayed': array([15381.68681502,  7549.91058534, 13683.06215751, ...,\n",
      "       14189.24414062, 11007.74316406,  9359.60644531]), 'Label': array([1., 1., 1., ..., 0., 0., 0.]), 'delta_radius': array([  448.27860591,   321.95137047,   393.87693878, ...,\n",
      "        6358.35253906, 18372.30078125, 13620.16503906]), 'delta_time': array([528976., 243136.,  16304., ..., 732471., 733249., 249284.]), 'R_prompt': array([15679.26747646,  7756.76478105, 13333.76935441, ...,\n",
      "       17399.        , 11148.52832031, 17399.        ]), 'Source': array([1., 1., 1., ..., 0., 0., 0.])}\n"
     ]
    }
   ],
   "source": [
    "all_feature = combine_dict(features_IBD,features_BKG)\n",
    "print(all_feature)"
   ]
  },
  {
   "attachments": {},
   "cell_type": "markdown",
   "metadata": {},
   "source": [
    "### Shuffle in random order"
   ]
  },
  {
   "cell_type": "code",
   "execution_count": null,
   "metadata": {},
   "outputs": [],
   "source": [
    "# ottieni il numero di righe in ogni array\n",
    "n_rows = all_feature['E_del'].shape[0]\n",
    "\n",
    "# crea un nuovo ordine casuale degli indici delle righe\n",
    "new_order = np.random.permutation(n_rows)\n",
    "\n",
    "# estrai le righe nei nuovi indici\n",
    "for key in all_feature:\n",
    "    all_feature[key] = all_feature[key][new_order]\n"
   ]
  },
  {
   "cell_type": "code",
   "execution_count": null,
   "metadata": {},
   "outputs": [
    {
     "name": "stdout",
     "output_type": "stream",
     "text": [
      "{'E_del': array([2.17341, 2.18525, 2.17214, ..., 2.10483, 2.15062, 2.28423]), 'E_pro': array([2.7247 , 4.50879, 2.27572, ..., 3.3086 , 2.75199, 4.41548]), 'R_delayed': array([10976.58836344, 14694.3567153 , 17400.00944839, ...,\n",
      "       15057.72098322,  9344.71932915, 12152.63311745]), 'Label': array([1., 1., 1., ..., 1., 1., 1.]), 'delta_radius': array([195.70153321, 537.16716319, 137.56463717, ..., 224.55014518,\n",
      "       402.04892911, 437.75964478]), 'delta_time': array([180352., 108240.,  21120., ...,  70400.,  10320.,  66720.]), 'R_prompt': array([11166.29610924, 14342.52881898, 17400.03660645, ...,\n",
      "       14856.24644323,  9181.06275762, 11865.75555546]), 'Source': array([1., 1., 1., ..., 1., 1., 1.])}\n",
      "1468385.0\n"
     ]
    }
   ],
   "source": [
    "\n",
    "print(all_feature)\n",
    "print(all_feature['Label'].sum())"
   ]
  },
  {
   "attachments": {},
   "cell_type": "markdown",
   "metadata": {},
   "source": [
    "Now some statistics about the data"
   ]
  },
  {
   "cell_type": "code",
   "execution_count": null,
   "metadata": {},
   "outputs": [
    {
     "data": {
      "text/html": [
       "<div>\n",
       "<style scoped>\n",
       "    .dataframe tbody tr th:only-of-type {\n",
       "        vertical-align: middle;\n",
       "    }\n",
       "\n",
       "    .dataframe tbody tr th {\n",
       "        vertical-align: top;\n",
       "    }\n",
       "\n",
       "    .dataframe thead th {\n",
       "        text-align: right;\n",
       "    }\n",
       "</style>\n",
       "<table border=\"1\" class=\"dataframe\">\n",
       "  <thead>\n",
       "    <tr style=\"text-align: right;\">\n",
       "      <th></th>\n",
       "      <th>E_del</th>\n",
       "      <th>E_pro</th>\n",
       "      <th>R_delayed</th>\n",
       "      <th>Label</th>\n",
       "      <th>delta_radius</th>\n",
       "      <th>delta_time</th>\n",
       "      <th>R_prompt</th>\n",
       "      <th>Source</th>\n",
       "    </tr>\n",
       "  </thead>\n",
       "  <tbody>\n",
       "    <tr>\n",
       "      <th>count</th>\n",
       "      <td>2.038541e+06</td>\n",
       "      <td>2.038541e+06</td>\n",
       "      <td>2.038541e+06</td>\n",
       "      <td>2.038541e+06</td>\n",
       "      <td>2.038541e+06</td>\n",
       "      <td>2.038541e+06</td>\n",
       "      <td>2.038541e+06</td>\n",
       "      <td>2.038541e+06</td>\n",
       "    </tr>\n",
       "    <tr>\n",
       "      <th>mean</th>\n",
       "      <td>1.844606e+00</td>\n",
       "      <td>2.722144e+00</td>\n",
       "      <td>1.378400e+04</td>\n",
       "      <td>7.203117e-01</td>\n",
       "      <td>6.111144e+03</td>\n",
       "      <td>3.060613e+05</td>\n",
       "      <td>1.379535e+04</td>\n",
       "      <td>7.235611e-01</td>\n",
       "    </tr>\n",
       "    <tr>\n",
       "      <th>std</th>\n",
       "      <td>1.349668e+00</td>\n",
       "      <td>2.002421e+00</td>\n",
       "      <td>3.500191e+03</td>\n",
       "      <td>4.488461e-01</td>\n",
       "      <td>9.966118e+03</td>\n",
       "      <td>2.826817e+05</td>\n",
       "      <td>3.489363e+03</td>\n",
       "      <td>4.472365e-01</td>\n",
       "    </tr>\n",
       "    <tr>\n",
       "      <th>min</th>\n",
       "      <td>0.000000e+00</td>\n",
       "      <td>0.000000e+00</td>\n",
       "      <td>0.000000e+00</td>\n",
       "      <td>0.000000e+00</td>\n",
       "      <td>0.000000e+00</td>\n",
       "      <td>6.410000e+02</td>\n",
       "      <td>5.884042e-09</td>\n",
       "      <td>0.000000e+00</td>\n",
       "    </tr>\n",
       "    <tr>\n",
       "      <th>25%</th>\n",
       "      <td>1.644543e+00</td>\n",
       "      <td>1.388021e+00</td>\n",
       "      <td>1.166267e+04</td>\n",
       "      <td>0.000000e+00</td>\n",
       "      <td>2.526390e+02</td>\n",
       "      <td>8.324500e+04</td>\n",
       "      <td>1.167403e+04</td>\n",
       "      <td>0.000000e+00</td>\n",
       "    </tr>\n",
       "    <tr>\n",
       "      <th>50%</th>\n",
       "      <td>2.189700e+00</td>\n",
       "      <td>2.641230e+00</td>\n",
       "      <td>1.467379e+04</td>\n",
       "      <td>1.000000e+00</td>\n",
       "      <td>4.694779e+02</td>\n",
       "      <td>2.091680e+05</td>\n",
       "      <td>1.468621e+04</td>\n",
       "      <td>1.000000e+00</td>\n",
       "    </tr>\n",
       "    <tr>\n",
       "      <th>75%</th>\n",
       "      <td>2.234860e+00</td>\n",
       "      <td>3.896370e+00</td>\n",
       "      <td>1.689186e+04</td>\n",
       "      <td>1.000000e+00</td>\n",
       "      <td>1.076251e+04</td>\n",
       "      <td>4.538080e+05</td>\n",
       "      <td>1.689937e+04</td>\n",
       "      <td>1.000000e+00</td>\n",
       "    </tr>\n",
       "    <tr>\n",
       "      <th>max</th>\n",
       "      <td>3.913881e+02</td>\n",
       "      <td>3.913881e+02</td>\n",
       "      <td>1.740007e+04</td>\n",
       "      <td>1.000000e+00</td>\n",
       "      <td>3.479791e+04</td>\n",
       "      <td>1.099998e+06</td>\n",
       "      <td>1.740007e+04</td>\n",
       "      <td>1.000000e+00</td>\n",
       "    </tr>\n",
       "  </tbody>\n",
       "</table>\n",
       "</div>"
      ],
      "text/plain": [
       "              E_del         E_pro     R_delayed         Label  delta_radius   \n",
       "count  2.038541e+06  2.038541e+06  2.038541e+06  2.038541e+06  2.038541e+06  \\\n",
       "mean   1.844606e+00  2.722144e+00  1.378400e+04  7.203117e-01  6.111144e+03   \n",
       "std    1.349668e+00  2.002421e+00  3.500191e+03  4.488461e-01  9.966118e+03   \n",
       "min    0.000000e+00  0.000000e+00  0.000000e+00  0.000000e+00  0.000000e+00   \n",
       "25%    1.644543e+00  1.388021e+00  1.166267e+04  0.000000e+00  2.526390e+02   \n",
       "50%    2.189700e+00  2.641230e+00  1.467379e+04  1.000000e+00  4.694779e+02   \n",
       "75%    2.234860e+00  3.896370e+00  1.689186e+04  1.000000e+00  1.076251e+04   \n",
       "max    3.913881e+02  3.913881e+02  1.740007e+04  1.000000e+00  3.479791e+04   \n",
       "\n",
       "         delta_time      R_prompt        Source  \n",
       "count  2.038541e+06  2.038541e+06  2.038541e+06  \n",
       "mean   3.060613e+05  1.379535e+04  7.235611e-01  \n",
       "std    2.826817e+05  3.489363e+03  4.472365e-01  \n",
       "min    6.410000e+02  5.884042e-09  0.000000e+00  \n",
       "25%    8.324500e+04  1.167403e+04  0.000000e+00  \n",
       "50%    2.091680e+05  1.468621e+04  1.000000e+00  \n",
       "75%    4.538080e+05  1.689937e+04  1.000000e+00  \n",
       "max    1.099998e+06  1.740007e+04  1.000000e+00  "
      ]
     },
     "execution_count": 29,
     "metadata": {},
     "output_type": "execute_result"
    }
   ],
   "source": [
    "import pandas as pd\n",
    "dataframe = pd.DataFrame({k:list(v) for k,v in all_feature.items()})\n",
    "dataframe.describe()"
   ]
  },
  {
   "cell_type": "code",
   "execution_count": null,
   "metadata": {},
   "outputs": [],
   "source": [
    "# import seaborn as sns\n",
    "\n",
    "\n",
    "# g = sns.PairGrid(dataframe, hue=\"Label\", hue_kws={\"marker\": [\"o\", \"s\"]})\n",
    "\n",
    "\n",
    "# g.map_diag(sns.histplot)\n",
    "# g.map_offdiag(sns.scatterplot)\n",
    "# g.add_legend()\n",
    "\n"
   ]
  },
  {
   "attachments": {},
   "cell_type": "markdown",
   "metadata": {},
   "source": [
    "# Saving data"
   ]
  },
  {
   "cell_type": "code",
   "execution_count": null,
   "metadata": {},
   "outputs": [
    {
     "name": "stdout",
     "output_type": "stream",
     "text": [
      "dict_keys(['E_del', 'E_pro', 'R_delayed', 'Label', 'delta_radius', 'delta_time', 'R_prompt', 'Source'])\n"
     ]
    }
   ],
   "source": [
    "print(all_feature.keys())"
   ]
  },
  {
   "attachments": {},
   "cell_type": "markdown",
   "metadata": {},
   "source": [
    "I've tried using root but it did not worked "
   ]
  },
  {
   "cell_type": "code",
   "execution_count": null,
   "metadata": {},
   "outputs": [],
   "source": [
    "\n",
    "# import ROOT\n",
    "\n",
    "# root_file = ROOT.TFile(\"Data/all_feature.root\", \"recreate\")\n",
    "\n",
    "# tree = ROOT.TTree(\"all_feature\", \"Tree with all features\")\n",
    "\n",
    "# # create a ROOT TBranch for each array\n",
    "# branches = {}\n",
    "# for key in all_feature.keys():\n",
    "#     branches[key] = tree.Branch(key, all_feature[key], f\"{key}[{len(all_feature[key])}]/F\")\n",
    "\n",
    "# # fill the tree with the array data\n",
    "# for i in range(len(all_feature['delta_time'])):\n",
    "#     for key in all_feature.keys():\n",
    "#         all_feature[key][i] = (i+1)*(key+1)  # set each element to a different value\n",
    "#         branches[key].Fill()   # fill the branch for this key only\n",
    "\n",
    "\n",
    "# # write the tree to the ROOT file\n",
    "# root_file.Write()\n",
    "# root_file.Close()"
   ]
  },
  {
   "cell_type": "code",
   "execution_count": null,
   "metadata": {},
   "outputs": [
    {
     "name": "stdout",
     "output_type": "stream",
     "text": [
      "{'E_del': array([2.17341, 2.18525, 2.17214, ..., 2.10483, 2.15062, 2.28423]), 'E_pro': array([2.7247 , 4.50879, 2.27572, ..., 3.3086 , 2.75199, 4.41548]), 'R_delayed': array([10976.58836344, 14694.3567153 , 17400.00944839, ...,\n",
      "       15057.72098322,  9344.71932915, 12152.63311745]), 'Label': array([1., 1., 1., ..., 1., 1., 1.]), 'delta_radius': array([195.70153321, 537.16716319, 137.56463717, ..., 224.55014518,\n",
      "       402.04892911, 437.75964478]), 'delta_time': array([180352., 108240.,  21120., ...,  70400.,  10320.,  66720.]), 'R_prompt': array([11166.29610924, 14342.52881898, 17400.03660645, ...,\n",
      "       14856.24644323,  9181.06275762, 11865.75555546]), 'Source': array([1., 1., 1., ..., 1., 1., 1.])}\n"
     ]
    }
   ],
   "source": [
    "print(all_feature)"
   ]
  },
  {
   "cell_type": "code",
   "execution_count": null,
   "metadata": {},
   "outputs": [
    {
     "ename": "NameError",
     "evalue": "name 'np' is not defined",
     "output_type": "error",
     "traceback": [
      "\u001b[0;31m---------------------------------------------------------------------------\u001b[0m",
      "\u001b[0;31mNameError\u001b[0m                                 Traceback (most recent call last)",
      "Cell \u001b[0;32mIn[1], line 1\u001b[0m\n\u001b[0;32m----> 1\u001b[0m np\u001b[39m.\u001b[39msavetxt(\u001b[39m\"\u001b[39m\u001b[39m../../../../mnt/fcufino/all_features.csv\u001b[39m\u001b[39m\"\u001b[39m, np\u001b[39m.\u001b[39mcolumn_stack(\u001b[39mlist\u001b[39m(all_feature\u001b[39m.\u001b[39mvalues())), delimiter\u001b[39m=\u001b[39m\u001b[39m\"\u001b[39m\u001b[39m,\u001b[39m\u001b[39m\"\u001b[39m, header\u001b[39m=\u001b[39m\u001b[39m\"\u001b[39m\u001b[39m,\u001b[39m\u001b[39m\"\u001b[39m\u001b[39m.\u001b[39mjoin(\u001b[39mlist\u001b[39m(all_feature\u001b[39m.\u001b[39mkeys())), comments\u001b[39m=\u001b[39m\u001b[39m\"\u001b[39m\u001b[39m\"\u001b[39m)\n",
      "\u001b[0;31mNameError\u001b[0m: name 'np' is not defined"
     ]
    }
   ],
   "source": [
    "np.savetxt(\"../../../../mnt/fcufino/all_features.csv\", np.column_stack(list(all_feature.values())), delimiter=\",\", header=\",\".join(list(all_feature.keys())), comments=\"\")"
   ]
  },
  {
   "attachments": {},
   "cell_type": "markdown",
   "metadata": {},
   "source": [
    "# Cut Algorithm "
   ]
  },
  {
   "cell_type": "code",
   "execution_count": null,
   "metadata": {},
   "outputs": [],
   "source": [
    "prompt_columns, delay_columns, delay_columns_carb = selection(all_feature[\"delta_time\"],\n",
    "                                                              all_feature[\"delta_radius\"],\n",
    "                                                              all_feature[\"E_pro\"],\n",
    "                                                              all_feature[\"E_del\"])"
   ]
  },
  {
   "cell_type": "code",
   "execution_count": null,
   "metadata": {},
   "outputs": [
    {
     "name": "stdout",
     "output_type": "stream",
     "text": [
      "Efficiency:  97.73424544652799\n",
      "Purity:  99.99818833132076\n"
     ]
    }
   ],
   "source": [
    "TP = np.logical_and(all_feature['Label'] == 1, prompt_columns == 1)\n",
    "TN = np.logical_and(all_feature['Label'] == 0, prompt_columns == 0)\n",
    "FN = np.logical_and(all_feature[\"Label\"] == 1, prompt_columns == 0)\n",
    "FP = np.logical_and(all_feature[\"Label\"] == 0, prompt_columns == 1) \n",
    "\n",
    "print(\"Efficiency: \", (TP.sum()/(TP.sum()+FN.sum())) * 100)\n",
    "print(\"Purity: \", (TP.sum()/(TP.sum()+FP.sum())) * 100)\t"
   ]
  },
  {
   "cell_type": "code",
   "execution_count": null,
   "metadata": {},
   "outputs": [],
   "source": []
  }
 ],
 "metadata": {
  "kernelspec": {
   "display_name": "Python 3 (ipykernel)",
   "language": "python",
   "name": "python3"
  },
  "language_info": {
   "codemirror_mode": {
    "name": "ipython",
    "version": 3
   },
   "file_extension": ".py",
   "mimetype": "text/x-python",
   "name": "python",
   "nbconvert_exporter": "python",
   "pygments_lexer": "ipython3",
   "version": "3.10.6"
  }
 },
 "nbformat": 4,
 "nbformat_minor": 2
}
