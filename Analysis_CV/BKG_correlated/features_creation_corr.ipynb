{
 "cells": [
  {
   "attachments": {},
   "cell_type": "markdown",
   "metadata": {},
   "source": [
    "# Creating Table of features from datas"
   ]
  },
  {
   "cell_type": "code",
   "execution_count": 1,
   "metadata": {
    "execution": {
     "iopub.execute_input": "2023-06-02T13:57:38.724358Z",
     "iopub.status.busy": "2023-06-02T13:57:38.723820Z",
     "iopub.status.idle": "2023-06-02T13:57:39.520706Z",
     "shell.execute_reply": "2023-06-02T13:57:39.519656Z"
    }
   },
   "outputs": [],
   "source": [
    "import uproot as up\n",
    "import numpy as np\n",
    "import matplotlib.pyplot as plt\n",
    "import pandas as pd\n",
    "\n",
    "plt.style.use('seaborn-v0_8-paper')\n",
    "plt.rcParams[\"patch.force_edgecolor\"] = True"
   ]
  },
  {
   "attachments": {},
   "cell_type": "markdown",
   "metadata": {},
   "source": [
    "## Imprting datasets\n",
    "For the dataset we will use\n",
    "- ibd_userfile_new_production\n",
    "- ec_He_old_production.root\n",
    "- rec_Li_old_production.root\n",
    "- rec_Th_old_production.root\n",
    "- rec_U_old_production.root\n",
    "\n",
    "for the background."
   ]
  },
  {
   "cell_type": "code",
   "execution_count": 2,
   "metadata": {
    "execution": {
     "iopub.execute_input": "2023-06-02T13:57:39.526425Z",
     "iopub.status.busy": "2023-06-02T13:57:39.525156Z",
     "iopub.status.idle": "2023-06-02T13:57:42.901530Z",
     "shell.execute_reply": "2023-06-02T13:57:42.900066Z"
    }
   },
   "outputs": [],
   "source": [
    "file_BKG_He = up.open(\"../../../../mnt/data/userfiles/rec_He_old_production.root\")\n",
    "file_BKG_Li = up.open(\"../../../../mnt/data/userfiles/rec_Li_old_production.root\")\n",
    "file_BKG_Th = up.open(\"../../../../mnt/data/userfiles/rec_Th_old_production.root\")\n",
    "file_BKG_U = up.open(\"../../../../mnt/data/userfiles/rec_U_old_production.root\")\n",
    "\n",
    "file_IBD = up.open('../../../../mnt/data/userfiles/ibd_userfile_new_production.root')\n",
    "\n",
    "\n",
    "dataset_IBD_all = file_IBD['TRec'].arrays(library = 'np')\n",
    "\n",
    "dataset_BKG_He_all = file_BKG_He['TRec'].arrays(library = 'np')\n",
    "dataset_BKG_Li_all = file_BKG_Li['TRec'].arrays(library = 'np')\n",
    "dataset_BKG_Th_all = file_BKG_Th['TRec'].arrays(library = 'np')\n",
    "dataset_BKG_U_all = file_BKG_U['TRec'].arrays(library = 'np')\n",
    "\n",
    "\n",
    "dataset_IBD = {}\n",
    "dataset_BKG_He = {}\n",
    "dataset_BKG_Li = {}\n",
    "dataset_BKG_Th = {}\n",
    "dataset_BKG_U = {}\n",
    "\n",
    "for key in ['recx', 'recy', 'recz', 'm_QEn', 'timestamp', 'SimID']:\n",
    "    dataset_IBD[key] = dataset_IBD_all[key]\n",
    "\n",
    "for key in ['recx', 'recy', 'recz', 'm_QEn', 'm_triggerT']:\n",
    "    dataset_BKG_He[key] = dataset_BKG_He_all[key]\n",
    "    dataset_BKG_Li[key] = dataset_BKG_Li_all[key]\n",
    "    dataset_BKG_Th[key] = dataset_BKG_Th_all[key]\n",
    "    dataset_BKG_U[key] = dataset_BKG_U_all[key]\n",
    "    \n",
    "\n",
    "#Adding SimID to the BKG dataset\n",
    "dataset_BKG_He[\"SimID\"] = np.arange(len(dataset_BKG_He[\"m_QEn\"]))\n",
    "dataset_BKG_Li[\"SimID\"] = np.arange(len(dataset_BKG_Li[\"m_QEn\"]))\n",
    "dataset_BKG_Th[\"SimID\"] = np.arange(len(dataset_BKG_Th[\"m_QEn\"]))\n",
    "dataset_BKG_U[\"SimID\"] = np.arange(len(dataset_BKG_U[\"m_QEn\"]))\n",
    "\n",
    "#Energy factor\n",
    "E_factor = 0.92 \n",
    "\n",
    "dataset_BKG_He[\"m_QEn\"] = dataset_BKG_He[\"m_QEn\"]*E_factor\n",
    "dataset_BKG_Li[\"m_QEn\"] = dataset_BKG_Li[\"m_QEn\"]*E_factor\n",
    "dataset_BKG_Th[\"m_QEn\"] = dataset_BKG_Th[\"m_QEn\"]*E_factor\n",
    "dataset_BKG_U[\"m_QEn\"] = dataset_BKG_U[\"m_QEn\"]*E_factor\n"
   ]
  },
  {
   "cell_type": "code",
   "execution_count": 3,
   "metadata": {},
   "outputs": [
    {
     "data": {
      "text/plain": [
       "dict_keys(['recx', 'recy', 'recz', 'recQx', 'recQy', 'recQz', 'recTx', 'recTy', 'recTz', 'recQTx', 'recQTy', 'recQTz', 'recQTt0', 'timeRecx', 'timeRecy', 'timeRecz', 'timeRecE', 'timeRect0', 'm_QR', 'm_TR', 'm_QTR', 'm_NQE', 'm_QEn', 'm_QTEn', 'm_PESum', 'm_Qstat', 'm_Tstat', 'm_QTstat', 'm_QL', 'm_TL', 'm_QTL', 'm_QRerr', 'm_TRerr', 'm_QTRerr', 'm_triggerT', 'm_dTriggerT', 'm_FadcEvtT', 'm_Qtime', 'm_Ttime', 'm_QTtime', 'm_memory', 'Truex', 'Truey', 'Truez', 'TrueQx', 'TrueQy', 'TrueQz', 'TrueR', 'TrueQR', 'edep'])"
      ]
     },
     "execution_count": 3,
     "metadata": {},
     "output_type": "execute_result"
    }
   ],
   "source": [
    "dataset_BKG_He_all.keys()"
   ]
  },
  {
   "cell_type": "code",
   "execution_count": 4,
   "metadata": {},
   "outputs": [
    {
     "data": {
      "image/png": "[encoded data removed]",
      "text/plain": [
       "<Figure size 640x440 with 1 Axes>"
      ]
     },
     "metadata": {},
     "output_type": "display_data"
    }
   ],
   "source": [
    "plt.hist(dataset_BKG_He['m_QEn'], bins = 100,label = 'He');"
   ]
  },
  {
   "cell_type": "code",
   "execution_count": 5,
   "metadata": {},
   "outputs": [
    {
     "data": {
      "text/plain": [
       "array([    0,     1,     2, ..., 99242, 99243, 99244])"
      ]
     },
     "execution_count": 5,
     "metadata": {},
     "output_type": "execute_result"
    }
   ],
   "source": [
    "dataset_BKG_He[\"SimID\"]\n",
    "# dataset_IBD_all[\"EventID\"]"
   ]
  },
  {
   "cell_type": "code",
   "execution_count": 6,
   "metadata": {},
   "outputs": [
    {
     "name": "stdout",
     "output_type": "stream",
     "text": [
      "dict_keys(['recx', 'recy', 'recz', 'm_QEn', 'm_triggerT', 'SimID'])\n",
      "dict_keys(['recx', 'recy', 'recz', 'm_QEn', 'm_triggerT', 'SimID'])\n",
      "dict_keys(['recx', 'recy', 'recz', 'm_QEn', 'm_triggerT', 'SimID'])\n",
      "dict_keys(['recx', 'recy', 'recz', 'm_QEn', 'm_triggerT', 'SimID'])\n"
     ]
    }
   ],
   "source": [
    "print(dataset_BKG_He.keys())\n",
    "print(dataset_BKG_Li.keys())\n",
    "print(dataset_BKG_Th.keys())\n",
    "print(dataset_BKG_U.keys())\n"
   ]
  },
  {
   "cell_type": "code",
   "execution_count": 7,
   "metadata": {
    "execution": {
     "iopub.execute_input": "2023-06-02T13:57:42.906644Z",
     "iopub.status.busy": "2023-06-02T13:57:42.906279Z",
     "iopub.status.idle": "2023-06-02T13:57:42.912198Z",
     "shell.execute_reply": "2023-06-02T13:57:42.911103Z"
    }
   },
   "outputs": [
    {
     "name": "stdout",
     "output_type": "stream",
     "text": [
      "IBD events:  2977856\n",
      "BKG events He:  99245\n",
      "BKG events Li:  99242\n",
      "BKG events Th:  93336\n",
      "BKG events U:  87372\n"
     ]
    }
   ],
   "source": [
    "print(\"IBD events: \", len(dataset_IBD[\"m_QEn\"]))\n",
    "print(\"BKG events He: \", len(dataset_BKG_He[\"m_QEn\"]))\n",
    "print(\"BKG events Li: \", len(dataset_BKG_Li[\"m_QEn\"]))\n",
    "print(\"BKG events Th: \", len(dataset_BKG_Th[\"m_QEn\"]))\n",
    "print(\"BKG events U: \", len(dataset_BKG_U[\"m_QEn\"]))"
   ]
  },
  {
   "attachments": {},
   "cell_type": "markdown",
   "metadata": {},
   "source": [
    "## Creation of two tables of features\n",
    "One for IBD events and one for BKG, keeping them separately.\n",
    "\n",
    "\n",
    "The feature table will have those features ($\\Delta t$, $\\Delta r$, $E_p$, $E_d$,$R_{prompt}$, $R_{delayed}$, $Label$)"
   ]
  },
  {
   "cell_type": "code",
   "execution_count": 8,
   "metadata": {
    "execution": {
     "iopub.execute_input": "2023-06-02T13:57:43.006840Z",
     "iopub.status.busy": "2023-06-02T13:57:43.006495Z",
     "iopub.status.idle": "2023-06-02T13:57:43.316123Z",
     "shell.execute_reply": "2023-06-02T13:57:43.315093Z"
    }
   },
   "outputs": [],
   "source": [
    "from numba import njit, prange"
   ]
  },
  {
   "cell_type": "code",
   "execution_count": 9,
   "metadata": {
    "execution": {
     "iopub.execute_input": "2023-06-02T13:57:43.321439Z",
     "iopub.status.busy": "2023-06-02T13:57:43.320770Z",
     "iopub.status.idle": "2023-06-02T13:57:43.345176Z",
     "shell.execute_reply": "2023-06-02T13:57:43.344149Z"
    }
   },
   "outputs": [],
   "source": [
    "@njit(parallel = True)\n",
    "def create_features_handle(x,y,z,E,t,SimID,expon_time_cut = 5 * 220e3):\n",
    "\n",
    "    n = x.shape[0] - 1\n",
    "      \n",
    "    delta_time = n*[np.zeros(0)]\n",
    "    delta_radius = n*[np.zeros(0)]\n",
    "    E_pro = n*[np.zeros(0)]\n",
    "    E_del = n*[np.zeros(0)] \n",
    "    R_prompt = n*[np.zeros(0)]\n",
    "    R_delayed = n*[np.zeros(0)]\n",
    "    Label = n*[np.zeros(0)]\n",
    "\n",
    "    for i in prange(x.shape[0] - 1):\n",
    "\n",
    "        mask = np.logical_and(t>t[i], (t - t[i]) < expon_time_cut)\n",
    "        to_loop = np.nonzero(mask)[0] \n",
    "\n",
    "        for t_index in range(len(to_loop)):\n",
    "            j = to_loop[t_index] \n",
    "\n",
    "            if (t[j] - t[i]) < expon_time_cut:\n",
    "                if (j-i)<1000 and j>i: #provvisorio\n",
    "                    delta_time[i] = np.append(delta_time[i], t[j] - t[i])\n",
    "                    delta_radius[i] = np.append(delta_radius[i], np.sqrt((x[i] - x[j])**2 + (y[i] - y[j])**2 + (z[i] - z[j])**2))\n",
    "                    E_pro[i] = np.append(E_pro[i], E[i])\n",
    "                    E_del[i] = np.append(E_del[i], E[j])\n",
    "                    R_prompt[i] = np.append(R_prompt[i],np.sqrt((x[i])**2 + (y[i])**2 + (z[i])**2))\n",
    "                    R_delayed[i] = np.append(R_delayed[i],np.sqrt((x[j])**2 + (y[j])**2 + (z[j])**2))\n",
    "                    \n",
    "                    if SimID[i] == SimID[j]:\n",
    "                        Label[i] = np.append(Label[i], 1)\n",
    "                    elif SimID[i] != SimID[j]:\n",
    "                        Label[i] = np.append(Label[i], 0)\n",
    "\n",
    "            else:\n",
    "                print(i, j, t[j] - t[i], 'Qualcosa non va')\n",
    "                break\n",
    "\n",
    "    return delta_time, delta_radius, E_pro, E_del, R_prompt, R_delayed, Label\n",
    "\n",
    "from iteration_utilities import deepflatten\n",
    "\n",
    "# Funzione per fare un flatten dell'output di Numba\n",
    "def create_features(x,y,z,E,t,SimID,expon_time_cut = 5 * 220e3):\n",
    "    res = create_features_handle(x,y,z,E,t,SimID,expon_time_cut)\n",
    "    out = []\n",
    "    for vec in res:\n",
    "        out.append(np.asarray(list(deepflatten(vec))))  \n",
    "    return out"
   ]
  },
  {
   "attachments": {},
   "cell_type": "markdown",
   "metadata": {},
   "source": [
    "### For IBD events"
   ]
  },
  {
   "cell_type": "code",
   "execution_count": 10,
   "metadata": {
    "execution": {
     "iopub.execute_input": "2023-06-02T13:57:43.350895Z",
     "iopub.status.busy": "2023-06-02T13:57:43.349705Z",
     "iopub.status.idle": "2023-06-02T14:16:27.802857Z",
     "shell.execute_reply": "2023-06-02T14:16:27.801409Z"
    }
   },
   "outputs": [],
   "source": [
    "features_IBD = {\"delta_time\": np.array([]), \n",
    "            \"delta_radius\": np.array([]),\n",
    "            \"E_pro\": np.array([]),\n",
    "            \"E_del\": np.array([]),\n",
    "            \"R_prompt\": np.array([]),\n",
    "            \"R_delayed\": np.array([]),\n",
    "            \"Label\": np.array([])} \n",
    "\n",
    "cut = 100000\n",
    "features_IBD[\"delta_time\"],features_IBD[\"delta_radius\"],features_IBD[\"E_pro\"],features_IBD[\"E_del\"],features_IBD[\"R_prompt\"],features_IBD[\"R_delayed\"],features_IBD['Label']  = create_features(\n",
    "    dataset_IBD[\"recx\"][:cut],\n",
    "    dataset_IBD[\"recy\"][:cut],\n",
    "    dataset_IBD[\"recz\"][:cut],\n",
    "    dataset_IBD[\"m_QEn\"][:cut],\n",
    "    dataset_IBD[\"timestamp\"][:cut],\n",
    "    dataset_IBD[\"SimID\"][:cut])\n",
    "\n",
    "\n"
   ]
  },
  {
   "cell_type": "code",
   "execution_count": 11,
   "metadata": {
    "execution": {
     "iopub.execute_input": "2023-06-02T14:16:27.808042Z",
     "iopub.status.busy": "2023-06-02T14:16:27.807775Z",
     "iopub.status.idle": "2023-06-02T14:16:27.813848Z",
     "shell.execute_reply": "2023-06-02T14:16:27.813329Z"
    }
   },
   "outputs": [
    {
     "name": "stdout",
     "output_type": "stream",
     "text": [
      "49492\n",
      "49492\n",
      "49492\n",
      "49492\n",
      "49492\n",
      "49492\n",
      "99.56558635739108\n"
     ]
    }
   ],
   "source": [
    "print(features_IBD[\"delta_time\"].shape[0])\n",
    "print(features_IBD[\"delta_radius\"].shape[0])\n",
    "print(features_IBD[\"E_pro\"].shape[0])\n",
    "print(features_IBD[\"E_del\"].shape[0])\n",
    "print(features_IBD[\"R_prompt\"].shape[0])\n",
    "print(features_IBD[\"R_delayed\"].shape[0])\n",
    "print((features_IBD[\"Label\"].sum()/features_IBD[\"Label\"].shape[0]) * 100)"
   ]
  },
  {
   "attachments": {},
   "cell_type": "markdown",
   "metadata": {},
   "source": [
    "Tolgo tutti gli IBD uncorrelated, non utili perq ueesto tipo di analisi"
   ]
  },
  {
   "cell_type": "code",
   "execution_count": 21,
   "metadata": {},
   "outputs": [],
   "source": [
    "mask_true_IBD = np.logical_and(features_IBD[\"Label\"] == 1, True)\n",
    "\n",
    "for key in features_IBD.keys():\n",
    "    features_IBD[key] = features_IBD[key][mask_true_IBD]"
   ]
  },
  {
   "cell_type": "code",
   "execution_count": 22,
   "metadata": {},
   "outputs": [
    {
     "data": {
      "text/plain": [
       "49277"
      ]
     },
     "execution_count": 22,
     "metadata": {},
     "output_type": "execute_result"
    }
   ],
   "source": [
    "features_IBD[\"E_del\"].shape[0]"
   ]
  },
  {
   "attachments": {},
   "cell_type": "markdown",
   "metadata": {},
   "source": [
    "### For the BKG events"
   ]
  },
  {
   "cell_type": "code",
   "execution_count": 23,
   "metadata": {
    "execution": {
     "iopub.execute_input": "2023-06-02T14:16:27.816731Z",
     "iopub.status.busy": "2023-06-02T14:16:27.816166Z",
     "iopub.status.idle": "2023-06-02T16:53:21.512581Z",
     "shell.execute_reply": "2023-06-02T16:53:21.511333Z"
    }
   },
   "outputs": [],
   "source": [
    "features_BKG_He = {\"delta_time\": np.array([]),\n",
    "                \"delta_radius\": np.array([]),\n",
    "                \"E_pro\": np.array([]),\n",
    "                \"E_del\": np.array([]),\n",
    "                \"R_prompt\": np.array([]),\n",
    "                \"R_delayed\": np.array([]),\n",
    "                \"Label\": np.array([])} \n",
    "\n",
    "\n",
    "features_BKG_He[\"delta_time\"],features_BKG_He[\"delta_radius\"],features_BKG_He[\"E_pro\"],features_BKG_He[\"E_del\"],features_BKG_He[\"R_prompt\"],features_BKG_He[\"R_delayed\"],features_BKG_He[\"Label\"] = create_features(\n",
    "        dataset_BKG_He[\"recx\"],\n",
    "        dataset_BKG_He[\"recy\"],\n",
    "        dataset_BKG_He[\"recz\"],\n",
    "        dataset_BKG_He[\"m_QEn\"],\n",
    "        dataset_BKG_He[\"m_triggerT\"],\n",
    "        dataset_BKG_He[\"SimID\"])\n",
    "\n",
    "\n",
    "features_BKG_Li = {\"delta_time\": np.array([]),\n",
    "                \"delta_radius\": np.array([]),  \n",
    "                \"E_pro\": np.array([]),\n",
    "                \"E_del\": np.array([]),\n",
    "                \"R_prompt\": np.array([]),\n",
    "                \"R_delayed\": np.array([]),\n",
    "                \"Label\": np.array([])}\n",
    "\n",
    "features_BKG_Li[\"delta_time\"],features_BKG_Li[\"delta_radius\"],features_BKG_Li[\"E_pro\"],features_BKG_Li[\"E_del\"],features_BKG_Li[\"R_prompt\"],features_BKG_Li[\"R_delayed\"],features_BKG_Li[\"Label\"] = create_features(\n",
    "        dataset_BKG_Li[\"recx\"],\n",
    "        dataset_BKG_Li[\"recy\"],\n",
    "        dataset_BKG_Li[\"recz\"],\n",
    "        dataset_BKG_Li[\"m_QEn\"],\n",
    "        dataset_BKG_Li[\"m_triggerT\"],\n",
    "        dataset_BKG_Li[\"SimID\"])\n",
    "\n",
    "features_BKG_Th = {\"delta_time\": np.array([]),\n",
    "                \"delta_radius\": np.array([]),\n",
    "                \"E_pro\": np.array([]),\n",
    "                \"E_del\": np.array([]),\n",
    "                \"R_prompt\": np.array([]),\n",
    "                \"R_delayed\": np.array([]),\n",
    "                \"Label\": np.array([])}\n",
    "\n",
    "features_BKG_Th[\"delta_time\"],features_BKG_Th[\"delta_radius\"],features_BKG_Th[\"E_pro\"],features_BKG_Th[\"E_del\"],features_BKG_Th[\"R_prompt\"],features_BKG_Th[\"R_delayed\"],features_BKG_Th[\"Label\"] = create_features(\n",
    "        dataset_BKG_Th[\"recx\"],\n",
    "        dataset_BKG_Th[\"recy\"],\n",
    "        dataset_BKG_Th[\"recz\"],\n",
    "        dataset_BKG_Th[\"m_QEn\"],\n",
    "        dataset_BKG_Th[\"m_triggerT\"],\n",
    "        dataset_BKG_Th[\"SimID\"])\n",
    "\n",
    "features_BKG_U = {\"delta_time\": np.array([]),\n",
    "                \"delta_radius\": np.array([]),\n",
    "                \"E_pro\": np.array([]),\n",
    "                \"E_del\": np.array([]),\n",
    "                \"R_prompt\": np.array([]),\n",
    "                \"R_delayed\": np.array([]),\n",
    "                \"Label\": np.array([])}\n",
    "\n",
    "features_BKG_U[\"delta_time\"],features_BKG_U[\"delta_radius\"],features_BKG_U[\"E_pro\"],features_BKG_U[\"E_del\"],features_BKG_U[\"R_prompt\"],features_BKG_U[\"R_delayed\"],features_BKG_U[\"Label\"] = create_features(\n",
    "        dataset_BKG_U[\"recx\"],\n",
    "        dataset_BKG_U[\"recy\"],\n",
    "        dataset_BKG_U[\"recz\"],\n",
    "        dataset_BKG_U[\"m_QEn\"],\n",
    "        dataset_BKG_U[\"m_triggerT\"],\n",
    "        dataset_BKG_U[\"SimID\"])\n"
   ]
  },
  {
   "cell_type": "code",
   "execution_count": 24,
   "metadata": {
    "execution": {
     "iopub.execute_input": "2023-06-02T16:53:21.517491Z",
     "iopub.status.busy": "2023-06-02T16:53:21.516748Z",
     "iopub.status.idle": "2023-06-02T16:53:21.521581Z",
     "shell.execute_reply": "2023-06-02T16:53:21.521063Z"
    }
   },
   "outputs": [
    {
     "name": "stdout",
     "output_type": "stream",
     "text": [
      "He --------------------\n",
      "44916\n",
      "44916\n",
      "44916\n",
      "44916\n",
      "44916\n",
      "44916\n",
      "44916\n",
      "Li --------------------\n",
      "44872\n",
      "44872\n",
      "44872\n",
      "44872\n",
      "44872\n",
      "44872\n",
      "44872\n",
      "Th --------------------\n",
      "42284\n",
      "42284\n",
      "42284\n",
      "42284\n",
      "42284\n",
      "42284\n",
      "42284\n",
      "U --------------------\n",
      "39578\n",
      "39578\n",
      "39578\n",
      "39578\n",
      "39578\n",
      "39578\n",
      "39578\n"
     ]
    }
   ],
   "source": [
    "print(\"He --------------------\")\n",
    "\n",
    "print(features_BKG_He[\"delta_time\"].shape[0])\n",
    "print(features_BKG_He[\"delta_radius\"].shape[0])\n",
    "print(features_BKG_He[\"E_pro\"].shape[0])\n",
    "print(features_BKG_He[\"E_del\"].shape[0])\n",
    "print(features_BKG_He[\"R_prompt\"].shape[0])\n",
    "print(features_BKG_He[\"R_delayed\"].shape[0])\n",
    "print(features_BKG_He[\"Label\"].shape[0])\n",
    "\n",
    "print(\"Li --------------------\")\n",
    "\n",
    "print(features_BKG_Li[\"delta_time\"].shape[0])\n",
    "print(features_BKG_Li[\"delta_radius\"].shape[0])\n",
    "print(features_BKG_Li[\"E_pro\"].shape[0])\n",
    "print(features_BKG_Li[\"E_del\"].shape[0])\n",
    "print(features_BKG_Li[\"R_prompt\"].shape[0])\n",
    "print(features_BKG_Li[\"R_delayed\"].shape[0])\n",
    "print(features_BKG_Li[\"Label\"].shape[0])\n",
    "\n",
    "print(\"Th --------------------\")\n",
    "\n",
    "print(features_BKG_Th[\"delta_time\"].shape[0])\n",
    "print(features_BKG_Th[\"delta_radius\"].shape[0])\n",
    "print(features_BKG_Th[\"E_pro\"].shape[0])\n",
    "print(features_BKG_Th[\"E_del\"].shape[0])\n",
    "print(features_BKG_Th[\"R_prompt\"].shape[0])\n",
    "print(features_BKG_Th[\"R_delayed\"].shape[0])\n",
    "print(features_BKG_Th[\"Label\"].shape[0])\n",
    "\n",
    "print(\"U --------------------\")\n",
    "\n",
    "print(features_BKG_U[\"delta_time\"].shape[0])\n",
    "print(features_BKG_U[\"delta_radius\"].shape[0])\n",
    "print(features_BKG_U[\"E_pro\"].shape[0])\n",
    "print(features_BKG_U[\"E_del\"].shape[0])\n",
    "print(features_BKG_U[\"R_prompt\"].shape[0])\n",
    "print(features_BKG_U[\"R_delayed\"].shape[0])\n",
    "print(features_BKG_U[\"Label\"].shape[0])"
   ]
  },
  {
   "attachments": {},
   "cell_type": "markdown",
   "metadata": {},
   "source": [
    "# Merging the IBD and BKG tables, but the tables before the cuts "
   ]
  },
  {
   "cell_type": "code",
   "execution_count": 25,
   "metadata": {
    "execution": {
     "iopub.execute_input": "2023-06-02T16:53:26.890490Z",
     "iopub.status.busy": "2023-06-02T16:53:26.889897Z",
     "iopub.status.idle": "2023-06-02T16:53:26.894522Z",
     "shell.execute_reply": "2023-06-02T16:53:26.894054Z"
    }
   },
   "outputs": [],
   "source": [
    "def combine_dict(d1, d2):\n",
    "    combined = {}\n",
    "    for k in set(d1.keys()) | set(d2.keys()):\n",
    "        if k in d1 and k in d2 and isinstance(d1[k], np.ndarray) and isinstance(d2[k], np.ndarray):\n",
    "            combined[k] = np.concatenate([d1[k], d2[k]])\n",
    "        elif k in d1:\n",
    "            combined[k] = d1[k]\n",
    "        else:\n",
    "            combined[k] = d2[k]\n",
    "    source = np.concatenate([np.full_like(d1.get(k, []), 1), np.full_like(d2.get(k, []), 0)])\n",
    "    return {**combined, 'Source': source}\n",
    "    "
   ]
  },
  {
   "cell_type": "code",
   "execution_count": 26,
   "metadata": {
    "execution": {
     "iopub.execute_input": "2023-06-02T16:53:26.897211Z",
     "iopub.status.busy": "2023-06-02T16:53:26.896602Z",
     "iopub.status.idle": "2023-06-02T16:53:26.943261Z",
     "shell.execute_reply": "2023-06-02T16:53:26.942688Z"
    }
   },
   "outputs": [],
   "source": [
    "all_feature_IBD_He = combine_dict(features_IBD,features_BKG_He)\n",
    "all_feature_IBD_Li = combine_dict(features_IBD,features_BKG_Li)\n",
    "all_feature_IBD_Th = combine_dict(features_IBD,features_BKG_Th)\n",
    "all_feature_IBD_U = combine_dict(features_IBD,features_BKG_U)\n"
   ]
  },
  {
   "attachments": {},
   "cell_type": "markdown",
   "metadata": {},
   "source": [
    "### Shuffle in random order"
   ]
  },
  {
   "cell_type": "code",
   "execution_count": 27,
   "metadata": {
    "execution": {
     "iopub.execute_input": "2023-06-02T16:53:26.946247Z",
     "iopub.status.busy": "2023-06-02T16:53:26.945658Z",
     "iopub.status.idle": "2023-06-02T16:53:27.241213Z",
     "shell.execute_reply": "2023-06-02T16:53:27.240613Z"
    }
   },
   "outputs": [],
   "source": [
    "# ottieni il numero di righe in ogni array\n",
    "n_rows_He = all_feature_IBD_He['E_del'].shape[0]\n",
    "n_rows_Li = all_feature_IBD_Li['E_del'].shape[0]\n",
    "n_rows_Th = all_feature_IBD_Th['E_del'].shape[0]\n",
    "n_rows_U = all_feature_IBD_U['E_del'].shape[0]\n",
    "\n",
    "\n",
    "# crea un nuovo ordine casuale degli indici delle righe\n",
    "new_order_He = np.random.permutation(n_rows_He)\n",
    "new_order_Li = np.random.permutation(n_rows_Li)\n",
    "new_order_Th = np.random.permutation(n_rows_Th)\n",
    "new_order_U = np.random.permutation(n_rows_U)\n",
    "\n",
    "\n",
    "# estrai le righe nei nuovi indici\n",
    "for key in all_feature_IBD_He:\t\n",
    "    all_feature_IBD_He[key] = all_feature_IBD_He[key][new_order_He]\n",
    "\n",
    "for key in all_feature_IBD_Li:\n",
    "    all_feature_IBD_Li[key] = all_feature_IBD_Li[key][new_order_Li]\n",
    "\n",
    "for key in all_feature_IBD_Th:\n",
    "    all_feature_IBD_Th[key] = all_feature_IBD_Th[key][new_order_Th]\n",
    "\n",
    "for key in all_feature_IBD_U:\n",
    "    all_feature_IBD_U[key] = all_feature_IBD_U[key][new_order_U]\n"
   ]
  },
  {
   "cell_type": "code",
   "execution_count": 28,
   "metadata": {
    "execution": {
     "iopub.execute_input": "2023-06-02T16:53:27.244646Z",
     "iopub.status.busy": "2023-06-02T16:53:27.244112Z",
     "iopub.status.idle": "2023-06-02T16:53:27.251089Z",
     "shell.execute_reply": "2023-06-02T16:53:27.250567Z"
    }
   },
   "outputs": [
    {
     "name": "stdout",
     "output_type": "stream",
     "text": [
      "{'R_prompt': array([14520.82663181, 13607.76269531, 11480.91714989, ...,\n",
      "       10903.49663392, 13875.20530194, 11761.2578125 ]), 'E_del': array([2.23705   , 2.16394639, 2.18177   , ..., 2.27833   , 2.24707   ,\n",
      "       2.33298779]), 'delta_radius': array([202.18014245, 341.42871094, 333.45426328, ..., 190.72592561,\n",
      "       560.46292759, 357.78448486]), 'R_delayed': array([14454.55737195, 13572.76855469, 11183.72424394, ...,\n",
      "       11008.46474348, 14181.90616719, 11939.56054688]), 'Label': array([1., 0., 1., ..., 1., 1., 0.]), 'E_pro': array([4.08461   , 4.44415665, 1.21404   , ..., 4.78729   , 2.09677   ,\n",
      "       0.99280924]), 'delta_time': array([192815., 131072.,  62736., ..., 300736.,   2704., 786432.]), 'Source': array([1., 0., 1., ..., 1., 1., 0.])}\n"
     ]
    },
    {
     "data": {
      "text/plain": [
       "<matplotlib.collections.PathCollection at 0x7f3010d67fd0>"
      ]
     },
     "execution_count": 28,
     "metadata": {},
     "output_type": "execute_result"
    },
    {
     "data": {
      "image/png": "[encoded data removed]",
      "text/plain": [
       "<Figure size 640x440 with 1 Axes>"
      ]
     },
     "metadata": {},
     "output_type": "display_data"
    }
   ],
   "source": [
    "print(all_feature_IBD_He)\n",
    "\n",
    "plt.scatter(np.arange(all_feature_IBD_He['Label'][:100].shape[0]), all_feature_IBD_He['Label'][:100])"
   ]
  },
  {
   "attachments": {},
   "cell_type": "markdown",
   "metadata": {},
   "source": [
    "# Saving data"
   ]
  },
  {
   "cell_type": "code",
   "execution_count": 29,
   "metadata": {
    "execution": {
     "iopub.execute_input": "2023-06-02T16:53:31.522547Z",
     "iopub.status.busy": "2023-06-02T16:53:31.522111Z",
     "iopub.status.idle": "2023-06-02T16:53:31.525733Z",
     "shell.execute_reply": "2023-06-02T16:53:31.525086Z"
    }
   },
   "outputs": [
    {
     "name": "stdout",
     "output_type": "stream",
     "text": [
      "dict_keys(['R_prompt', 'E_del', 'delta_radius', 'R_delayed', 'Label', 'E_pro', 'delta_time', 'Source'])\n"
     ]
    }
   ],
   "source": [
    "print(all_feature_IBD_He.keys())"
   ]
  },
  {
   "cell_type": "code",
   "execution_count": 30,
   "metadata": {
    "execution": {
     "iopub.execute_input": "2023-06-02T16:53:31.539619Z",
     "iopub.status.busy": "2023-06-02T16:53:31.539062Z",
     "iopub.status.idle": "2023-06-02T16:53:44.020737Z",
     "shell.execute_reply": "2023-06-02T16:53:44.020139Z"
    }
   },
   "outputs": [],
   "source": [
    "np.savetxt(\"../../../../mnt/fcufino/all_features_IBD_He.csv\", np.column_stack(list(all_feature_IBD_He.values())), delimiter=\",\", header=\",\".join(list(all_feature_IBD_He.keys())), comments=\"\")\n",
    "np.savetxt(\"../../../../mnt/fcufino/all_features_IBD_Li.csv\", np.column_stack(list(all_feature_IBD_Li.values())), delimiter=\",\", header=\",\".join(list(all_feature_IBD_Li.keys())), comments=\"\") \n",
    "np.savetxt(\"../../../../mnt/fcufino/all_features_IBD_Th.csv\", np.column_stack(list(all_feature_IBD_Th.values())), delimiter=\",\", header=\",\".join(list(all_feature_IBD_Th.keys())), comments=\"\")\n",
    "np.savetxt(\"../../../../mnt/fcufino/all_features_IBD_U.csv\", np.column_stack(list(all_feature_IBD_U.values())), delimiter=\",\", header=\",\".join(list(all_feature_IBD_U.keys())), comments=\"\")\n"
   ]
  }
 ],
 "metadata": {
  "kernelspec": {
   "display_name": "Python 3 (ipykernel)",
   "language": "python",
   "name": "python3"
  },
  "language_info": {
   "codemirror_mode": {
    "name": "ipython",
    "version": 3
   },
   "file_extension": ".py",
   "mimetype": "text/x-python",
   "name": "python",
   "nbconvert_exporter": "python",
   "pygments_lexer": "ipython3",
   "version": "3.10.6"
  }
 },
 "nbformat": 4,
 "nbformat_minor": 2
}
