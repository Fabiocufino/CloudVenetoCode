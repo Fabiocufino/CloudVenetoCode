{
 "cells": [
  {
   "attachments": {},
   "cell_type": "markdown",
   "metadata": {},
   "source": [
    "# Dealing with inbalanced Dataset\n",
    "\n",
    "We have a dataset in realisitc proportion, we could oversemple but it will not be good.\n",
    "\n",
    "We have a lot of IBD events created by Andrea and also a lot of radioactivity events. If we sort them in temporal order we get that there will be a little amount of IBD in all the radioactivity events, because it is more frequently have radioactivity events respect of IBD that are rare. \n",
    "\n",
    "So in order to train our ML-algorithm we could use generated IBD events and generated Radioactivity events, so in that cse we have basically the same amount of data and the inbalanced problem will disappear. After the training, we test with inbalaced dataset.\n",
    "\n",
    "Basically we use a smote \n",
    "\n",
    "We will se if it works... -> It worked!"
   ]
  },
  {
   "attachments": {},
   "cell_type": "markdown",
   "metadata": {},
   "source": [
    "# Loading data"
   ]
  },
  {
   "cell_type": "code",
   "execution_count": 73,
   "metadata": {
    "execution": {
     "iopub.execute_input": "2023-06-06T08:32:24.647157Z",
     "iopub.status.busy": "2023-06-06T08:32:24.646688Z",
     "iopub.status.idle": "2023-06-06T08:32:25.213242Z",
     "shell.execute_reply": "2023-06-06T08:32:25.212609Z"
    }
   },
   "outputs": [],
   "source": [
    "import uproot as up\n",
    "import numpy as np\n",
    "import matplotlib.pyplot as plt\n",
    "import pandas as pd\n",
    "\n",
    "plt.style.use('seaborn-v0_8-paper')\n",
    "plt.rcParams[\"patch.force_edgecolor\"] = True"
   ]
  },
  {
   "cell_type": "code",
   "execution_count": 74,
   "metadata": {
    "execution": {
     "iopub.execute_input": "2023-06-06T08:32:25.217386Z",
     "iopub.status.busy": "2023-06-06T08:32:25.216786Z",
     "iopub.status.idle": "2023-06-06T08:32:25.219769Z",
     "shell.execute_reply": "2023-06-06T08:32:25.219293Z"
    }
   },
   "outputs": [],
   "source": [
    "# file_all_features = up.open(\"Data/all_feature.root\")\n",
    "# all_feature = file_all_features['all_feature'].arrays(library = 'np')"
   ]
  },
  {
   "cell_type": "code",
   "execution_count": 75,
   "metadata": {
    "execution": {
     "iopub.execute_input": "2023-06-06T08:32:25.222389Z",
     "iopub.status.busy": "2023-06-06T08:32:25.222015Z",
     "iopub.status.idle": "2023-06-06T08:32:28.356387Z",
     "shell.execute_reply": "2023-06-06T08:32:28.355683Z"
    }
   },
   "outputs": [],
   "source": [
    "all_feature_IBD_He = pd.read_csv(\"../../../../mnt/fcufino/all_features_IBD_He.csv\")"
   ]
  },
  {
   "attachments": {},
   "cell_type": "markdown",
   "metadata": {},
   "source": [
    "## Checking the dataset size"
   ]
  },
  {
   "cell_type": "code",
   "execution_count": 76,
   "metadata": {
    "execution": {
     "iopub.execute_input": "2023-06-06T08:32:28.360594Z",
     "iopub.status.busy": "2023-06-06T08:32:28.360026Z",
     "iopub.status.idle": "2023-06-06T08:32:28.574572Z",
     "shell.execute_reply": "2023-06-06T08:32:28.574016Z"
    }
   },
   "outputs": [
    {
     "data": {
      "text/plain": [
       "(array([  51540., 1468385.]),\n",
       " array([0., 1., 2.]),\n",
       " <BarContainer object of 2 artists>)"
      ]
     },
     "execution_count": 76,
     "metadata": {},
     "output_type": "execute_result"
    },
    {
     "data": {
      "image/png": "[encoded data removed]",
      "text/plain": [
       "<Figure size 640x440 with 1 Axes>"
      ]
     },
     "metadata": {},
     "output_type": "display_data"
    }
   ],
   "source": [
    "#plot a hist that counts the IBD and BKG\n",
    "plt.hist(all_feature_IBD_He['Label'], bins = 2, range = (0,2), histtype = 'bar', rwidth = 0.8, color = 'b', label = 'BKG')\n",
    "\n",
    "\n"
   ]
  },
  {
   "attachments": {},
   "cell_type": "markdown",
   "metadata": {},
   "source": [
    "# Balancing the dataset"
   ]
  },
  {
   "cell_type": "code",
   "execution_count": 77,
   "metadata": {
    "execution": {
     "iopub.execute_input": "2023-06-06T08:32:28.577654Z",
     "iopub.status.busy": "2023-06-06T08:32:28.577213Z",
     "iopub.status.idle": "2023-06-06T08:32:28.672389Z",
     "shell.execute_reply": "2023-06-06T08:32:28.671732Z"
    }
   },
   "outputs": [
    {
     "name": "stdout",
     "output_type": "stream",
     "text": [
      "BKG:  51540\n",
      "IBD:  1468385\n"
     ]
    }
   ],
   "source": [
    "print(\"BKG: \", all_feature_IBD_He[\"delta_time\"][all_feature_IBD_He['Label']==0].shape[0])\n",
    "print(\"IBD: \", all_feature_IBD_He[\"delta_time\"][all_feature_IBD_He['Label']==1].shape[0]) "
   ]
  },
  {
   "attachments": {},
   "cell_type": "markdown",
   "metadata": {},
   "source": [
    "Sotto per mostrare che nel dataset BKG ci sono anche IBD non correlati"
   ]
  },
  {
   "cell_type": "code",
   "execution_count": 78,
   "metadata": {
    "execution": {
     "iopub.execute_input": "2023-06-06T08:32:28.675580Z",
     "iopub.status.busy": "2023-06-06T08:32:28.675107Z",
     "iopub.status.idle": "2023-06-06T08:32:28.716787Z",
     "shell.execute_reply": "2023-06-06T08:32:28.716243Z"
    }
   },
   "outputs": [
    {
     "name": "stdout",
     "output_type": "stream",
     "text": [
      "[0. 1.]\n"
     ]
    }
   ],
   "source": [
    "print(all_feature_IBD_He['Source'][all_feature_IBD_He[\"Label\"]==0].unique())"
   ]
  },
  {
   "cell_type": "code",
   "execution_count": 79,
   "metadata": {
    "execution": {
     "iopub.execute_input": "2023-06-06T08:32:28.719671Z",
     "iopub.status.busy": "2023-06-06T08:32:28.719207Z",
     "iopub.status.idle": "2023-06-06T08:32:28.722937Z",
     "shell.execute_reply": "2023-06-06T08:32:28.722426Z"
    }
   },
   "outputs": [
    {
     "name": "stdout",
     "output_type": "stream",
     "text": [
      "R_prompt\n",
      "R_delayed\n",
      "E_pro\n",
      "delta_time\n",
      "delta_radius\n",
      "Label\n",
      "E_del\n",
      "Source\n",
      "Index(['R_prompt', 'R_delayed', 'E_pro', 'delta_time', 'delta_radius', 'Label',\n",
      "       'E_del', 'Source'],\n",
      "      dtype='object')\n"
     ]
    }
   ],
   "source": [
    "for key in all_feature_IBD_He.keys():\n",
    "    print(key)\n",
    "print(all_feature_IBD_He.keys())"
   ]
  },
  {
   "cell_type": "code",
   "execution_count": 80,
   "metadata": {
    "execution": {
     "iopub.execute_input": "2023-06-06T08:32:28.725339Z",
     "iopub.status.busy": "2023-06-06T08:32:28.724981Z",
     "iopub.status.idle": "2023-06-06T08:32:29.244375Z",
     "shell.execute_reply": "2023-06-06T08:32:29.243748Z"
    }
   },
   "outputs": [
    {
     "name": "stdout",
     "output_type": "stream",
     "text": [
      "BKG: 51540\n",
      "IBD: 51540\n"
     ]
    }
   ],
   "source": [
    "# Elimina gli elementi desiderati dal dataset\n",
    "num_IBD = all_feature_IBD_He[\"delta_time\"][all_feature_IBD_He['Label']==1].shape[0]\n",
    "num_BKG = all_feature_IBD_He[\"delta_time\"][all_feature_IBD_He['Label']==0].shape[0]\n",
    "\n",
    "del_BKG = 0\n",
    "del_IBD = 0\n",
    "\n",
    "if num_IBD > num_BKG:\n",
    "    del_IBD = num_IBD - num_BKG\n",
    "    to_del_ibd = all_feature_IBD_He.shape[0] - del_IBD\n",
    "    order = np.argsort(all_feature_IBD_He[\"Label\"])\n",
    "    all_feature = all_feature_IBD_He.iloc[order].dropna()\n",
    "    all_feature = all_feature.iloc[:to_del_ibd]\n",
    "\n",
    "elif num_IBD < num_BKG:\n",
    "    del_BKG = num_BKG - num_IBD\n",
    "    order = np.argsort(all_feature_IBD_He[\"Label\"])\n",
    "    all_feature = all_feature_IBD_He.iloc[order].dropna()\n",
    "    all_feature = all_feature.iloc[del_BKG:]\n",
    "\n",
    "print(\"BKG:\", num_BKG - del_BKG) \n",
    "print(\"IBD:\", num_IBD - del_IBD)"
   ]
  },
  {
   "attachments": {},
   "cell_type": "markdown",
   "metadata": {},
   "source": [
    "# Plots"
   ]
  },
  {
   "cell_type": "code",
   "execution_count": 109,
   "metadata": {
    "execution": {
     "iopub.execute_input": "2023-06-06T08:32:29.247559Z",
     "iopub.status.busy": "2023-06-06T08:32:29.247080Z",
     "iopub.status.idle": "2023-06-06T08:32:29.262351Z",
     "shell.execute_reply": "2023-06-06T08:32:29.261851Z"
    }
   },
   "outputs": [
    {
     "name": "stdout",
     "output_type": "stream",
     "text": [
      "51540\n",
      "51540\n"
     ]
    }
   ],
   "source": [
    "print(np.logical_and(all_feature[\"Label\"] == 0 , True).sum())\n",
    "print(np.logical_and(all_feature[\"Label\"] == 1 , True).sum())"
   ]
  },
  {
   "cell_type": "code",
   "execution_count": 110,
   "metadata": {
    "execution": {
     "iopub.execute_input": "2023-06-06T08:32:29.265031Z",
     "iopub.status.busy": "2023-06-06T08:32:29.264588Z",
     "iopub.status.idle": "2023-06-06T08:32:29.945462Z",
     "shell.execute_reply": "2023-06-06T08:32:29.944797Z"
    }
   },
   "outputs": [
    {
     "name": "stderr",
     "output_type": "stream",
     "text": [
      "Boolean Series key will be reindexed to match DataFrame index.\n"
     ]
    },
    {
     "data": {
      "text/html": [
       "<div>\n",
       "<style scoped>\n",
       "    .dataframe tbody tr th:only-of-type {\n",
       "        vertical-align: middle;\n",
       "    }\n",
       "\n",
       "    .dataframe tbody tr th {\n",
       "        vertical-align: top;\n",
       "    }\n",
       "\n",
       "    .dataframe thead th {\n",
       "        text-align: right;\n",
       "    }\n",
       "</style>\n",
       "<table border=\"1\" class=\"dataframe\">\n",
       "  <thead>\n",
       "    <tr style=\"text-align: right;\">\n",
       "      <th></th>\n",
       "      <th>R_prompt</th>\n",
       "      <th>R_delayed</th>\n",
       "      <th>E_pro</th>\n",
       "      <th>delta_time</th>\n",
       "      <th>delta_radius</th>\n",
       "      <th>Label</th>\n",
       "      <th>E_del</th>\n",
       "      <th>Source</th>\n",
       "    </tr>\n",
       "  </thead>\n",
       "  <tbody>\n",
       "    <tr>\n",
       "      <th>count</th>\n",
       "      <td>51540.000000</td>\n",
       "      <td>51540.000000</td>\n",
       "      <td>51540.000000</td>\n",
       "      <td>5.154000e+04</td>\n",
       "      <td>51540.000000</td>\n",
       "      <td>51540.0</td>\n",
       "      <td>51540.000000</td>\n",
       "      <td>51540.000000</td>\n",
       "    </tr>\n",
       "    <tr>\n",
       "      <th>mean</th>\n",
       "      <td>13217.818278</td>\n",
       "      <td>13200.884025</td>\n",
       "      <td>3.637780</td>\n",
       "      <td>2.731694e+05</td>\n",
       "      <td>2765.297156</td>\n",
       "      <td>0.0</td>\n",
       "      <td>2.341956</td>\n",
       "      <td>0.128522</td>\n",
       "    </tr>\n",
       "    <tr>\n",
       "      <th>std</th>\n",
       "      <td>3398.112042</td>\n",
       "      <td>3405.616599</td>\n",
       "      <td>1.479604</td>\n",
       "      <td>2.416467e+05</td>\n",
       "      <td>6484.842352</td>\n",
       "      <td>0.0</td>\n",
       "      <td>0.580165</td>\n",
       "      <td>0.334673</td>\n",
       "    </tr>\n",
       "    <tr>\n",
       "      <th>min</th>\n",
       "      <td>472.395857</td>\n",
       "      <td>0.000006</td>\n",
       "      <td>0.184581</td>\n",
       "      <td>7.680000e+02</td>\n",
       "      <td>4.989534</td>\n",
       "      <td>0.0</td>\n",
       "      <td>0.232103</td>\n",
       "      <td>0.000000</td>\n",
       "    </tr>\n",
       "    <tr>\n",
       "      <th>25%</th>\n",
       "      <td>11136.333204</td>\n",
       "      <td>11100.110596</td>\n",
       "      <td>2.382273</td>\n",
       "      <td>8.601600e+04</td>\n",
       "      <td>243.844948</td>\n",
       "      <td>0.0</td>\n",
       "      <td>2.202244</td>\n",
       "      <td>0.000000</td>\n",
       "    </tr>\n",
       "    <tr>\n",
       "      <th>50%</th>\n",
       "      <td>13966.778320</td>\n",
       "      <td>13971.937500</td>\n",
       "      <td>3.540572</td>\n",
       "      <td>1.966080e+05</td>\n",
       "      <td>398.017471</td>\n",
       "      <td>0.0</td>\n",
       "      <td>2.242224</td>\n",
       "      <td>0.000000</td>\n",
       "    </tr>\n",
       "    <tr>\n",
       "      <th>75%</th>\n",
       "      <td>15977.854004</td>\n",
       "      <td>15958.366455</td>\n",
       "      <td>4.687610</td>\n",
       "      <td>3.932160e+05</td>\n",
       "      <td>711.485535</td>\n",
       "      <td>0.0</td>\n",
       "      <td>2.283762</td>\n",
       "      <td>0.000000</td>\n",
       "    </tr>\n",
       "    <tr>\n",
       "      <th>max</th>\n",
       "      <td>17400.045457</td>\n",
       "      <td>17400.049196</td>\n",
       "      <td>11.130800</td>\n",
       "      <td>1.099873e+06</td>\n",
       "      <td>33901.373464</td>\n",
       "      <td>0.0</td>\n",
       "      <td>11.446635</td>\n",
       "      <td>1.000000</td>\n",
       "    </tr>\n",
       "  </tbody>\n",
       "</table>\n",
       "</div>"
      ],
      "text/plain": [
       "           R_prompt     R_delayed         E_pro    delta_time  delta_radius   \n",
       "count  51540.000000  51540.000000  51540.000000  5.154000e+04  51540.000000  \\\n",
       "mean   13217.818278  13200.884025      3.637780  2.731694e+05   2765.297156   \n",
       "std     3398.112042   3405.616599      1.479604  2.416467e+05   6484.842352   \n",
       "min      472.395857      0.000006      0.184581  7.680000e+02      4.989534   \n",
       "25%    11136.333204  11100.110596      2.382273  8.601600e+04    243.844948   \n",
       "50%    13966.778320  13971.937500      3.540572  1.966080e+05    398.017471   \n",
       "75%    15977.854004  15958.366455      4.687610  3.932160e+05    711.485535   \n",
       "max    17400.045457  17400.049196     11.130800  1.099873e+06  33901.373464   \n",
       "\n",
       "         Label         E_del        Source  \n",
       "count  51540.0  51540.000000  51540.000000  \n",
       "mean       0.0      2.341956      0.128522  \n",
       "std        0.0      0.580165      0.334673  \n",
       "min        0.0      0.232103      0.000000  \n",
       "25%        0.0      2.202244      0.000000  \n",
       "50%        0.0      2.242224      0.000000  \n",
       "75%        0.0      2.283762      0.000000  \n",
       "max        0.0     11.446635      1.000000  "
      ]
     },
     "execution_count": 110,
     "metadata": {},
     "output_type": "execute_result"
    }
   ],
   "source": [
    "all_feature_IBD_He[all_feature_IBD_He['Label']==0].describe()"
   ]
  },
  {
   "cell_type": "code",
   "execution_count": 114,
   "metadata": {
    "execution": {
     "iopub.execute_input": "2023-06-06T08:32:29.949024Z",
     "iopub.status.busy": "2023-06-06T08:32:29.948539Z",
     "iopub.status.idle": "2023-06-06T08:32:33.238130Z",
     "shell.execute_reply": "2023-06-06T08:32:33.237538Z"
    }
   },
   "outputs": [
    {
     "data": {
      "image/png": "[encoded data removed]",
      "text/plain": [
       "<Figure size 1500x1000 with 6 Axes>"
      ]
     },
     "metadata": {},
     "output_type": "display_data"
    }
   ],
   "source": [
    "features = ['E_del',\"E_pro\",\"R_delayed\",\"delta_radius\",\"delta_time\",\"R_prompt\"]\n",
    "# Definisci le dimensioni della griglia dei subplot\n",
    "num_rows = 2  # Numero di righe\n",
    "num_cols = 3  # Numero di colonne\n",
    "\n",
    "# Crea una figura e una griglia di subplot\n",
    "fig, axes = plt.subplots(num_rows, num_cols, figsize=(15, 10))\n",
    "\n",
    "# Itera attraverso tutte le features\n",
    "for idx, feature in enumerate(features):\n",
    "    # Calcola gli indici della riga e della colonna corrente\n",
    "    row = idx // num_cols\n",
    "    col = idx % num_cols\n",
    "\n",
    "    # Seleziona l'asse corrispondente alla riga e alla colonna corrente\n",
    "    ax = axes[row, col] if num_rows > 1 else axes[col]\n",
    "    \n",
    "    if feature == \"E_del\":\n",
    "        ax.hist(all_feature[feature][all_feature['Label'] == 1],np.linspace(0,8,50), color='dodgerblue',alpha = 0.7, label='IBD')\n",
    "        ax.hist(all_feature[feature][all_feature['Label'] == 0],np.linspace(0,8,50), color='green',alpha = 0.5, label='BKG')\n",
    "    \n",
    "    elif feature == \"E_pro\":\n",
    "        ax.hist(all_feature[feature][all_feature['Label'] == 1],np.linspace(0,12,50), color='dodgerblue',alpha = 0.7, label='IBD')\n",
    "        ax.hist(all_feature[feature][all_feature['Label'] == 0],np.linspace(0,12,50), color='green',alpha = 0.5, label='BKG')\n",
    "    else:\n",
    "        ax.hist(all_feature[feature][all_feature['Label'] == 1],bins=50, color='dodgerblue',alpha = 0.7, label='IBD')\n",
    "        ax.hist(all_feature[feature][all_feature['Source'] == 0],bins=50, color='green',alpha = 0.5, label='BKG')\n",
    "    \n",
    "\n",
    " \n",
    "    ax.set_title(f'Distribuzione: {feature}')\n",
    "    ax.legend(loc='upper right')\n",
    "    \n",
    "\n",
    "plt.tight_layout()\n",
    "plt.show()"
   ]
  },
  {
   "cell_type": "code",
   "execution_count": 135,
   "metadata": {},
   "outputs": [
    {
     "data": {
      "image/png": "[encoded data removed]",
      "text/plain": [
       "<Figure size 640x440 with 1 Axes>"
      ]
     },
     "metadata": {},
     "output_type": "display_data"
    }
   ],
   "source": [
    "plt.hist(all_feature['E_pro'][(all_feature['Label'] == 0) & (all_feature['Source'] == 1)],np.linspace(0,12,50), color='dodgerblue',alpha = 0.7, label='IBD')\n",
    "plt.show()"
   ]
  },
  {
   "attachments": {},
   "cell_type": "markdown",
   "metadata": {},
   "source": [
    "# ML Classification Algorithms"
   ]
  },
  {
   "cell_type": "code",
   "execution_count": 115,
   "metadata": {
    "execution": {
     "iopub.execute_input": "2023-06-06T08:32:33.241585Z",
     "iopub.status.busy": "2023-06-06T08:32:33.241120Z",
     "iopub.status.idle": "2023-06-06T08:32:33.245243Z",
     "shell.execute_reply": "2023-06-06T08:32:33.244741Z"
    }
   },
   "outputs": [
    {
     "name": "stdout",
     "output_type": "stream",
     "text": [
      "(103080,)\n",
      "(103080,)\n",
      "(103080,)\n",
      "(103080,)\n",
      "(103080,)\n",
      "(103080,)\n",
      "(103080,)\n"
     ]
    }
   ],
   "source": [
    "print(all_feature['delta_time'].shape)\n",
    "print(all_feature['delta_time'].shape)\n",
    "print(all_feature['E_del'].shape)\n",
    "print(all_feature['E_pro'].shape)\n",
    "print(all_feature['R_delayed'].shape)\n",
    "print(all_feature['R_prompt'].shape)\n",
    "print(all_feature['delta_radius'].shape)"
   ]
  },
  {
   "attachments": {},
   "cell_type": "markdown",
   "metadata": {},
   "source": [
    "## Creating train and test datasets"
   ]
  },
  {
   "attachments": {},
   "cell_type": "markdown",
   "metadata": {},
   "source": [
    "Tolgo delta time perchè ha il problema del timestamp e credo che "
   ]
  },
  {
   "cell_type": "code",
   "execution_count": 116,
   "metadata": {
    "execution": {
     "iopub.execute_input": "2023-06-06T08:32:33.247754Z",
     "iopub.status.busy": "2023-06-06T08:32:33.247380Z",
     "iopub.status.idle": "2023-06-06T08:32:34.138779Z",
     "shell.execute_reply": "2023-06-06T08:32:34.138104Z"
    }
   },
   "outputs": [],
   "source": [
    "from sklearn.model_selection import train_test_split\n",
    "\n",
    "\n",
    "columns_to_exclude = ['Label', 'Source', \"delta_time\"]\n",
    "\n",
    "\n",
    "X = all_feature.drop(columns_to_exclude, axis=1)\n",
    "Y = all_feature['Label']\n",
    "\n",
    "X_train, X_test, y_train, y_test = train_test_split(X, Y, test_size=.2)"
   ]
  },
  {
   "attachments": {},
   "cell_type": "markdown",
   "metadata": {},
   "source": [
    "## XGBClassifier"
   ]
  },
  {
   "cell_type": "code",
   "execution_count": 117,
   "metadata": {
    "execution": {
     "iopub.execute_input": "2023-06-06T08:32:34.142124Z",
     "iopub.status.busy": "2023-06-06T08:32:34.141658Z",
     "iopub.status.idle": "2023-06-06T08:32:34.165796Z",
     "shell.execute_reply": "2023-06-06T08:32:34.165226Z"
    }
   },
   "outputs": [],
   "source": [
    "from sklearn.metrics import roc_auc_score\n",
    "import time\n",
    "import xgboost as xgb"
   ]
  },
  {
   "cell_type": "code",
   "execution_count": 119,
   "metadata": {
    "execution": {
     "iopub.execute_input": "2023-06-06T08:32:34.169196Z",
     "iopub.status.busy": "2023-06-06T08:32:34.168778Z",
     "iopub.status.idle": "2023-06-06T08:35:03.878575Z",
     "shell.execute_reply": "2023-06-06T08:35:03.877518Z"
    }
   },
   "outputs": [
    {
     "name": "stdout",
     "output_type": "stream",
     "text": [
      "[0]\tvalidation_0-error:0.34597\tvalidation_0-logloss:0.68557\tvalidation_1-error:0.35264\tvalidation_1-logloss:0.68570\n",
      "[1]\tvalidation_0-error:0.33958\tvalidation_0-logloss:0.67834\tvalidation_1-error:0.34512\tvalidation_1-logloss:0.67850\n",
      "[2]\tvalidation_0-error:0.33852\tvalidation_0-logloss:0.67209\tvalidation_1-error:0.34434\tvalidation_1-logloss:0.67232\n",
      "[3]\tvalidation_0-error:0.34159\tvalidation_0-logloss:0.66639\tvalidation_1-error:0.34730\tvalidation_1-logloss:0.66675\n",
      "[4]\tvalidation_0-error:0.34105\tvalidation_0-logloss:0.66120\tvalidation_1-error:0.34638\tvalidation_1-logloss:0.66158\n"
     ]
    },
    {
     "name": "stderr",
     "output_type": "stream",
     "text": [
      "`eval_metric` in `fit` method is deprecated for better compatibility with scikit-learn, use `eval_metric` in constructor or`set_params` instead.\n"
     ]
    },
    {
     "name": "stdout",
     "output_type": "stream",
     "text": [
      "[5]\tvalidation_0-error:0.33561\tvalidation_0-logloss:0.65603\tvalidation_1-error:0.34303\tvalidation_1-logloss:0.65655\n",
      "[6]\tvalidation_0-error:0.33667\tvalidation_0-logloss:0.65147\tvalidation_1-error:0.34415\tvalidation_1-logloss:0.65205\n",
      "[7]\tvalidation_0-error:0.33480\tvalidation_0-logloss:0.64707\tvalidation_1-error:0.34051\tvalidation_1-logloss:0.64767\n",
      "[8]\tvalidation_0-error:0.33411\tvalidation_0-logloss:0.64297\tvalidation_1-error:0.33915\tvalidation_1-logloss:0.64367\n",
      "[9]\tvalidation_0-error:0.33299\tvalidation_0-logloss:0.63920\tvalidation_1-error:0.33823\tvalidation_1-logloss:0.63990\n",
      "[10]\tvalidation_0-error:0.33367\tvalidation_0-logloss:0.63596\tvalidation_1-error:0.33843\tvalidation_1-logloss:0.63675\n",
      "[11]\tvalidation_0-error:0.33367\tvalidation_0-logloss:0.63296\tvalidation_1-error:0.33833\tvalidation_1-logloss:0.63378\n",
      "[12]\tvalidation_0-error:0.33150\tvalidation_0-logloss:0.62989\tvalidation_1-error:0.33571\tvalidation_1-logloss:0.63069\n",
      "[13]\tvalidation_0-error:0.33141\tvalidation_0-logloss:0.62701\tvalidation_1-error:0.33712\tvalidation_1-logloss:0.62783\n",
      "[14]\tvalidation_0-error:0.33109\tvalidation_0-logloss:0.62437\tvalidation_1-error:0.33576\tvalidation_1-logloss:0.62522\n",
      "[15]\tvalidation_0-error:0.33176\tvalidation_0-logloss:0.62183\tvalidation_1-error:0.33683\tvalidation_1-logloss:0.62269\n",
      "[16]\tvalidation_0-error:0.32978\tvalidation_0-logloss:0.61949\tvalidation_1-error:0.33595\tvalidation_1-logloss:0.62037\n",
      "[17]\tvalidation_0-error:0.33033\tvalidation_0-logloss:0.61734\tvalidation_1-error:0.33561\tvalidation_1-logloss:0.61821\n",
      "[18]\tvalidation_0-error:0.32972\tvalidation_0-logloss:0.61532\tvalidation_1-error:0.33518\tvalidation_1-logloss:0.61627\n",
      "[19]\tvalidation_0-error:0.32925\tvalidation_0-logloss:0.61332\tvalidation_1-error:0.33459\tvalidation_1-logloss:0.61434\n",
      "[20]\tvalidation_0-error:0.32897\tvalidation_0-logloss:0.61149\tvalidation_1-error:0.33425\tvalidation_1-logloss:0.61253\n",
      "[21]\tvalidation_0-error:0.32898\tvalidation_0-logloss:0.60974\tvalidation_1-error:0.33416\tvalidation_1-logloss:0.61085\n",
      "[22]\tvalidation_0-error:0.32871\tvalidation_0-logloss:0.60825\tvalidation_1-error:0.33421\tvalidation_1-logloss:0.60943\n",
      "[23]\tvalidation_0-error:0.32854\tvalidation_0-logloss:0.60677\tvalidation_1-error:0.33392\tvalidation_1-logloss:0.60804\n",
      "[24]\tvalidation_0-error:0.32866\tvalidation_0-logloss:0.60528\tvalidation_1-error:0.33430\tvalidation_1-logloss:0.60653\n",
      "[25]\tvalidation_0-error:0.32849\tvalidation_0-logloss:0.60387\tvalidation_1-error:0.33396\tvalidation_1-logloss:0.60511\n",
      "[26]\tvalidation_0-error:0.32843\tvalidation_0-logloss:0.60254\tvalidation_1-error:0.33396\tvalidation_1-logloss:0.60385\n",
      "[27]\tvalidation_0-error:0.32835\tvalidation_0-logloss:0.60129\tvalidation_1-error:0.33396\tvalidation_1-logloss:0.60257\n",
      "[28]\tvalidation_0-error:0.32818\tvalidation_0-logloss:0.60014\tvalidation_1-error:0.33353\tvalidation_1-logloss:0.60145\n",
      "[29]\tvalidation_0-error:0.32806\tvalidation_0-logloss:0.59898\tvalidation_1-error:0.33382\tvalidation_1-logloss:0.60033\n",
      "[30]\tvalidation_0-error:0.32819\tvalidation_0-logloss:0.59798\tvalidation_1-error:0.33362\tvalidation_1-logloss:0.59936\n",
      "[31]\tvalidation_0-error:0.32794\tvalidation_0-logloss:0.59694\tvalidation_1-error:0.33348\tvalidation_1-logloss:0.59833\n",
      "[32]\tvalidation_0-error:0.32754\tvalidation_0-logloss:0.59605\tvalidation_1-error:0.33299\tvalidation_1-logloss:0.59750\n",
      "[33]\tvalidation_0-error:0.32761\tvalidation_0-logloss:0.59505\tvalidation_1-error:0.33295\tvalidation_1-logloss:0.59652\n",
      "[34]\tvalidation_0-error:0.32739\tvalidation_0-logloss:0.59413\tvalidation_1-error:0.33261\tvalidation_1-logloss:0.59559\n",
      "[35]\tvalidation_0-error:0.32719\tvalidation_0-logloss:0.59322\tvalidation_1-error:0.33251\tvalidation_1-logloss:0.59468\n",
      "[36]\tvalidation_0-error:0.32695\tvalidation_0-logloss:0.59240\tvalidation_1-error:0.33227\tvalidation_1-logloss:0.59388\n",
      "[37]\tvalidation_0-error:0.32680\tvalidation_0-logloss:0.59158\tvalidation_1-error:0.33227\tvalidation_1-logloss:0.59307\n",
      "[38]\tvalidation_0-error:0.32663\tvalidation_0-logloss:0.59081\tvalidation_1-error:0.33256\tvalidation_1-logloss:0.59230\n",
      "[39]\tvalidation_0-error:0.32679\tvalidation_0-logloss:0.59007\tvalidation_1-error:0.33183\tvalidation_1-logloss:0.59156\n",
      "[40]\tvalidation_0-error:0.32658\tvalidation_0-logloss:0.58939\tvalidation_1-error:0.33178\tvalidation_1-logloss:0.59094\n",
      "[41]\tvalidation_0-error:0.32648\tvalidation_0-logloss:0.58873\tvalidation_1-error:0.33222\tvalidation_1-logloss:0.59030\n",
      "[42]\tvalidation_0-error:0.32641\tvalidation_0-logloss:0.58808\tvalidation_1-error:0.33193\tvalidation_1-logloss:0.58964\n",
      "[43]\tvalidation_0-error:0.32611\tvalidation_0-logloss:0.58746\tvalidation_1-error:0.33198\tvalidation_1-logloss:0.58902\n",
      "[44]\tvalidation_0-error:0.32611\tvalidation_0-logloss:0.58684\tvalidation_1-error:0.33212\tvalidation_1-logloss:0.58841\n",
      "[45]\tvalidation_0-error:0.32594\tvalidation_0-logloss:0.58627\tvalidation_1-error:0.33207\tvalidation_1-logloss:0.58785\n",
      "[46]\tvalidation_0-error:0.32583\tvalidation_0-logloss:0.58574\tvalidation_1-error:0.33193\tvalidation_1-logloss:0.58741\n",
      "[47]\tvalidation_0-error:0.32586\tvalidation_0-logloss:0.58522\tvalidation_1-error:0.33188\tvalidation_1-logloss:0.58687\n",
      "[48]\tvalidation_0-error:0.32560\tvalidation_0-logloss:0.58470\tvalidation_1-error:0.33178\tvalidation_1-logloss:0.58636\n",
      "[49]\tvalidation_0-error:0.32552\tvalidation_0-logloss:0.58421\tvalidation_1-error:0.33168\tvalidation_1-logloss:0.58586\n",
      "[50]\tvalidation_0-error:0.32518\tvalidation_0-logloss:0.58375\tvalidation_1-error:0.33125\tvalidation_1-logloss:0.58548\n",
      "[51]\tvalidation_0-error:0.32528\tvalidation_0-logloss:0.58329\tvalidation_1-error:0.33149\tvalidation_1-logloss:0.58503\n",
      "[52]\tvalidation_0-error:0.32516\tvalidation_0-logloss:0.58284\tvalidation_1-error:0.33134\tvalidation_1-logloss:0.58458\n",
      "[53]\tvalidation_0-error:0.32508\tvalidation_0-logloss:0.58242\tvalidation_1-error:0.33154\tvalidation_1-logloss:0.58416\n",
      "[54]\tvalidation_0-error:0.32499\tvalidation_0-logloss:0.58192\tvalidation_1-error:0.33081\tvalidation_1-logloss:0.58369\n",
      "[55]\tvalidation_0-error:0.32480\tvalidation_0-logloss:0.58152\tvalidation_1-error:0.33091\tvalidation_1-logloss:0.58329\n",
      "[56]\tvalidation_0-error:0.32477\tvalidation_0-logloss:0.58114\tvalidation_1-error:0.33091\tvalidation_1-logloss:0.58292\n",
      "[57]\tvalidation_0-error:0.32476\tvalidation_0-logloss:0.58078\tvalidation_1-error:0.33071\tvalidation_1-logloss:0.58258\n",
      "[58]\tvalidation_0-error:0.32478\tvalidation_0-logloss:0.58043\tvalidation_1-error:0.33062\tvalidation_1-logloss:0.58220\n",
      "[59]\tvalidation_0-error:0.32487\tvalidation_0-logloss:0.58007\tvalidation_1-error:0.33037\tvalidation_1-logloss:0.58184\n",
      "[60]\tvalidation_0-error:0.32484\tvalidation_0-logloss:0.57967\tvalidation_1-error:0.33067\tvalidation_1-logloss:0.58151\n",
      "[61]\tvalidation_0-error:0.32482\tvalidation_0-logloss:0.57935\tvalidation_1-error:0.33076\tvalidation_1-logloss:0.58120\n",
      "[62]\tvalidation_0-error:0.32471\tvalidation_0-logloss:0.57904\tvalidation_1-error:0.33067\tvalidation_1-logloss:0.58090\n",
      "[63]\tvalidation_0-error:0.32464\tvalidation_0-logloss:0.57870\tvalidation_1-error:0.33052\tvalidation_1-logloss:0.58065\n",
      "[64]\tvalidation_0-error:0.32459\tvalidation_0-logloss:0.57842\tvalidation_1-error:0.33062\tvalidation_1-logloss:0.58037\n",
      "[65]\tvalidation_0-error:0.32451\tvalidation_0-logloss:0.57813\tvalidation_1-error:0.33071\tvalidation_1-logloss:0.58009\n",
      "[66]\tvalidation_0-error:0.32460\tvalidation_0-logloss:0.57786\tvalidation_1-error:0.33057\tvalidation_1-logloss:0.57983\n",
      "[67]\tvalidation_0-error:0.32451\tvalidation_0-logloss:0.57759\tvalidation_1-error:0.33047\tvalidation_1-logloss:0.57954\n",
      "[68]\tvalidation_0-error:0.32436\tvalidation_0-logloss:0.57728\tvalidation_1-error:0.33071\tvalidation_1-logloss:0.57933\n",
      "[69]\tvalidation_0-error:0.32441\tvalidation_0-logloss:0.57704\tvalidation_1-error:0.33081\tvalidation_1-logloss:0.57909\n",
      "[70]\tvalidation_0-error:0.32434\tvalidation_0-logloss:0.57673\tvalidation_1-error:0.33033\tvalidation_1-logloss:0.57885\n",
      "[71]\tvalidation_0-error:0.32432\tvalidation_0-logloss:0.57649\tvalidation_1-error:0.33018\tvalidation_1-logloss:0.57862\n",
      "[72]\tvalidation_0-error:0.32434\tvalidation_0-logloss:0.57627\tvalidation_1-error:0.33013\tvalidation_1-logloss:0.57841\n",
      "[73]\tvalidation_0-error:0.32434\tvalidation_0-logloss:0.57591\tvalidation_1-error:0.33023\tvalidation_1-logloss:0.57815\n",
      "[74]\tvalidation_0-error:0.32398\tvalidation_0-logloss:0.57570\tvalidation_1-error:0.33013\tvalidation_1-logloss:0.57794\n",
      "[75]\tvalidation_0-error:0.32390\tvalidation_0-logloss:0.57538\tvalidation_1-error:0.33003\tvalidation_1-logloss:0.57770\n",
      "[76]\tvalidation_0-error:0.32375\tvalidation_0-logloss:0.57518\tvalidation_1-error:0.32984\tvalidation_1-logloss:0.57750\n",
      "[77]\tvalidation_0-error:0.32392\tvalidation_0-logloss:0.57491\tvalidation_1-error:0.32979\tvalidation_1-logloss:0.57729\n",
      "[78]\tvalidation_0-error:0.32383\tvalidation_0-logloss:0.57470\tvalidation_1-error:0.32979\tvalidation_1-logloss:0.57708\n",
      "[79]\tvalidation_0-error:0.32372\tvalidation_0-logloss:0.57437\tvalidation_1-error:0.32974\tvalidation_1-logloss:0.57686\n",
      "[80]\tvalidation_0-error:0.32372\tvalidation_0-logloss:0.57418\tvalidation_1-error:0.32945\tvalidation_1-logloss:0.57667\n",
      "[81]\tvalidation_0-error:0.32363\tvalidation_0-logloss:0.57398\tvalidation_1-error:0.32955\tvalidation_1-logloss:0.57651\n",
      "[82]\tvalidation_0-error:0.32304\tvalidation_0-logloss:0.57375\tvalidation_1-error:0.32945\tvalidation_1-logloss:0.57635\n",
      "[83]\tvalidation_0-error:0.32322\tvalidation_0-logloss:0.57356\tvalidation_1-error:0.32887\tvalidation_1-logloss:0.57616\n",
      "[84]\tvalidation_0-error:0.32320\tvalidation_0-logloss:0.57338\tvalidation_1-error:0.32926\tvalidation_1-logloss:0.57600\n",
      "[85]\tvalidation_0-error:0.32337\tvalidation_0-logloss:0.57321\tvalidation_1-error:0.32945\tvalidation_1-logloss:0.57585\n",
      "[86]\tvalidation_0-error:0.32309\tvalidation_0-logloss:0.57293\tvalidation_1-error:0.32906\tvalidation_1-logloss:0.57564\n",
      "[87]\tvalidation_0-error:0.32322\tvalidation_0-logloss:0.57276\tvalidation_1-error:0.32911\tvalidation_1-logloss:0.57549\n",
      "[88]\tvalidation_0-error:0.32327\tvalidation_0-logloss:0.57260\tvalidation_1-error:0.32940\tvalidation_1-logloss:0.57535\n",
      "[89]\tvalidation_0-error:0.32328\tvalidation_0-logloss:0.57245\tvalidation_1-error:0.32926\tvalidation_1-logloss:0.57520\n",
      "[90]\tvalidation_0-error:0.32326\tvalidation_0-logloss:0.57232\tvalidation_1-error:0.32931\tvalidation_1-logloss:0.57506\n",
      "[91]\tvalidation_0-error:0.32305\tvalidation_0-logloss:0.57208\tvalidation_1-error:0.32877\tvalidation_1-logloss:0.57493\n",
      "[92]\tvalidation_0-error:0.32295\tvalidation_0-logloss:0.57194\tvalidation_1-error:0.32868\tvalidation_1-logloss:0.57480\n",
      "[93]\tvalidation_0-error:0.32303\tvalidation_0-logloss:0.57181\tvalidation_1-error:0.32868\tvalidation_1-logloss:0.57466\n",
      "[94]\tvalidation_0-error:0.32253\tvalidation_0-logloss:0.57157\tvalidation_1-error:0.32824\tvalidation_1-logloss:0.57452\n",
      "[95]\tvalidation_0-error:0.32266\tvalidation_0-logloss:0.57143\tvalidation_1-error:0.32824\tvalidation_1-logloss:0.57440\n",
      "[96]\tvalidation_0-error:0.32280\tvalidation_0-logloss:0.57122\tvalidation_1-error:0.32877\tvalidation_1-logloss:0.57425\n",
      "[97]\tvalidation_0-error:0.32269\tvalidation_0-logloss:0.57108\tvalidation_1-error:0.32877\tvalidation_1-logloss:0.57414\n",
      "[98]\tvalidation_0-error:0.32258\tvalidation_0-logloss:0.57095\tvalidation_1-error:0.32906\tvalidation_1-logloss:0.57404\n",
      "[99]\tvalidation_0-error:0.32254\tvalidation_0-logloss:0.57083\tvalidation_1-error:0.32892\tvalidation_1-logloss:0.57393\n",
      "[100]\tvalidation_0-error:0.32255\tvalidation_0-logloss:0.57072\tvalidation_1-error:0.32887\tvalidation_1-logloss:0.57383\n",
      "[101]\tvalidation_0-error:0.32256\tvalidation_0-logloss:0.57061\tvalidation_1-error:0.32916\tvalidation_1-logloss:0.57373\n",
      "[102]\tvalidation_0-error:0.32250\tvalidation_0-logloss:0.57044\tvalidation_1-error:0.32897\tvalidation_1-logloss:0.57362\n",
      "[103]\tvalidation_0-error:0.32229\tvalidation_0-logloss:0.57033\tvalidation_1-error:0.32853\tvalidation_1-logloss:0.57350\n",
      "[104]\tvalidation_0-error:0.32226\tvalidation_0-logloss:0.57012\tvalidation_1-error:0.32829\tvalidation_1-logloss:0.57340\n",
      "[105]\tvalidation_0-error:0.32249\tvalidation_0-logloss:0.57001\tvalidation_1-error:0.32843\tvalidation_1-logloss:0.57329\n",
      "[106]\tvalidation_0-error:0.32241\tvalidation_0-logloss:0.56991\tvalidation_1-error:0.32834\tvalidation_1-logloss:0.57320\n",
      "[107]\tvalidation_0-error:0.32229\tvalidation_0-logloss:0.56982\tvalidation_1-error:0.32824\tvalidation_1-logloss:0.57311\n",
      "[108]\tvalidation_0-error:0.32238\tvalidation_0-logloss:0.56971\tvalidation_1-error:0.32809\tvalidation_1-logloss:0.57299\n",
      "[109]\tvalidation_0-error:0.32230\tvalidation_0-logloss:0.56961\tvalidation_1-error:0.32814\tvalidation_1-logloss:0.57292\n",
      "[110]\tvalidation_0-error:0.32229\tvalidation_0-logloss:0.56952\tvalidation_1-error:0.32809\tvalidation_1-logloss:0.57284\n",
      "[111]\tvalidation_0-error:0.32230\tvalidation_0-logloss:0.56943\tvalidation_1-error:0.32809\tvalidation_1-logloss:0.57276\n",
      "[112]\tvalidation_0-error:0.32226\tvalidation_0-logloss:0.56924\tvalidation_1-error:0.32790\tvalidation_1-logloss:0.57267\n",
      "[113]\tvalidation_0-error:0.32223\tvalidation_0-logloss:0.56915\tvalidation_1-error:0.32785\tvalidation_1-logloss:0.57260\n",
      "[114]\tvalidation_0-error:0.32203\tvalidation_0-logloss:0.56896\tvalidation_1-error:0.32809\tvalidation_1-logloss:0.57252\n",
      "[115]\tvalidation_0-error:0.32192\tvalidation_0-logloss:0.56888\tvalidation_1-error:0.32824\tvalidation_1-logloss:0.57245\n",
      "[116]\tvalidation_0-error:0.32190\tvalidation_0-logloss:0.56880\tvalidation_1-error:0.32829\tvalidation_1-logloss:0.57238\n",
      "[117]\tvalidation_0-error:0.32185\tvalidation_0-logloss:0.56871\tvalidation_1-error:0.32848\tvalidation_1-logloss:0.57232\n",
      "[118]\tvalidation_0-error:0.32178\tvalidation_0-logloss:0.56863\tvalidation_1-error:0.32839\tvalidation_1-logloss:0.57224\n",
      "[119]\tvalidation_0-error:0.32178\tvalidation_0-logloss:0.56856\tvalidation_1-error:0.32839\tvalidation_1-logloss:0.57218\n",
      "[120]\tvalidation_0-error:0.32172\tvalidation_0-logloss:0.56849\tvalidation_1-error:0.32839\tvalidation_1-logloss:0.57212\n",
      "[121]\tvalidation_0-error:0.32168\tvalidation_0-logloss:0.56842\tvalidation_1-error:0.32843\tvalidation_1-logloss:0.57206\n",
      "[122]\tvalidation_0-error:0.32173\tvalidation_0-logloss:0.56826\tvalidation_1-error:0.32829\tvalidation_1-logloss:0.57194\n",
      "[123]\tvalidation_0-error:0.32179\tvalidation_0-logloss:0.56810\tvalidation_1-error:0.32853\tvalidation_1-logloss:0.57187\n",
      "[124]\tvalidation_0-error:0.32163\tvalidation_0-logloss:0.56804\tvalidation_1-error:0.32873\tvalidation_1-logloss:0.57182\n",
      "[125]\tvalidation_0-error:0.32166\tvalidation_0-logloss:0.56798\tvalidation_1-error:0.32853\tvalidation_1-logloss:0.57176\n",
      "[126]\tvalidation_0-error:0.32162\tvalidation_0-logloss:0.56791\tvalidation_1-error:0.32858\tvalidation_1-logloss:0.57171\n",
      "[127]\tvalidation_0-error:0.32164\tvalidation_0-logloss:0.56786\tvalidation_1-error:0.32863\tvalidation_1-logloss:0.57166\n",
      "[128]\tvalidation_0-error:0.32158\tvalidation_0-logloss:0.56769\tvalidation_1-error:0.32868\tvalidation_1-logloss:0.57159\n",
      "[129]\tvalidation_0-error:0.32156\tvalidation_0-logloss:0.56764\tvalidation_1-error:0.32877\tvalidation_1-logloss:0.57155\n",
      "[130]\tvalidation_0-error:0.32166\tvalidation_0-logloss:0.56758\tvalidation_1-error:0.32887\tvalidation_1-logloss:0.57150\n",
      "[131]\tvalidation_0-error:0.32169\tvalidation_0-logloss:0.56753\tvalidation_1-error:0.32887\tvalidation_1-logloss:0.57145\n",
      "[132]\tvalidation_0-error:0.32166\tvalidation_0-logloss:0.56747\tvalidation_1-error:0.32882\tvalidation_1-logloss:0.57140\n",
      "[133]\tvalidation_0-error:0.32158\tvalidation_0-logloss:0.56733\tvalidation_1-error:0.32882\tvalidation_1-logloss:0.57134\n",
      "[134]\tvalidation_0-error:0.32144\tvalidation_0-logloss:0.56724\tvalidation_1-error:0.32887\tvalidation_1-logloss:0.57128\n",
      "[135]\tvalidation_0-error:0.32143\tvalidation_0-logloss:0.56720\tvalidation_1-error:0.32892\tvalidation_1-logloss:0.57124\n",
      "[136]\tvalidation_0-error:0.32107\tvalidation_0-logloss:0.56704\tvalidation_1-error:0.32882\tvalidation_1-logloss:0.57121\n",
      "[137]\tvalidation_0-error:0.32109\tvalidation_0-logloss:0.56699\tvalidation_1-error:0.32887\tvalidation_1-logloss:0.57116\n",
      "[138]\tvalidation_0-error:0.32110\tvalidation_0-logloss:0.56696\tvalidation_1-error:0.32892\tvalidation_1-logloss:0.57112\n",
      "[139]\tvalidation_0-error:0.32099\tvalidation_0-logloss:0.56681\tvalidation_1-error:0.32911\tvalidation_1-logloss:0.57106\n",
      "[140]\tvalidation_0-error:0.32090\tvalidation_0-logloss:0.56676\tvalidation_1-error:0.32911\tvalidation_1-logloss:0.57102\n",
      "[141]\tvalidation_0-error:0.32100\tvalidation_0-logloss:0.56672\tvalidation_1-error:0.32916\tvalidation_1-logloss:0.57098\n",
      "[142]\tvalidation_0-error:0.32101\tvalidation_0-logloss:0.56668\tvalidation_1-error:0.32916\tvalidation_1-logloss:0.57094\n",
      "[143]\tvalidation_0-error:0.32088\tvalidation_0-logloss:0.56654\tvalidation_1-error:0.32921\tvalidation_1-logloss:0.57089\n",
      "[144]\tvalidation_0-error:0.32089\tvalidation_0-logloss:0.56648\tvalidation_1-error:0.32931\tvalidation_1-logloss:0.57085\n",
      "[145]\tvalidation_0-error:0.32066\tvalidation_0-logloss:0.56639\tvalidation_1-error:0.32921\tvalidation_1-logloss:0.57082\n",
      "[146]\tvalidation_0-error:0.32050\tvalidation_0-logloss:0.56627\tvalidation_1-error:0.32921\tvalidation_1-logloss:0.57076\n",
      "[147]\tvalidation_0-error:0.32050\tvalidation_0-logloss:0.56623\tvalidation_1-error:0.32921\tvalidation_1-logloss:0.57072\n",
      "[148]\tvalidation_0-error:0.32049\tvalidation_0-logloss:0.56619\tvalidation_1-error:0.32921\tvalidation_1-logloss:0.57069\n",
      "[149]\tvalidation_0-error:0.32050\tvalidation_0-logloss:0.56615\tvalidation_1-error:0.32921\tvalidation_1-logloss:0.57065\n",
      "[150]\tvalidation_0-error:0.32060\tvalidation_0-logloss:0.56605\tvalidation_1-error:0.32926\tvalidation_1-logloss:0.57059\n",
      "[151]\tvalidation_0-error:0.32047\tvalidation_0-logloss:0.56598\tvalidation_1-error:0.32940\tvalidation_1-logloss:0.57058\n",
      "[152]\tvalidation_0-error:0.32048\tvalidation_0-logloss:0.56588\tvalidation_1-error:0.32940\tvalidation_1-logloss:0.57056\n",
      "[153]\tvalidation_0-error:0.32047\tvalidation_0-logloss:0.56581\tvalidation_1-error:0.32940\tvalidation_1-logloss:0.57051\n",
      "[154]\tvalidation_0-error:0.32041\tvalidation_0-logloss:0.56577\tvalidation_1-error:0.32940\tvalidation_1-logloss:0.57049\n",
      "[155]\tvalidation_0-error:0.32038\tvalidation_0-logloss:0.56572\tvalidation_1-error:0.32931\tvalidation_1-logloss:0.57045\n",
      "[156]\tvalidation_0-error:0.32038\tvalidation_0-logloss:0.56568\tvalidation_1-error:0.32936\tvalidation_1-logloss:0.57042\n",
      "[157]\tvalidation_0-error:0.32050\tvalidation_0-logloss:0.56560\tvalidation_1-error:0.32916\tvalidation_1-logloss:0.57039\n",
      "[158]\tvalidation_0-error:0.32042\tvalidation_0-logloss:0.56555\tvalidation_1-error:0.32902\tvalidation_1-logloss:0.57037\n",
      "[159]\tvalidation_0-error:0.32036\tvalidation_0-logloss:0.56550\tvalidation_1-error:0.32873\tvalidation_1-logloss:0.57035\n",
      "[160]\tvalidation_0-error:0.32035\tvalidation_0-logloss:0.56547\tvalidation_1-error:0.32868\tvalidation_1-logloss:0.57033\n",
      "[161]\tvalidation_0-error:0.32019\tvalidation_0-logloss:0.56540\tvalidation_1-error:0.32897\tvalidation_1-logloss:0.57032\n",
      "[162]\tvalidation_0-error:0.32025\tvalidation_0-logloss:0.56529\tvalidation_1-error:0.32868\tvalidation_1-logloss:0.57030\n",
      "[163]\tvalidation_0-error:0.32022\tvalidation_0-logloss:0.56525\tvalidation_1-error:0.32873\tvalidation_1-logloss:0.57027\n",
      "[164]\tvalidation_0-error:0.32008\tvalidation_0-logloss:0.56520\tvalidation_1-error:0.32911\tvalidation_1-logloss:0.57025\n",
      "[165]\tvalidation_0-error:0.31989\tvalidation_0-logloss:0.56513\tvalidation_1-error:0.32911\tvalidation_1-logloss:0.57023\n",
      "[166]\tvalidation_0-error:0.31995\tvalidation_0-logloss:0.56510\tvalidation_1-error:0.32897\tvalidation_1-logloss:0.57022\n",
      "[167]\tvalidation_0-error:0.31993\tvalidation_0-logloss:0.56506\tvalidation_1-error:0.32877\tvalidation_1-logloss:0.57021\n",
      "[168]\tvalidation_0-error:0.31995\tvalidation_0-logloss:0.56504\tvalidation_1-error:0.32877\tvalidation_1-logloss:0.57019\n",
      "[169]\tvalidation_0-error:0.31990\tvalidation_0-logloss:0.56496\tvalidation_1-error:0.32858\tvalidation_1-logloss:0.57018\n",
      "[170]\tvalidation_0-error:0.31985\tvalidation_0-logloss:0.56491\tvalidation_1-error:0.32887\tvalidation_1-logloss:0.57017\n",
      "[171]\tvalidation_0-error:0.31985\tvalidation_0-logloss:0.56484\tvalidation_1-error:0.32902\tvalidation_1-logloss:0.57015\n",
      "[172]\tvalidation_0-error:0.31984\tvalidation_0-logloss:0.56479\tvalidation_1-error:0.32882\tvalidation_1-logloss:0.57014\n",
      "[173]\tvalidation_0-error:0.31975\tvalidation_0-logloss:0.56474\tvalidation_1-error:0.32887\tvalidation_1-logloss:0.57012\n",
      "[174]\tvalidation_0-error:0.31978\tvalidation_0-logloss:0.56470\tvalidation_1-error:0.32858\tvalidation_1-logloss:0.57010\n",
      "[175]\tvalidation_0-error:0.31961\tvalidation_0-logloss:0.56463\tvalidation_1-error:0.32882\tvalidation_1-logloss:0.57009\n",
      "[176]\tvalidation_0-error:0.31962\tvalidation_0-logloss:0.56461\tvalidation_1-error:0.32882\tvalidation_1-logloss:0.57007\n",
      "[177]\tvalidation_0-error:0.31942\tvalidation_0-logloss:0.56452\tvalidation_1-error:0.32829\tvalidation_1-logloss:0.57002\n",
      "[178]\tvalidation_0-error:0.31953\tvalidation_0-logloss:0.56444\tvalidation_1-error:0.32843\tvalidation_1-logloss:0.57002\n",
      "[179]\tvalidation_0-error:0.31927\tvalidation_0-logloss:0.56436\tvalidation_1-error:0.32882\tvalidation_1-logloss:0.57000\n",
      "[180]\tvalidation_0-error:0.31939\tvalidation_0-logloss:0.56433\tvalidation_1-error:0.32887\tvalidation_1-logloss:0.56998\n",
      "[181]\tvalidation_0-error:0.31940\tvalidation_0-logloss:0.56431\tvalidation_1-error:0.32887\tvalidation_1-logloss:0.56996\n",
      "[182]\tvalidation_0-error:0.31933\tvalidation_0-logloss:0.56427\tvalidation_1-error:0.32897\tvalidation_1-logloss:0.56996\n",
      "[183]\tvalidation_0-error:0.31924\tvalidation_0-logloss:0.56419\tvalidation_1-error:0.32892\tvalidation_1-logloss:0.56997\n",
      "[184]\tvalidation_0-error:0.31925\tvalidation_0-logloss:0.56416\tvalidation_1-error:0.32897\tvalidation_1-logloss:0.56995\n",
      "[185]\tvalidation_0-error:0.31910\tvalidation_0-logloss:0.56408\tvalidation_1-error:0.32882\tvalidation_1-logloss:0.56996\n",
      "[186]\tvalidation_0-error:0.31891\tvalidation_0-logloss:0.56399\tvalidation_1-error:0.32882\tvalidation_1-logloss:0.56997\n",
      "[187]\tvalidation_0-error:0.31888\tvalidation_0-logloss:0.56395\tvalidation_1-error:0.32911\tvalidation_1-logloss:0.56996\n",
      "[188]\tvalidation_0-error:0.31889\tvalidation_0-logloss:0.56391\tvalidation_1-error:0.32906\tvalidation_1-logloss:0.56995\n",
      "[189]\tvalidation_0-error:0.31883\tvalidation_0-logloss:0.56383\tvalidation_1-error:0.32863\tvalidation_1-logloss:0.56993\n",
      "[190]\tvalidation_0-error:0.31879\tvalidation_0-logloss:0.56382\tvalidation_1-error:0.32868\tvalidation_1-logloss:0.56992\n",
      "[191]\tvalidation_0-error:0.31875\tvalidation_0-logloss:0.56379\tvalidation_1-error:0.32839\tvalidation_1-logloss:0.56989\n",
      "[192]\tvalidation_0-error:0.31873\tvalidation_0-logloss:0.56377\tvalidation_1-error:0.32839\tvalidation_1-logloss:0.56988\n",
      "[193]\tvalidation_0-error:0.31865\tvalidation_0-logloss:0.56373\tvalidation_1-error:0.32848\tvalidation_1-logloss:0.56986\n",
      "[194]\tvalidation_0-error:0.31879\tvalidation_0-logloss:0.56370\tvalidation_1-error:0.32863\tvalidation_1-logloss:0.56985\n",
      "[195]\tvalidation_0-error:0.31879\tvalidation_0-logloss:0.56368\tvalidation_1-error:0.32863\tvalidation_1-logloss:0.56984\n",
      "[196]\tvalidation_0-error:0.31872\tvalidation_0-logloss:0.56361\tvalidation_1-error:0.32848\tvalidation_1-logloss:0.56985\n",
      "[197]\tvalidation_0-error:0.31870\tvalidation_0-logloss:0.56359\tvalidation_1-error:0.32834\tvalidation_1-logloss:0.56983\n",
      "[198]\tvalidation_0-error:0.31873\tvalidation_0-logloss:0.56353\tvalidation_1-error:0.32843\tvalidation_1-logloss:0.56984\n",
      "[199]\tvalidation_0-error:0.31872\tvalidation_0-logloss:0.56351\tvalidation_1-error:0.32843\tvalidation_1-logloss:0.56983\n",
      "Finished training\n",
      "Accuracy: 67.16%\n"
     ]
    }
   ],
   "source": [
    "from sklearn.metrics import accuracy_score\n",
    "import os\n",
    "import xgboost as xgb\n",
    "\n",
    "scale_pos_weight = (len(all_feature['Label'])-all_feature['Label'].sum())/all_feature['Label'].sum()\n",
    "\n",
    "model_path = \"xgboost2.model\"\n",
    "\n",
    "# Verifica se il file del modello esiste\n",
    "if os.path.isfile(model_path):\n",
    "    # Carica il modello da file\n",
    "    model = xgb.sklearn.XGBClassifier()\n",
    "    model.load_model(model_path)\n",
    "    print(\"Model loaded\")\n",
    "else:\n",
    "    # Crea e addestra il modello se il file non esiste\n",
    "    model = xgb.sklearn.XGBClassifier(nthread=-1, seed=1, n_estimators=200, max_depth=5, learning_rate = 0.05) #, scale_pos_weight = scale_pos_weight)\n",
    "\n",
    "    eval_set = [(X_train, y_train), (X_test, y_test)]\n",
    "    model.fit(X_train, y_train, eval_metric=[\"error\", \"logloss\"], eval_set=eval_set, verbose=True)\n",
    "    print(\"Finished training\")\n",
    "\n",
    "    # Salva il modello in file\n",
    "    model.save_model(model_path)\n",
    "\n",
    "# make predictions for test data\n",
    "y_pred = model.predict(X_test)\n",
    "predictions = [round(value) for value in y_pred]\n",
    "\n",
    "# Calcola l'accuracy\n",
    "accuracy = accuracy_score(y_test, predictions)\n",
    "print(\"Accuracy: %.2f%%\" % (accuracy * 100.0))\n",
    "\n",
    "# retrieve performance metrics\n",
    "results = model.evals_result()\n",
    "epochs = len(results['validation_0']['logloss'])\n",
    "x_axis = range(0, epochs)\n"
   ]
  },
  {
   "cell_type": "code",
   "execution_count": 120,
   "metadata": {
    "execution": {
     "iopub.execute_input": "2023-06-06T08:35:03.890674Z",
     "iopub.status.busy": "2023-06-06T08:35:03.890442Z",
     "iopub.status.idle": "2023-06-06T08:35:04.066368Z",
     "shell.execute_reply": "2023-06-06T08:35:04.065321Z"
    }
   },
   "outputs": [
    {
     "data": {
      "image/png": "[encoded data removed]",
      "text/plain": [
       "<Figure size 640x440 with 1 Axes>"
      ]
     },
     "metadata": {},
     "output_type": "display_data"
    }
   ],
   "source": [
    "# retrieve performance metrics\n",
    "results = model.evals_result()\n",
    "epochs = len(results['validation_0']['logloss'])\n",
    "x_axis = range(0, epochs)\n",
    "\n",
    "# plot log loss\n",
    "\n",
    "fig, ax = plt.subplots()\n",
    "ax.plot(x_axis, results['validation_0']['logloss'], label='Train')\n",
    "\n",
    "ax.plot(x_axis, results['validation_1']['logloss'], label='Test')\n",
    "ax.legend()\n",
    "\n",
    "plt.ylabel('Log Loss')\n",
    "plt.title('XGBoost Log Loss')\n",
    "\n",
    "plt.show()\n"
   ]
  },
  {
   "cell_type": "code",
   "execution_count": 121,
   "metadata": {
    "execution": {
     "iopub.execute_input": "2023-06-06T08:35:04.069388Z",
     "iopub.status.busy": "2023-06-06T08:35:04.069186Z",
     "iopub.status.idle": "2023-06-06T08:35:05.010762Z",
     "shell.execute_reply": "2023-06-06T08:35:05.010052Z"
    }
   },
   "outputs": [
    {
     "name": "stdout",
     "output_type": "stream",
     "text": [
      "              precision    recall  f1-score   support\n",
      "\n",
      "         0.0       0.71      0.59      0.64     10397\n",
      "         1.0       0.64      0.76      0.70     10219\n",
      "\n",
      "    accuracy                           0.67     20616\n",
      "   macro avg       0.68      0.67      0.67     20616\n",
      "weighted avg       0.68      0.67      0.67     20616\n",
      "\n"
     ]
    },
    {
     "data": {
      "text/plain": [
       "array([[6105, 4292],\n",
       "       [2479, 7740]])"
      ]
     },
     "execution_count": 121,
     "metadata": {},
     "output_type": "execute_result"
    }
   ],
   "source": [
    "import sklearn\n",
    "print(sklearn.metrics.classification_report(y_test, y_pred))\n",
    "sklearn.metrics.confusion_matrix(y_test, y_pred)"
   ]
  },
  {
   "cell_type": "code",
   "execution_count": 122,
   "metadata": {
    "execution": {
     "iopub.execute_input": "2023-06-06T08:35:05.013722Z",
     "iopub.status.busy": "2023-06-06T08:35:05.013236Z",
     "iopub.status.idle": "2023-06-06T08:35:05.016957Z",
     "shell.execute_reply": "2023-06-06T08:35:05.016340Z"
    }
   },
   "outputs": [
    {
     "name": "stdout",
     "output_type": "stream",
     "text": [
      "['R_prompt', 'R_delayed', 'E_pro', 'delta_time', 'delta_radius', 'E_del', 'Source']\n"
     ]
    }
   ],
   "source": [
    "features_names = [key for key in all_feature.keys() if key!= \"Label\"]\n",
    "print(features_names)"
   ]
  },
  {
   "attachments": {},
   "cell_type": "markdown",
   "metadata": {},
   "source": [
    "## shap"
   ]
  },
  {
   "cell_type": "code",
   "execution_count": 123,
   "metadata": {},
   "outputs": [
    {
     "name": "stderr",
     "output_type": "stream",
     "text": [
      "No data for colormapping provided via 'c'. Parameters 'vmin', 'vmax' will be ignored\n"
     ]
    },
    {
     "data": {
      "image/png": "[encoded data removed]",
      "text/plain": [
       "<Figure size 800x350 with 2 Axes>"
      ]
     },
     "metadata": {},
     "output_type": "display_data"
    }
   ],
   "source": [
    "import shap\n",
    "features_names = X.columns\n",
    "\n",
    "#Creo un oggetto explainer SHAP\n",
    "explainer = shap.Explainer(model, X_test[:2000],model_output=\"probability\")\n",
    "\n",
    "# Calcolo i valori di Shapley per il set di test\n",
    "shap_values = explainer(X_test[:2000])\n",
    " \n",
    "# Plotto il summary plot di SHAP\n",
    "shap.summary_plot(shap_values, X_test[:2000], feature_names=features_names);"
   ]
  },
  {
   "cell_type": "code",
   "execution_count": 124,
   "metadata": {},
   "outputs": [
    {
     "data": {
      "image/png": "[encoded data removed]",
      "text/plain": [
       "<Figure size 800x400 with 1 Axes>"
      ]
     },
     "metadata": {},
     "output_type": "display_data"
    }
   ],
   "source": [
    "shap.plots.bar(shap_values)"
   ]
  },
  {
   "attachments": {},
   "cell_type": "markdown",
   "metadata": {},
   "source": [
    "### Selezione BDT sul dataset di sola radioattività"
   ]
  },
  {
   "cell_type": "code",
   "execution_count": 103,
   "metadata": {
    "execution": {
     "iopub.execute_input": "2023-06-06T08:35:18.515182Z",
     "iopub.status.busy": "2023-06-06T08:35:18.514607Z",
     "iopub.status.idle": "2023-06-06T08:35:18.517381Z",
     "shell.execute_reply": "2023-06-06T08:35:18.516820Z"
    }
   },
   "outputs": [],
   "source": [
    "all_feature_r = pd.read_csv(\"../../../../mnt/fcufino/all_features_IBD_He.csv\")"
   ]
  },
  {
   "cell_type": "code",
   "execution_count": 104,
   "metadata": {
    "execution": {
     "iopub.execute_input": "2023-06-06T08:35:18.519652Z",
     "iopub.status.busy": "2023-06-06T08:35:18.519259Z",
     "iopub.status.idle": "2023-06-06T08:35:18.521945Z",
     "shell.execute_reply": "2023-06-06T08:35:18.521385Z"
    }
   },
   "outputs": [],
   "source": [
    "X_rad_df = all_feature_r[(all_feature_r[\"Label\"] == 0) & (all_feature_r[\"Source\"] == 0)]\n",
    "X_rad = X_rad_df.drop(['Label', 'Source', 'delta_time'], axis=1)\n",
    "\n",
    "#Now predict y using model XGBoost thath has been trained\n",
    "y_rad_pred = model.predict(X_rad)"
   ]
  },
  {
   "cell_type": "code",
   "execution_count": 105,
   "metadata": {
    "execution": {
     "iopub.execute_input": "2023-06-06T08:35:18.524326Z",
     "iopub.status.busy": "2023-06-06T08:35:18.523914Z",
     "iopub.status.idle": "2023-06-06T08:35:18.526655Z",
     "shell.execute_reply": "2023-06-06T08:35:18.526082Z"
    }
   },
   "outputs": [
    {
     "name": "stdout",
     "output_type": "stream",
     "text": [
      "21037 su 44916\n",
      "Efficiency:  53.163683319975064\n",
      "Purity:  100.0\n"
     ]
    }
   ],
   "source": [
    "print(y_rad_pred.sum(), \"su\", y_rad_pred.shape[0])\n",
    "\n",
    "TP = np.logical_and(X_rad_df['Label'] == 0, y_rad_pred == 0)\n",
    "TN = np.logical_and(X_rad_df['Label'] == 1, y_rad_pred == 1)\n",
    "FN = np.logical_and(X_rad_df[\"Label\"] == 0, y_rad_pred == 1)\n",
    "FP = np.logical_and(X_rad_df[\"Label\"] == 1, y_rad_pred == 0) \n",
    "\n",
    "print(\"Efficiency: \", (TP.sum()/(TP.sum()+FN.sum())) * 100)\n",
    "print(\"Purity: \", (TP.sum()/(TP.sum()+FP.sum())) * 100)\t"
   ]
  },
  {
   "attachments": {},
   "cell_type": "markdown",
   "metadata": {},
   "source": [
    "### Selezione BDT sul dataset di soli veri IBD"
   ]
  },
  {
   "cell_type": "code",
   "execution_count": 107,
   "metadata": {
    "execution": {
     "iopub.execute_input": "2023-06-06T08:35:18.529074Z",
     "iopub.status.busy": "2023-06-06T08:35:18.528664Z",
     "iopub.status.idle": "2023-06-06T08:35:18.531303Z",
     "shell.execute_reply": "2023-06-06T08:35:18.530747Z"
    }
   },
   "outputs": [],
   "source": [
    "X_true_IBD_df = all_feature_r[(all_feature_r[\"Label\"] == 1) & (all_feature_r[\"Source\"] == 1)]\n",
    "X_true_IBD = X_true_IBD_df.drop(['Label', 'Source', 'delta_time'], axis=1)\n",
    "\n",
    "#Now predict y using model XGBoost thath has been trained\n",
    "y_true_IBD_pred = model.predict(X_true_IBD)\n"
   ]
  },
  {
   "cell_type": "code",
   "execution_count": 108,
   "metadata": {
    "execution": {
     "iopub.execute_input": "2023-06-06T08:35:18.533632Z",
     "iopub.status.busy": "2023-06-06T08:35:18.533218Z",
     "iopub.status.idle": "2023-06-06T08:35:18.535956Z",
     "shell.execute_reply": "2023-06-06T08:35:18.535393Z"
    }
   },
   "outputs": [
    {
     "name": "stdout",
     "output_type": "stream",
     "text": [
      "Venongono selezionati come IBD  1124792 Su un tot di 1468385\n",
      "Efficiency:  76.6006190474569\n",
      "Purity:  100.0\n"
     ]
    }
   ],
   "source": [
    "print(\"Venongono selezionati come IBD \", y_true_IBD_pred.sum(),\"Su un tot di\", y_true_IBD_pred.shape[0])\n",
    "\n",
    "\n",
    "TP = np.logical_and(X_true_IBD_df['Label'] == 1, y_true_IBD_pred == 1)\n",
    "TN = np.logical_and(X_true_IBD_df['Label'] == 0, y_true_IBD_pred == 0)\n",
    "FN = np.logical_and(X_true_IBD_df[\"Label\"] == 1, y_true_IBD_pred == 0)\n",
    "FP = np.logical_and(X_true_IBD_df[\"Label\"] == 0, y_true_IBD_pred == 1) \n",
    "\n",
    "print(\"Efficiency: \", (TP.sum()/(TP.sum()+FN.sum())) * 100)\n",
    "print(\"Purity: \", (TP.sum()/(TP.sum()+FP.sum())) * 100)\t"
   ]
  },
  {
   "attachments": {},
   "cell_type": "markdown",
   "metadata": {},
   "source": [
    "## PyTorch Neural Network"
   ]
  },
  {
   "cell_type": "code",
   "execution_count": null,
   "metadata": {
    "execution": {
     "iopub.execute_input": "2023-06-06T08:35:18.538334Z",
     "iopub.status.busy": "2023-06-06T08:35:18.537923Z",
     "iopub.status.idle": "2023-06-06T08:35:18.541883Z",
     "shell.execute_reply": "2023-06-06T08:35:18.541339Z"
    }
   },
   "outputs": [
    {
     "data": {
      "text/plain": [
       "numpy.ndarray"
      ]
     },
     "execution_count": 86,
     "metadata": {},
     "output_type": "execute_result"
    }
   ],
   "source": [
    "type(X_train[1:1+4].values)"
   ]
  },
  {
   "cell_type": "code",
   "execution_count": null,
   "metadata": {
    "execution": {
     "iopub.execute_input": "2023-06-06T08:35:18.544281Z",
     "iopub.status.busy": "2023-06-06T08:35:18.543893Z",
     "iopub.status.idle": "2023-06-06T10:17:45.937196Z",
     "shell.execute_reply": "2023-06-06T10:17:45.936206Z"
    }
   },
   "outputs": [],
   "source": [
    "import torch\n",
    "import torch.nn as nn\n",
    "import torch.optim as optim\n",
    "from torch.utils.data import Dataset, DataLoader\n",
    "from sklearn.preprocessing import StandardScaler\n",
    "from sklearn.metrics import accuracy_score\n",
    "\n",
    "# cuda, se disponibile\n",
    "device = torch.device(\"cuda\" if torch.cuda.is_available() else \"cpu\")\n",
    "\n",
    "# Definire il DataSet personalizzato\n",
    "class CustomDataset(Dataset):\n",
    "    def __init__(self, features, labels):\n",
    "        self.features = features\n",
    "        self.labels = labels\n",
    "\n",
    "    def __len__(self):\n",
    "        return len(self.features)\n",
    "\n",
    "    def __getitem__(self, idx):\n",
    "        return self.features[idx], self.labels[idx]\n",
    "\n",
    "# Creare i set di dati personalizzati\n",
    "train_dataset = CustomDataset(torch.from_numpy(X_train.values).float(), torch.from_numpy(y_train.values).long())\n",
    "test_dataset = CustomDataset(torch.from_numpy(X_test.values).float(), torch.from_numpy(y_test.values).long())\n",
    "\n",
    "# Creare i DataLoader\n",
    "train_loader = DataLoader(train_dataset, batch_size=32, shuffle=True)\n",
    "test_loader = DataLoader(test_dataset, batch_size=32, shuffle=False)\n"
   ]
  },
  {
   "cell_type": "code",
   "execution_count": null,
   "metadata": {},
   "outputs": [
    {
     "name": "stdout",
     "output_type": "stream",
     "text": [
      "Model loaded\n",
      "Accuracy of the network on the test data: 99 %\n"
     ]
    }
   ],
   "source": [
    "import os\n",
    "\n",
    "# Definire la rete neurale\n",
    "class Net(nn.Module):\n",
    "    def __init__(self):\n",
    "        super(Net, self).__init__()\n",
    "        self.fc1 = nn.Linear(X_train.shape[1], 64)  # num features from X_train\n",
    "        self.fc2 = nn.Linear(64, 64)\n",
    "        self.fc3 = nn.Linear(64, len(y_train.unique()))  # num classes from y_train\n",
    "\n",
    "    def forward(self, x):\n",
    "        x = torch.relu(self.fc1(x))\n",
    "        x = torch.relu(self.fc2(x))\n",
    "        x = self.fc3(x)\n",
    "        return x\n",
    "\n",
    "# Istanziare la rete e spostarla su cuda  \n",
    "net = Net().to(device)\n",
    "\n",
    "# Definire la loss function e l'optimizer\n",
    "criterion = nn.CrossEntropyLoss()  # Usando la CrossEntropy come funzione di perdita per la classificazione\n",
    "optimizer = optim.Adam(net.parameters())\n",
    "\n",
    "model_path = \"torch_net.pth\"\n",
    "\n",
    "# Controllare se esiste un file contenente il modello addestrato\n",
    "if os.path.isfile(model_path):\n",
    "    # Caricare il modello\n",
    "    net.load_state_dict(torch.load(model_path))\n",
    "    net.eval()\n",
    "    print(\"Model loaded\")\n",
    "else:\n",
    "    # Addestrare la rete\n",
    "    for epoch in range(100):  # 100 epoche\n",
    "        for inputs, labels in train_loader:\n",
    "            inputs, labels = inputs.to(device), labels.to(device)\n",
    "            optimizer.zero_grad()\n",
    "\n",
    "            outputs = net(inputs)\n",
    "            loss = criterion(outputs, labels)\n",
    "            loss.backward()\n",
    "            optimizer.step()\n",
    "\n",
    "    print('Finished Training')\n",
    "\n",
    "    # Salvare il modello\n",
    "    torch.save(net.state_dict(), model_path)\n",
    "\n",
    "# Calcolare l'accuracy\n",
    "correct = 0\n",
    "total = 0\n",
    "with torch.no_grad():\n",
    "    for data in test_loader:\n",
    "        inputs, labels = data\n",
    "        inputs, labels = inputs.to(device), labels.to(device)\n",
    "        outputs = net(inputs) \n",
    "        _, predicted = torch.max(outputs.data, 1)\n",
    "        total += labels.size(0)\n",
    "        correct += (predicted == labels).sum().item()\n",
    "\n",
    "print('Accuracy of the network on the test data: %d %%' % (100 * correct / total))\n"
   ]
  },
  {
   "attachments": {},
   "cell_type": "markdown",
   "metadata": {},
   "source": [
    "## SVM kernel rbf"
   ]
  },
  {
   "cell_type": "code",
   "execution_count": null,
   "metadata": {
    "execution": {
     "iopub.execute_input": "2023-06-06T10:17:45.969787Z",
     "iopub.status.busy": "2023-06-06T10:17:45.969598Z",
     "iopub.status.idle": "2023-06-06T10:17:45.971975Z",
     "shell.execute_reply": "2023-06-06T10:17:45.971510Z"
    }
   },
   "outputs": [],
   "source": [
    "# from sklearn import svm\n",
    "# # Definisci il modello SVM\n",
    "# svm_rbf = svm.SVC(kernel='rbf', C=1, gamma='scale')\n",
    "\n",
    "# y_train = y_train.ravel()\n",
    "# # Addestra il modello sui dati di train\n",
    "# svm_rbf.fit(X_train, y_train)"
   ]
  },
  {
   "cell_type": "code",
   "execution_count": null,
   "metadata": {
    "execution": {
     "iopub.execute_input": "2023-06-06T10:17:45.974313Z",
     "iopub.status.busy": "2023-06-06T10:17:45.974127Z",
     "iopub.status.idle": "2023-06-06T10:17:45.976398Z",
     "shell.execute_reply": "2023-06-06T10:17:45.975930Z"
    }
   },
   "outputs": [],
   "source": [
    "# accuracy = svm_rbf.score(X_test, y_test)\n",
    "# print('Accuracy:', accuracy)"
   ]
  },
  {
   "attachments": {},
   "cell_type": "markdown",
   "metadata": {},
   "source": []
  }
 ],
 "metadata": {
  "kernelspec": {
   "display_name": "thesis",
   "language": "python",
   "name": "python3"
  },
  "language_info": {
   "codemirror_mode": {
    "name": "ipython",
    "version": 3
   },
   "file_extension": ".py",
   "mimetype": "text/x-python",
   "name": "python",
   "nbconvert_exporter": "python",
   "pygments_lexer": "ipython3",
   "version": "3.10.6"
  }
 },
 "nbformat": 4,
 "nbformat_minor": 2
}
