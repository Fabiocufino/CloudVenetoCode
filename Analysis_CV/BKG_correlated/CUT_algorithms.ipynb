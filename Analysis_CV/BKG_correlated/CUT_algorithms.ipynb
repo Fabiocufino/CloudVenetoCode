{
 "cells": [
  {
   "cell_type": "code",
   "execution_count": 2,
   "metadata": {},
   "outputs": [],
   "source": [
    "import uproot as up\n",
    "import numpy as np\n",
    "import matplotlib.pyplot as plt\n",
    "import pandas as pd\n",
    "\n",
    "plt.style.use('seaborn-v0_8-paper')\n",
    "plt.rcParams[\"patch.force_edgecolor\"] = True"
   ]
  },
  {
   "cell_type": "code",
   "execution_count": 23,
   "metadata": {},
   "outputs": [],
   "source": [
    "all_feature_df = pd.read_csv(\"../../../../mnt/fcufino/all_features_IBD_He.csv\")\n",
    "all_feature = {col: all_feature_df[col].values for col in all_feature_df.columns}\n",
    "\n",
    "\n",
    "\n",
    "features_BKG_df = all_feature_df[all_feature_df['Label'] == 0] #Qui c'è sia IBD_fake che BKG_radioactive\n",
    "features_BKG = {col: features_BKG_df[col].values for col in features_BKG_df.columns}\n",
    "\n",
    "features_IBD_df = all_feature_df[all_feature_df['Label'] == 1] #Label = 1 sono i VERI ibd\n",
    "features_IBD = {col: features_IBD_df[col].values for col in features_IBD_df.columns}\n"
   ]
  },
  {
   "attachments": {},
   "cell_type": "markdown",
   "metadata": {},
   "source": [
    "# Cutting algorithm for BOTH IBD and BKG"
   ]
  },
  {
   "cell_type": "code",
   "execution_count": 24,
   "metadata": {},
   "outputs": [],
   "source": [
    "from numba import njit, prange"
   ]
  },
  {
   "cell_type": "code",
   "execution_count": 25,
   "metadata": {},
   "outputs": [],
   "source": [
    "@njit(parallel = True) \n",
    "#delta time in nanoseconds\n",
    "#delta radius in mm\n",
    "def selection(dt,dr,E_pro,E_del, delta_time = 1e6, delta_radius = 1500, min_energy_prompt = 0.7,max_energy_prompt = 12, min_energy_delay = 1.9, max_energy_delay = 2.5, min_energy_delay_carb = 4.4, max_energy_delay_carb = 5.5):\n",
    "    prompt_columns = np.zeros(dt.shape)\n",
    "    delay_columns = np.zeros(dt.shape)\n",
    "    delay_columns_carb = np.zeros(dt.shape)\n",
    "    for i in prange(dt.shape[0]):\n",
    "        if dt[i] < delta_time: \n",
    "            if dr[i] < delta_radius: \n",
    "                if E_pro[i]>= min_energy_prompt and E_pro[i]<= max_energy_prompt:\n",
    "                    if E_del[i]>= min_energy_delay and E_del[i]<= max_energy_delay:\n",
    "                        prompt_columns[i] = 1\n",
    "                        delay_columns[i] = 1\n",
    "                    if E_del[i]>= min_energy_delay_carb and E_del[i]<= max_energy_delay_carb:\n",
    "                        prompt_columns[i] = 1\n",
    "                        delay_columns_carb[i] = 1\n",
    "    return prompt_columns,delay_columns,delay_columns_carb"
   ]
  },
  {
   "attachments": {},
   "cell_type": "markdown",
   "metadata": {},
   "source": [
    "### IBD selection, searching for true IBD events"
   ]
  },
  {
   "cell_type": "code",
   "execution_count": 26,
   "metadata": {},
   "outputs": [],
   "source": [
    "prompt_columns_IBD, delay_columns_IBD, delay_columns_carb_IBD = selection(features_IBD[\"delta_time\"],\n",
    "                                                                           features_IBD[\"delta_radius\"],\n",
    "                                                                           features_IBD[\"E_pro\"],\n",
    "                                                                           features_IBD[\"E_del\"])"
   ]
  },
  {
   "cell_type": "code",
   "execution_count": 27,
   "metadata": {},
   "outputs": [
    {
     "name": "stdout",
     "output_type": "stream",
     "text": [
      "Venongono selezionati come IBD  1435115.0 Su un tot di 1468385\n",
      "Efficiency:  97.73424544652799\n",
      "Purity:  100.0\n"
     ]
    }
   ],
   "source": [
    "print(\"Venongono selezionati come IBD \", prompt_columns_IBD.sum(),\"Su un tot di\", prompt_columns_IBD.shape[0])\n",
    "\n",
    "\n",
    "TP = np.logical_and(features_IBD['Label'] == 1, prompt_columns_IBD == 1)\n",
    "TN = np.logical_and(features_IBD['Label'] == 0, prompt_columns_IBD == 0)\n",
    "FN = np.logical_and(features_IBD[\"Label\"] == 1, prompt_columns_IBD == 0)\n",
    "FP = np.logical_and(features_IBD[\"Label\"] == 0, prompt_columns_IBD == 1) \n",
    "\n",
    "print(\"Efficiency: \", (TP.sum()/(TP.sum()+FN.sum())) * 100)\n",
    "#Efficiency sono il numero di eventi IBD veri selezionati diviso il numero totale di IBD.\n",
    "print(\"Purity: \", (TP.sum()/(TP.sum()+FP.sum())) * 100)\t"
   ]
  },
  {
   "attachments": {},
   "cell_type": "markdown",
   "metadata": {},
   "source": [
    "### BKG selection, searching for fake IBD eventi in BKG_RADIOACTIVITY dataset"
   ]
  },
  {
   "cell_type": "code",
   "execution_count": 28,
   "metadata": {},
   "outputs": [],
   "source": [
    "prompt_columns_BKG, delay_columns_BKG, delay_columns_carb_BKG = selection(features_BKG[\"delta_time\"][features_BKG[\"Source\"] == 0],\n",
    "                                                                           features_BKG[\"delta_radius\"][features_BKG[\"Source\"] == 0],\n",
    "                                                                           features_BKG[\"E_pro\"][features_BKG[\"Source\"] == 0],\n",
    "                                                                           features_BKG[\"E_del\"][features_BKG[\"Source\"] == 0])"
   ]
  },
  {
   "cell_type": "code",
   "execution_count": 29,
   "metadata": {},
   "outputs": [
    {
     "name": "stdout",
     "output_type": "stream",
     "text": [
      "43683.0 44916\n",
      "Efficiency:  2.745124231899546\n",
      "Purity:  100.0\n"
     ]
    }
   ],
   "source": [
    "print(prompt_columns_BKG.sum(), prompt_columns_BKG.shape[0])\n",
    "\n",
    "TP = np.logical_and(features_BKG['Label'][features_BKG[\"Source\"] == 0] == 0, prompt_columns_BKG == 0)\n",
    "TN = np.logical_and(features_BKG['Label'][features_BKG[\"Source\"] == 0] == 1, prompt_columns_BKG == 1)\n",
    "FN = np.logical_and(features_BKG[\"Label\"][features_BKG[\"Source\"] == 0] == 0, prompt_columns_BKG == 1)\n",
    "FP = np.logical_and(features_BKG[\"Label\"][features_BKG[\"Source\"] == 0] == 1, prompt_columns_BKG == 0) \n",
    "\n",
    "print(\"Efficiency: \", (TP.sum()/(TP.sum()+FN.sum())) * 100)\n",
    "print(\"Purity: \", (TP.sum()/(TP.sum()+FP.sum())) * 100)\t"
   ]
  },
  {
   "attachments": {},
   "cell_type": "markdown",
   "metadata": {},
   "source": [
    "# TOTAL Cut Algorithm "
   ]
  },
  {
   "cell_type": "code",
   "execution_count": 12,
   "metadata": {},
   "outputs": [],
   "source": [
    "prompt_columns, delay_columns, delay_columns_carb = selection(all_feature[\"delta_time\"],\n",
    "                                                              all_feature[\"delta_radius\"],\n",
    "                                                              all_feature[\"E_pro\"],\n",
    "                                                              all_feature[\"E_del\"])"
   ]
  },
  {
   "cell_type": "code",
   "execution_count": 13,
   "metadata": {},
   "outputs": [
    {
     "name": "stdout",
     "output_type": "stream",
     "text": [
      "Efficiency:  97.73424544652799\n",
      "Purity:  97.04532498787876\n"
     ]
    }
   ],
   "source": [
    "TP = np.logical_and(all_feature['Label'] == 1, prompt_columns == 1)\n",
    "TN = np.logical_and(all_feature['Label'] == 0, prompt_columns == 0)\n",
    "FN = np.logical_and(all_feature[\"Label\"] == 1, prompt_columns == 0)\n",
    "FP = np.logical_and(all_feature[\"Label\"] == 0, prompt_columns == 1) \n",
    "\n",
    "print(\"Efficiency: \", (TP.sum()/(TP.sum()+FN.sum())) * 100)\n",
    "print(\"Purity: \", (TP.sum()/(TP.sum()+FP.sum())) * 100)\t"
   ]
  },
  {
   "attachments": {},
   "cell_type": "markdown",
   "metadata": {},
   "source": [
    "# Plots"
   ]
  },
  {
   "cell_type": "code",
   "execution_count": 14,
   "metadata": {},
   "outputs": [
    {
     "data": {
      "image/png": "[encoded data removed]",
      "text/plain": [
       "<Figure size 640x440 with 1 Axes>"
      ]
     },
     "metadata": {},
     "output_type": "display_data"
    },
    {
     "data": {
      "image/png": "[encoded data removed]",
      "text/plain": [
       "<Figure size 640x440 with 1 Axes>"
      ]
     },
     "metadata": {},
     "output_type": "display_data"
    }
   ],
   "source": [
    "fig2 = plt.figure()\n",
    "plt.hist(features_IBD[\"delta_radius\"][features_IBD['Label'] == 1], np.linspace(0, 1e4, 500));\n",
    "plt.hist(features_IBD[\"delta_radius\"][prompt_columns_IBD == 1], np.linspace(0, 1e4, 500));\n",
    "plt.legend([\"True IBD\",\"Selected as IBD\"]);\n",
    "\n",
    "fig3 = plt.figure()\n",
    "plt.hist(features_IBD[\"E_pro\"][prompt_columns_IBD == 1], np.linspace(0,13,100), density = True);\n",
    "plt.hist(features_IBD[\"E_del\"][delay_columns_IBD == 1], np.linspace(1.5,2.7,50), color= \"green\", density = True);\n",
    "plt.hist(features_IBD[\"E_del\"][delay_columns_carb_IBD == 1], np.linspace(4.4,5.5,50), density=True);"
   ]
  }
 ],
 "metadata": {
  "kernelspec": {
   "display_name": "Python 3",
   "language": "python",
   "name": "python3"
  },
  "language_info": {
   "codemirror_mode": {
    "name": "ipython",
    "version": 3
   },
   "file_extension": ".py",
   "mimetype": "text/x-python",
   "name": "python",
   "nbconvert_exporter": "python",
   "pygments_lexer": "ipython3",
   "version": "3.10.6"
  },
  "orig_nbformat": 4
 },
 "nbformat": 4,
 "nbformat_minor": 2
}
