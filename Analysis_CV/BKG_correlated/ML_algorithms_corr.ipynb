{
 "cells": [
  {
   "attachments": {},
   "cell_type": "markdown",
   "metadata": {},
   "source": [
    "# Dealing with inbalanced Dataset\n",
    "\n",
    "We have a dataset in realisitc proportion, we could oversemple but it will not be good.\n",
    "\n",
    "We have a lot of IBD events created by Andrea and also a lot of radioactivity events. If we sort them in temporal order we get that there will be a little amount of IBD in all the radioactivity events, because it is more frequently have radioactivity events respect of IBD that are rare. \n",
    "\n",
    "So in order to train our ML-algorithm we could use generated IBD events and generated Radioactivity events, so in that cse we have basically the same amount of data and the inbalanced problem will disappear. After the training, we test with inbalaced dataset.\n",
    "\n",
    "Basically we use a smote \n",
    "\n",
    "We will se if it works... -> It worked!"
   ]
  },
  {
   "attachments": {},
   "cell_type": "markdown",
   "metadata": {},
   "source": [
    "# Loading data"
   ]
  },
  {
   "cell_type": "code",
   "execution_count": 286,
   "metadata": {
    "execution": {
     "iopub.execute_input": "2023-06-06T08:32:24.647157Z",
     "iopub.status.busy": "2023-06-06T08:32:24.646688Z",
     "iopub.status.idle": "2023-06-06T08:32:25.213242Z",
     "shell.execute_reply": "2023-06-06T08:32:25.212609Z"
    }
   },
   "outputs": [],
   "source": [
    "import uproot as up\n",
    "import numpy as np\n",
    "import matplotlib.pyplot as plt\n",
    "import pandas as pd\n",
    "\n",
    "plt.style.use('seaborn-v0_8-paper')\n",
    "plt.rcParams[\"patch.force_edgecolor\"] = True"
   ]
  },
  {
   "cell_type": "code",
   "execution_count": 287,
   "metadata": {
    "execution": {
     "iopub.execute_input": "2023-06-06T08:32:25.217386Z",
     "iopub.status.busy": "2023-06-06T08:32:25.216786Z",
     "iopub.status.idle": "2023-06-06T08:32:25.219769Z",
     "shell.execute_reply": "2023-06-06T08:32:25.219293Z"
    }
   },
   "outputs": [],
   "source": [
    "# file_all_features = up.open(\"Data/all_feature.root\")\n",
    "# all_feature = file_all_features['all_feature'].arrays(library = 'np')"
   ]
  },
  {
   "cell_type": "code",
   "execution_count": 288,
   "metadata": {},
   "outputs": [],
   "source": [
    "file_features = \"../../../../mnt/fcufino/all_features_IBD_U.csv\""
   ]
  },
  {
   "cell_type": "code",
   "execution_count": 289,
   "metadata": {
    "execution": {
     "iopub.execute_input": "2023-06-06T08:32:25.222389Z",
     "iopub.status.busy": "2023-06-06T08:32:25.222015Z",
     "iopub.status.idle": "2023-06-06T08:32:28.356387Z",
     "shell.execute_reply": "2023-06-06T08:32:28.355683Z"
    }
   },
   "outputs": [],
   "source": [
    "all_feature_IBD_He = pd.read_csv(file_features)\n",
    "# all_feature_IBD_Li = pd.read_csv(\"../../../../mnt/fcufino/all_features_IBD_Li.csv\")\n",
    "# all_feature_IBD_Th = pd.read_csv(\"../../../../mnt/fcufino/all_features_IBD_Th.csv\")\n",
    "# all_feature_IBD_U = pd.read_csv(\"../../../../mnt/fcufino/all_features_IBD_U.csv\")"
   ]
  },
  {
   "attachments": {},
   "cell_type": "markdown",
   "metadata": {},
   "source": [
    "## Checking the dataset size"
   ]
  },
  {
   "attachments": {},
   "cell_type": "markdown",
   "metadata": {},
   "source": [
    "# Balancing the dataset"
   ]
  },
  {
   "cell_type": "code",
   "execution_count": 290,
   "metadata": {
    "execution": {
     "iopub.execute_input": "2023-06-06T08:32:28.577654Z",
     "iopub.status.busy": "2023-06-06T08:32:28.577213Z",
     "iopub.status.idle": "2023-06-06T08:32:28.672389Z",
     "shell.execute_reply": "2023-06-06T08:32:28.671732Z"
    }
   },
   "outputs": [
    {
     "name": "stdout",
     "output_type": "stream",
     "text": [
      "BKG:  39578\n",
      "IBD:  49277\n"
     ]
    }
   ],
   "source": [
    "print(\"BKG: \", all_feature_IBD_He[\"delta_time\"][all_feature_IBD_He['Label']==0].shape[0])\n",
    "print(\"IBD: \", all_feature_IBD_He[\"delta_time\"][all_feature_IBD_He['Label']==1].shape[0]) "
   ]
  },
  {
   "attachments": {},
   "cell_type": "markdown",
   "metadata": {},
   "source": [
    "Sotto per mostrare che nel dataset BKG NON ci sono anche IBD non correlati"
   ]
  },
  {
   "cell_type": "code",
   "execution_count": 291,
   "metadata": {
    "execution": {
     "iopub.execute_input": "2023-06-06T08:32:28.675580Z",
     "iopub.status.busy": "2023-06-06T08:32:28.675107Z",
     "iopub.status.idle": "2023-06-06T08:32:28.716787Z",
     "shell.execute_reply": "2023-06-06T08:32:28.716243Z"
    }
   },
   "outputs": [
    {
     "name": "stdout",
     "output_type": "stream",
     "text": [
      "[0.]\n"
     ]
    }
   ],
   "source": [
    "print(all_feature_IBD_He['Source'][all_feature_IBD_He[\"Label\"]==0].unique())"
   ]
  },
  {
   "cell_type": "code",
   "execution_count": 292,
   "metadata": {
    "execution": {
     "iopub.execute_input": "2023-06-06T08:32:28.719671Z",
     "iopub.status.busy": "2023-06-06T08:32:28.719207Z",
     "iopub.status.idle": "2023-06-06T08:32:28.722937Z",
     "shell.execute_reply": "2023-06-06T08:32:28.722426Z"
    }
   },
   "outputs": [
    {
     "name": "stdout",
     "output_type": "stream",
     "text": [
      "R_prompt\n",
      "E_del\n",
      "delta_radius\n",
      "R_delayed\n",
      "Label\n",
      "E_pro\n",
      "delta_time\n",
      "Source\n",
      "Index(['R_prompt', 'E_del', 'delta_radius', 'R_delayed', 'Label', 'E_pro',\n",
      "       'delta_time', 'Source'],\n",
      "      dtype='object')\n"
     ]
    }
   ],
   "source": [
    "for key in all_feature_IBD_He.keys():\n",
    "    print(key)\n",
    "print(all_feature_IBD_He.keys())"
   ]
  },
  {
   "cell_type": "code",
   "execution_count": 293,
   "metadata": {
    "execution": {
     "iopub.execute_input": "2023-06-06T08:32:28.725339Z",
     "iopub.status.busy": "2023-06-06T08:32:28.724981Z",
     "iopub.status.idle": "2023-06-06T08:32:29.244375Z",
     "shell.execute_reply": "2023-06-06T08:32:29.243748Z"
    }
   },
   "outputs": [
    {
     "name": "stdout",
     "output_type": "stream",
     "text": [
      "BKG: 39578\n",
      "IBD: 39578\n"
     ]
    }
   ],
   "source": [
    "# Elimina gli elementi desiderati dal dataset\n",
    "num_IBD = all_feature_IBD_He[\"delta_time\"][all_feature_IBD_He['Label']==1].shape[0]\n",
    "num_BKG = all_feature_IBD_He[\"delta_time\"][all_feature_IBD_He['Label']==0].shape[0]\n",
    "\n",
    "del_BKG = 0\n",
    "del_IBD = 0\n",
    "\n",
    "if num_IBD > num_BKG:\n",
    "    del_IBD = num_IBD - num_BKG\n",
    "    to_del_ibd = all_feature_IBD_He.shape[0] - del_IBD\n",
    "    order = np.argsort(all_feature_IBD_He[\"Label\"])\n",
    "    all_feature = all_feature_IBD_He.iloc[order].dropna()\n",
    "    all_feature = all_feature.iloc[:to_del_ibd]\n",
    "\n",
    "elif num_IBD < num_BKG:\n",
    "    del_BKG = num_BKG - num_IBD\n",
    "    order = np.argsort(all_feature_IBD_He[\"Label\"])\n",
    "    all_feature = all_feature_IBD_He.iloc[order].dropna()\n",
    "    all_feature = all_feature.iloc[del_BKG:]\n",
    "\n",
    "print(\"BKG:\", num_BKG - del_BKG) \n",
    "print(\"IBD:\", num_IBD - del_IBD)"
   ]
  },
  {
   "attachments": {},
   "cell_type": "markdown",
   "metadata": {},
   "source": [
    "# Plots"
   ]
  },
  {
   "cell_type": "code",
   "execution_count": 294,
   "metadata": {
    "execution": {
     "iopub.execute_input": "2023-06-06T08:32:29.247559Z",
     "iopub.status.busy": "2023-06-06T08:32:29.247080Z",
     "iopub.status.idle": "2023-06-06T08:32:29.262351Z",
     "shell.execute_reply": "2023-06-06T08:32:29.261851Z"
    }
   },
   "outputs": [
    {
     "name": "stdout",
     "output_type": "stream",
     "text": [
      "39578\n",
      "39578\n"
     ]
    }
   ],
   "source": [
    "print(np.logical_and(all_feature[\"Label\"] == 0 , True).sum())\n",
    "print(np.logical_and(all_feature[\"Label\"] == 1 , True).sum())"
   ]
  },
  {
   "cell_type": "code",
   "execution_count": 295,
   "metadata": {
    "execution": {
     "iopub.execute_input": "2023-06-06T08:32:29.265031Z",
     "iopub.status.busy": "2023-06-06T08:32:29.264588Z",
     "iopub.status.idle": "2023-06-06T08:32:29.945462Z",
     "shell.execute_reply": "2023-06-06T08:32:29.944797Z"
    }
   },
   "outputs": [
    {
     "data": {
      "text/html": [
       "<div>\n",
       "<style scoped>\n",
       "    .dataframe tbody tr th:only-of-type {\n",
       "        vertical-align: middle;\n",
       "    }\n",
       "\n",
       "    .dataframe tbody tr th {\n",
       "        vertical-align: top;\n",
       "    }\n",
       "\n",
       "    .dataframe thead th {\n",
       "        text-align: right;\n",
       "    }\n",
       "</style>\n",
       "<table border=\"1\" class=\"dataframe\">\n",
       "  <thead>\n",
       "    <tr style=\"text-align: right;\">\n",
       "      <th></th>\n",
       "      <th>R_prompt</th>\n",
       "      <th>E_del</th>\n",
       "      <th>delta_radius</th>\n",
       "      <th>R_delayed</th>\n",
       "      <th>Label</th>\n",
       "      <th>E_pro</th>\n",
       "      <th>delta_time</th>\n",
       "      <th>Source</th>\n",
       "    </tr>\n",
       "  </thead>\n",
       "  <tbody>\n",
       "    <tr>\n",
       "      <th>count</th>\n",
       "      <td>39578.000000</td>\n",
       "      <td>39578.000000</td>\n",
       "      <td>39578.000000</td>\n",
       "      <td>39578.000000</td>\n",
       "      <td>39578.0</td>\n",
       "      <td>39578.000000</td>\n",
       "      <td>3.957800e+04</td>\n",
       "      <td>39578.0</td>\n",
       "    </tr>\n",
       "    <tr>\n",
       "      <th>mean</th>\n",
       "      <td>13224.381919</td>\n",
       "      <td>2.259527</td>\n",
       "      <td>502.954968</td>\n",
       "      <td>13220.279341</td>\n",
       "      <td>0.0</td>\n",
       "      <td>1.633463</td>\n",
       "      <td>2.328664e+05</td>\n",
       "      <td>0.0</td>\n",
       "    </tr>\n",
       "    <tr>\n",
       "      <th>std</th>\n",
       "      <td>3405.288726</td>\n",
       "      <td>0.343463</td>\n",
       "      <td>1321.043815</td>\n",
       "      <td>3403.900350</td>\n",
       "      <td>0.0</td>\n",
       "      <td>0.447539</td>\n",
       "      <td>1.988174e+05</td>\n",
       "      <td>0.0</td>\n",
       "    </tr>\n",
       "    <tr>\n",
       "      <th>min</th>\n",
       "      <td>453.667511</td>\n",
       "      <td>0.217762</td>\n",
       "      <td>7.967504</td>\n",
       "      <td>604.222290</td>\n",
       "      <td>0.0</td>\n",
       "      <td>0.393128</td>\n",
       "      <td>1.024000e+03</td>\n",
       "      <td>0.0</td>\n",
       "    </tr>\n",
       "    <tr>\n",
       "      <th>25%</th>\n",
       "      <td>11109.026123</td>\n",
       "      <td>2.203555</td>\n",
       "      <td>224.834515</td>\n",
       "      <td>11100.544922</td>\n",
       "      <td>0.0</td>\n",
       "      <td>1.253131</td>\n",
       "      <td>6.553600e+04</td>\n",
       "      <td>0.0</td>\n",
       "    </tr>\n",
       "    <tr>\n",
       "      <th>50%</th>\n",
       "      <td>13998.007324</td>\n",
       "      <td>2.241376</td>\n",
       "      <td>352.353470</td>\n",
       "      <td>13987.709473</td>\n",
       "      <td>0.0</td>\n",
       "      <td>1.531161</td>\n",
       "      <td>1.802240e+05</td>\n",
       "      <td>0.0</td>\n",
       "    </tr>\n",
       "    <tr>\n",
       "      <th>75%</th>\n",
       "      <td>16016.805664</td>\n",
       "      <td>2.278719</td>\n",
       "      <td>545.705292</td>\n",
       "      <td>16008.484619</td>\n",
       "      <td>0.0</td>\n",
       "      <td>2.036213</td>\n",
       "      <td>3.276800e+05</td>\n",
       "      <td>0.0</td>\n",
       "    </tr>\n",
       "    <tr>\n",
       "      <th>max</th>\n",
       "      <td>17400.001953</td>\n",
       "      <td>11.293560</td>\n",
       "      <td>31366.388672</td>\n",
       "      <td>17400.001953</td>\n",
       "      <td>0.0</td>\n",
       "      <td>3.499223</td>\n",
       "      <td>1.097728e+06</td>\n",
       "      <td>0.0</td>\n",
       "    </tr>\n",
       "  </tbody>\n",
       "</table>\n",
       "</div>"
      ],
      "text/plain": [
       "           R_prompt         E_del  delta_radius     R_delayed    Label   \n",
       "count  39578.000000  39578.000000  39578.000000  39578.000000  39578.0  \\\n",
       "mean   13224.381919      2.259527    502.954968  13220.279341      0.0   \n",
       "std     3405.288726      0.343463   1321.043815   3403.900350      0.0   \n",
       "min      453.667511      0.217762      7.967504    604.222290      0.0   \n",
       "25%    11109.026123      2.203555    224.834515  11100.544922      0.0   \n",
       "50%    13998.007324      2.241376    352.353470  13987.709473      0.0   \n",
       "75%    16016.805664      2.278719    545.705292  16008.484619      0.0   \n",
       "max    17400.001953     11.293560  31366.388672  17400.001953      0.0   \n",
       "\n",
       "              E_pro    delta_time   Source  \n",
       "count  39578.000000  3.957800e+04  39578.0  \n",
       "mean       1.633463  2.328664e+05      0.0  \n",
       "std        0.447539  1.988174e+05      0.0  \n",
       "min        0.393128  1.024000e+03      0.0  \n",
       "25%        1.253131  6.553600e+04      0.0  \n",
       "50%        1.531161  1.802240e+05      0.0  \n",
       "75%        2.036213  3.276800e+05      0.0  \n",
       "max        3.499223  1.097728e+06      0.0  "
      ]
     },
     "execution_count": 295,
     "metadata": {},
     "output_type": "execute_result"
    }
   ],
   "source": [
    "all_feature_IBD_He[all_feature_IBD_He['Label']==0].describe()"
   ]
  },
  {
   "cell_type": "code",
   "execution_count": 318,
   "metadata": {
    "execution": {
     "iopub.execute_input": "2023-06-06T08:32:29.949024Z",
     "iopub.status.busy": "2023-06-06T08:32:29.948539Z",
     "iopub.status.idle": "2023-06-06T08:32:33.238130Z",
     "shell.execute_reply": "2023-06-06T08:32:33.237538Z"
    }
   },
   "outputs": [
    {
     "data": {
      "image/png": "[encoded data removed]",
      "text/plain": [
       "<Figure size 1500x1000 with 6 Axes>"
      ]
     },
     "metadata": {},
     "output_type": "display_data"
    }
   ],
   "source": [
    "features = ['E_del',\"E_pro\",\"R_delayed\",\"delta_radius\",\"delta_time\",\"R_prompt\"]\n",
    "# Definisci le dimensioni della griglia dei subplot\n",
    "num_rows = 2  # Numero di righe\n",
    "num_cols = 3  # Numero di colonne\n",
    "\n",
    "# Crea una figura e una griglia di subplot\n",
    "fig, axes = plt.subplots(num_rows, num_cols, figsize=(15, 10))\n",
    "\n",
    "# Itera attraverso tutte le features\n",
    "for idx, feature in enumerate(features):\n",
    "    # Calcola gli indici della riga e della colonna corrente\n",
    "    row = idx // num_cols\n",
    "    col = idx % num_cols\n",
    "\n",
    "    # Seleziona l'asse corrispondente alla riga e alla colonna corrente\n",
    "    ax = axes[row, col] if num_rows > 1 else axes[col]\n",
    "    \n",
    "    if feature == \"E_del\":\n",
    "        ax.hist(all_feature[feature][all_feature['Label'] == 1],np.linspace(0,8,50), color='dodgerblue',alpha = 0.7, label='IBD')\n",
    "        ax.hist(all_feature[feature][all_feature['Label'] == 0],np.linspace(0,8,50), color='green',alpha = 0.5, label='BKG')\n",
    "    \n",
    "    elif feature == \"E_pro\":\n",
    "        ax.hist(all_feature[feature][all_feature['Label'] == 1],np.linspace(0,12,50), color='dodgerblue',alpha = 0.7, label='IBD')\n",
    "        ax.hist(all_feature[feature][all_feature['Label'] == 0],np.linspace(0,12,50), color='green',alpha = 0.5, label='BKG')\n",
    "    else:\n",
    "        ax.hist(all_feature[feature][all_feature['Label'] == 1],bins=50, color='dodgerblue',alpha = 0.7, label='IBD')\n",
    "        ax.hist(all_feature[feature][all_feature['Source'] == 0],bins=50, color='green',alpha = 0.5, label='BKG')\n",
    "    \n",
    "\n",
    " \n",
    "    ax.set_title(f'Distribuzione: {feature}')\n",
    "    ax.legend(loc='upper right')\n",
    "    \n",
    "\n",
    "plt.tight_layout()\n",
    "plt.show()"
   ]
  },
  {
   "attachments": {},
   "cell_type": "markdown",
   "metadata": {},
   "source": [
    "# ML Classification Algorithms"
   ]
  },
  {
   "attachments": {},
   "cell_type": "markdown",
   "metadata": {},
   "source": [
    "## Creating train and test datasets"
   ]
  },
  {
   "attachments": {},
   "cell_type": "markdown",
   "metadata": {},
   "source": [
    "Tolgo delta time perchè ha il problema del timestamp e credo che "
   ]
  },
  {
   "cell_type": "code",
   "execution_count": 319,
   "metadata": {
    "execution": {
     "iopub.execute_input": "2023-06-06T08:32:33.247754Z",
     "iopub.status.busy": "2023-06-06T08:32:33.247380Z",
     "iopub.status.idle": "2023-06-06T08:32:34.138779Z",
     "shell.execute_reply": "2023-06-06T08:32:34.138104Z"
    }
   },
   "outputs": [],
   "source": [
    "from sklearn.model_selection import train_test_split\n",
    "\n",
    "\n",
    "columns_to_exclude = ['Label', 'Source', 'delta_time']\n",
    "\n",
    "\n",
    "X = all_feature.drop(columns_to_exclude, axis=1)\n",
    "Y = all_feature['Label']\n",
    "\n",
    "X_train, X_test, y_train, y_test = train_test_split(X, Y, test_size=.2)"
   ]
  },
  {
   "attachments": {},
   "cell_type": "markdown",
   "metadata": {},
   "source": [
    "## XGBClassifier"
   ]
  },
  {
   "cell_type": "code",
   "execution_count": 320,
   "metadata": {
    "execution": {
     "iopub.execute_input": "2023-06-06T08:32:34.142124Z",
     "iopub.status.busy": "2023-06-06T08:32:34.141658Z",
     "iopub.status.idle": "2023-06-06T08:32:34.165796Z",
     "shell.execute_reply": "2023-06-06T08:32:34.165226Z"
    }
   },
   "outputs": [],
   "source": [
    "from sklearn.metrics import roc_auc_score\n",
    "import time\n",
    "import xgboost as xgb"
   ]
  },
  {
   "cell_type": "code",
   "execution_count": 299,
   "metadata": {
    "execution": {
     "iopub.execute_input": "2023-06-06T08:32:34.169196Z",
     "iopub.status.busy": "2023-06-06T08:32:34.168778Z",
     "iopub.status.idle": "2023-06-06T08:35:03.878575Z",
     "shell.execute_reply": "2023-06-06T08:35:03.877518Z"
    }
   },
   "outputs": [
    {
     "name": "stdout",
     "output_type": "stream",
     "text": [
      "[0]\tvalidation_0-error:0.13624\tvalidation_0-logloss:0.66292\tvalidation_1-error:0.13763\tvalidation_1-logloss:0.66298\n",
      "[1]\tvalidation_0-error:0.13617\tvalidation_0-logloss:0.63557\tvalidation_1-error:0.13763\tvalidation_1-logloss:0.63571\n",
      "[2]\tvalidation_0-error:0.13521\tvalidation_0-logloss:0.61072\tvalidation_1-error:0.13669\tvalidation_1-logloss:0.61094\n",
      "[3]\tvalidation_0-error:0.13521\tvalidation_0-logloss:0.58808\tvalidation_1-error:0.13669\tvalidation_1-logloss:0.58835\n",
      "[4]\tvalidation_0-error:0.13524\tvalidation_0-logloss:0.56735\tvalidation_1-error:0.13669\tvalidation_1-logloss:0.56769\n"
     ]
    },
    {
     "name": "stderr",
     "output_type": "stream",
     "text": [
      "`eval_metric` in `fit` method is deprecated for better compatibility with scikit-learn, use `eval_metric` in constructor or`set_params` instead.\n"
     ]
    },
    {
     "name": "stdout",
     "output_type": "stream",
     "text": [
      "[5]\tvalidation_0-error:0.13521\tvalidation_0-logloss:0.54836\tvalidation_1-error:0.13669\tvalidation_1-logloss:0.54877\n",
      "[6]\tvalidation_0-error:0.13529\tvalidation_0-logloss:0.53092\tvalidation_1-error:0.13662\tvalidation_1-logloss:0.53136\n",
      "[7]\tvalidation_0-error:0.13535\tvalidation_0-logloss:0.51483\tvalidation_1-error:0.13662\tvalidation_1-logloss:0.51532\n",
      "[8]\tvalidation_0-error:0.13521\tvalidation_0-logloss:0.50004\tvalidation_1-error:0.13656\tvalidation_1-logloss:0.50052\n",
      "[9]\tvalidation_0-error:0.13535\tvalidation_0-logloss:0.48633\tvalidation_1-error:0.13662\tvalidation_1-logloss:0.48687\n",
      "[10]\tvalidation_0-error:0.13518\tvalidation_0-logloss:0.47364\tvalidation_1-error:0.13662\tvalidation_1-logloss:0.47420\n",
      "[11]\tvalidation_0-error:0.13527\tvalidation_0-logloss:0.46188\tvalidation_1-error:0.13662\tvalidation_1-logloss:0.46249\n",
      "[12]\tvalidation_0-error:0.13532\tvalidation_0-logloss:0.45096\tvalidation_1-error:0.13662\tvalidation_1-logloss:0.45159\n",
      "[13]\tvalidation_0-error:0.13529\tvalidation_0-logloss:0.44082\tvalidation_1-error:0.13669\tvalidation_1-logloss:0.44152\n",
      "[14]\tvalidation_0-error:0.13527\tvalidation_0-logloss:0.43139\tvalidation_1-error:0.13662\tvalidation_1-logloss:0.43210\n",
      "[15]\tvalidation_0-error:0.13529\tvalidation_0-logloss:0.42255\tvalidation_1-error:0.13681\tvalidation_1-logloss:0.42330\n",
      "[16]\tvalidation_0-error:0.13537\tvalidation_0-logloss:0.41435\tvalidation_1-error:0.13694\tvalidation_1-logloss:0.41518\n",
      "[17]\tvalidation_0-error:0.13530\tvalidation_0-logloss:0.40669\tvalidation_1-error:0.13700\tvalidation_1-logloss:0.40759\n",
      "[18]\tvalidation_0-error:0.13534\tvalidation_0-logloss:0.39956\tvalidation_1-error:0.13700\tvalidation_1-logloss:0.40052\n",
      "[19]\tvalidation_0-error:0.13538\tvalidation_0-logloss:0.39287\tvalidation_1-error:0.13694\tvalidation_1-logloss:0.39387\n",
      "[20]\tvalidation_0-error:0.13540\tvalidation_0-logloss:0.38665\tvalidation_1-error:0.13700\tvalidation_1-logloss:0.38766\n",
      "[21]\tvalidation_0-error:0.13538\tvalidation_0-logloss:0.38084\tvalidation_1-error:0.13700\tvalidation_1-logloss:0.38190\n",
      "[22]\tvalidation_0-error:0.13518\tvalidation_0-logloss:0.37537\tvalidation_1-error:0.13687\tvalidation_1-logloss:0.37646\n",
      "[23]\tvalidation_0-error:0.13489\tvalidation_0-logloss:0.37016\tvalidation_1-error:0.13599\tvalidation_1-logloss:0.37133\n",
      "[24]\tvalidation_0-error:0.13475\tvalidation_0-logloss:0.36538\tvalidation_1-error:0.13586\tvalidation_1-logloss:0.36657\n",
      "[25]\tvalidation_0-error:0.13436\tvalidation_0-logloss:0.36088\tvalidation_1-error:0.13549\tvalidation_1-logloss:0.36216\n",
      "[26]\tvalidation_0-error:0.13415\tvalidation_0-logloss:0.35666\tvalidation_1-error:0.13523\tvalidation_1-logloss:0.35794\n",
      "[27]\tvalidation_0-error:0.13445\tvalidation_0-logloss:0.35269\tvalidation_1-error:0.13567\tvalidation_1-logloss:0.35403\n",
      "[28]\tvalidation_0-error:0.13442\tvalidation_0-logloss:0.34895\tvalidation_1-error:0.13567\tvalidation_1-logloss:0.35034\n",
      "[29]\tvalidation_0-error:0.13412\tvalidation_0-logloss:0.34544\tvalidation_1-error:0.13542\tvalidation_1-logloss:0.34686\n",
      "[30]\tvalidation_0-error:0.13404\tvalidation_0-logloss:0.34209\tvalidation_1-error:0.13536\tvalidation_1-logloss:0.34358\n",
      "[31]\tvalidation_0-error:0.13358\tvalidation_0-logloss:0.33899\tvalidation_1-error:0.13555\tvalidation_1-logloss:0.34055\n",
      "[32]\tvalidation_0-error:0.13355\tvalidation_0-logloss:0.33606\tvalidation_1-error:0.13561\tvalidation_1-logloss:0.33763\n",
      "[33]\tvalidation_0-error:0.13324\tvalidation_0-logloss:0.33331\tvalidation_1-error:0.13536\tvalidation_1-logloss:0.33494\n",
      "[34]\tvalidation_0-error:0.13322\tvalidation_0-logloss:0.33071\tvalidation_1-error:0.13536\tvalidation_1-logloss:0.33237\n",
      "[35]\tvalidation_0-error:0.13324\tvalidation_0-logloss:0.32825\tvalidation_1-error:0.13523\tvalidation_1-logloss:0.32997\n",
      "[36]\tvalidation_0-error:0.13327\tvalidation_0-logloss:0.32596\tvalidation_1-error:0.13586\tvalidation_1-logloss:0.32772\n",
      "[37]\tvalidation_0-error:0.13320\tvalidation_0-logloss:0.32378\tvalidation_1-error:0.13593\tvalidation_1-logloss:0.32555\n",
      "[38]\tvalidation_0-error:0.13324\tvalidation_0-logloss:0.32175\tvalidation_1-error:0.13574\tvalidation_1-logloss:0.32355\n",
      "[39]\tvalidation_0-error:0.13324\tvalidation_0-logloss:0.31982\tvalidation_1-error:0.13586\tvalidation_1-logloss:0.32169\n",
      "[40]\tvalidation_0-error:0.13317\tvalidation_0-logloss:0.31797\tvalidation_1-error:0.13574\tvalidation_1-logloss:0.31985\n",
      "[41]\tvalidation_0-error:0.13320\tvalidation_0-logloss:0.31621\tvalidation_1-error:0.13574\tvalidation_1-logloss:0.31811\n",
      "[42]\tvalidation_0-error:0.13312\tvalidation_0-logloss:0.31458\tvalidation_1-error:0.13574\tvalidation_1-logloss:0.31652\n",
      "[43]\tvalidation_0-error:0.13306\tvalidation_0-logloss:0.31298\tvalidation_1-error:0.13567\tvalidation_1-logloss:0.31498\n",
      "[44]\tvalidation_0-error:0.13303\tvalidation_0-logloss:0.31153\tvalidation_1-error:0.13549\tvalidation_1-logloss:0.31356\n",
      "[45]\tvalidation_0-error:0.13294\tvalidation_0-logloss:0.31005\tvalidation_1-error:0.13536\tvalidation_1-logloss:0.31217\n",
      "[46]\tvalidation_0-error:0.13264\tvalidation_0-logloss:0.30873\tvalidation_1-error:0.13511\tvalidation_1-logloss:0.31087\n",
      "[47]\tvalidation_0-error:0.13262\tvalidation_0-logloss:0.30750\tvalidation_1-error:0.13498\tvalidation_1-logloss:0.30967\n",
      "[48]\tvalidation_0-error:0.13229\tvalidation_0-logloss:0.30630\tvalidation_1-error:0.13498\tvalidation_1-logloss:0.30852\n",
      "[49]\tvalidation_0-error:0.13211\tvalidation_0-logloss:0.30515\tvalidation_1-error:0.13511\tvalidation_1-logloss:0.30742\n",
      "[50]\tvalidation_0-error:0.13199\tvalidation_0-logloss:0.30411\tvalidation_1-error:0.13485\tvalidation_1-logloss:0.30644\n",
      "[51]\tvalidation_0-error:0.13199\tvalidation_0-logloss:0.30306\tvalidation_1-error:0.13460\tvalidation_1-logloss:0.30545\n",
      "[52]\tvalidation_0-error:0.13178\tvalidation_0-logloss:0.30209\tvalidation_1-error:0.13454\tvalidation_1-logloss:0.30452\n",
      "[53]\tvalidation_0-error:0.13186\tvalidation_0-logloss:0.30120\tvalidation_1-error:0.13473\tvalidation_1-logloss:0.30365\n",
      "[54]\tvalidation_0-error:0.13181\tvalidation_0-logloss:0.30032\tvalidation_1-error:0.13460\tvalidation_1-logloss:0.30283\n",
      "[55]\tvalidation_0-error:0.13145\tvalidation_0-logloss:0.29946\tvalidation_1-error:0.13492\tvalidation_1-logloss:0.30203\n",
      "[56]\tvalidation_0-error:0.13139\tvalidation_0-logloss:0.29868\tvalidation_1-error:0.13473\tvalidation_1-logloss:0.30128\n",
      "[57]\tvalidation_0-error:0.13140\tvalidation_0-logloss:0.29793\tvalidation_1-error:0.13492\tvalidation_1-logloss:0.30060\n",
      "[58]\tvalidation_0-error:0.13121\tvalidation_0-logloss:0.29723\tvalidation_1-error:0.13492\tvalidation_1-logloss:0.29993\n",
      "[59]\tvalidation_0-error:0.13125\tvalidation_0-logloss:0.29657\tvalidation_1-error:0.13511\tvalidation_1-logloss:0.29934\n",
      "[60]\tvalidation_0-error:0.13118\tvalidation_0-logloss:0.29585\tvalidation_1-error:0.13492\tvalidation_1-logloss:0.29869\n",
      "[61]\tvalidation_0-error:0.13118\tvalidation_0-logloss:0.29517\tvalidation_1-error:0.13485\tvalidation_1-logloss:0.29810\n",
      "[62]\tvalidation_0-error:0.13110\tvalidation_0-logloss:0.29454\tvalidation_1-error:0.13473\tvalidation_1-logloss:0.29753\n",
      "[63]\tvalidation_0-error:0.13104\tvalidation_0-logloss:0.29393\tvalidation_1-error:0.13466\tvalidation_1-logloss:0.29694\n",
      "[64]\tvalidation_0-error:0.13112\tvalidation_0-logloss:0.29333\tvalidation_1-error:0.13466\tvalidation_1-logloss:0.29638\n",
      "[65]\tvalidation_0-error:0.13114\tvalidation_0-logloss:0.29278\tvalidation_1-error:0.13466\tvalidation_1-logloss:0.29590\n",
      "[66]\tvalidation_0-error:0.13109\tvalidation_0-logloss:0.29226\tvalidation_1-error:0.13447\tvalidation_1-logloss:0.29543\n",
      "[67]\tvalidation_0-error:0.13106\tvalidation_0-logloss:0.29174\tvalidation_1-error:0.13454\tvalidation_1-logloss:0.29495\n",
      "[68]\tvalidation_0-error:0.13099\tvalidation_0-logloss:0.29126\tvalidation_1-error:0.13447\tvalidation_1-logloss:0.29450\n",
      "[69]\tvalidation_0-error:0.13104\tvalidation_0-logloss:0.29080\tvalidation_1-error:0.13441\tvalidation_1-logloss:0.29406\n",
      "[70]\tvalidation_0-error:0.13098\tvalidation_0-logloss:0.29036\tvalidation_1-error:0.13441\tvalidation_1-logloss:0.29367\n",
      "[71]\tvalidation_0-error:0.13102\tvalidation_0-logloss:0.28995\tvalidation_1-error:0.13435\tvalidation_1-logloss:0.29329\n",
      "[72]\tvalidation_0-error:0.13095\tvalidation_0-logloss:0.28956\tvalidation_1-error:0.13435\tvalidation_1-logloss:0.29292\n",
      "[73]\tvalidation_0-error:0.13080\tvalidation_0-logloss:0.28918\tvalidation_1-error:0.13435\tvalidation_1-logloss:0.29257\n",
      "[74]\tvalidation_0-error:0.13080\tvalidation_0-logloss:0.28882\tvalidation_1-error:0.13435\tvalidation_1-logloss:0.29226\n",
      "[75]\tvalidation_0-error:0.13068\tvalidation_0-logloss:0.28847\tvalidation_1-error:0.13435\tvalidation_1-logloss:0.29195\n",
      "[76]\tvalidation_0-error:0.13071\tvalidation_0-logloss:0.28814\tvalidation_1-error:0.13435\tvalidation_1-logloss:0.29164\n",
      "[77]\tvalidation_0-error:0.13066\tvalidation_0-logloss:0.28783\tvalidation_1-error:0.13435\tvalidation_1-logloss:0.29136\n",
      "[78]\tvalidation_0-error:0.13061\tvalidation_0-logloss:0.28750\tvalidation_1-error:0.13428\tvalidation_1-logloss:0.29108\n",
      "[79]\tvalidation_0-error:0.13052\tvalidation_0-logloss:0.28721\tvalidation_1-error:0.13422\tvalidation_1-logloss:0.29081\n",
      "[80]\tvalidation_0-error:0.13057\tvalidation_0-logloss:0.28692\tvalidation_1-error:0.13422\tvalidation_1-logloss:0.29058\n",
      "[81]\tvalidation_0-error:0.13046\tvalidation_0-logloss:0.28665\tvalidation_1-error:0.13422\tvalidation_1-logloss:0.29035\n",
      "[82]\tvalidation_0-error:0.13052\tvalidation_0-logloss:0.28640\tvalidation_1-error:0.13416\tvalidation_1-logloss:0.29012\n",
      "[83]\tvalidation_0-error:0.13050\tvalidation_0-logloss:0.28614\tvalidation_1-error:0.13410\tvalidation_1-logloss:0.28989\n",
      "[84]\tvalidation_0-error:0.13049\tvalidation_0-logloss:0.28590\tvalidation_1-error:0.13410\tvalidation_1-logloss:0.28967\n",
      "[85]\tvalidation_0-error:0.13046\tvalidation_0-logloss:0.28567\tvalidation_1-error:0.13397\tvalidation_1-logloss:0.28947\n",
      "[86]\tvalidation_0-error:0.13044\tvalidation_0-logloss:0.28541\tvalidation_1-error:0.13410\tvalidation_1-logloss:0.28927\n",
      "[87]\tvalidation_0-error:0.13041\tvalidation_0-logloss:0.28519\tvalidation_1-error:0.13410\tvalidation_1-logloss:0.28908\n",
      "[88]\tvalidation_0-error:0.13035\tvalidation_0-logloss:0.28498\tvalidation_1-error:0.13397\tvalidation_1-logloss:0.28891\n",
      "[89]\tvalidation_0-error:0.13031\tvalidation_0-logloss:0.28479\tvalidation_1-error:0.13391\tvalidation_1-logloss:0.28873\n",
      "[90]\tvalidation_0-error:0.13033\tvalidation_0-logloss:0.28460\tvalidation_1-error:0.13391\tvalidation_1-logloss:0.28858\n",
      "[91]\tvalidation_0-error:0.13030\tvalidation_0-logloss:0.28441\tvalidation_1-error:0.13397\tvalidation_1-logloss:0.28840\n",
      "[92]\tvalidation_0-error:0.13025\tvalidation_0-logloss:0.28423\tvalidation_1-error:0.13397\tvalidation_1-logloss:0.28825\n",
      "[93]\tvalidation_0-error:0.13025\tvalidation_0-logloss:0.28406\tvalidation_1-error:0.13403\tvalidation_1-logloss:0.28811\n",
      "[94]\tvalidation_0-error:0.13020\tvalidation_0-logloss:0.28389\tvalidation_1-error:0.13391\tvalidation_1-logloss:0.28795\n",
      "[95]\tvalidation_0-error:0.13020\tvalidation_0-logloss:0.28373\tvalidation_1-error:0.13384\tvalidation_1-logloss:0.28784\n",
      "[96]\tvalidation_0-error:0.13017\tvalidation_0-logloss:0.28357\tvalidation_1-error:0.13384\tvalidation_1-logloss:0.28769\n",
      "[97]\tvalidation_0-error:0.13020\tvalidation_0-logloss:0.28342\tvalidation_1-error:0.13384\tvalidation_1-logloss:0.28757\n",
      "[98]\tvalidation_0-error:0.13022\tvalidation_0-logloss:0.28328\tvalidation_1-error:0.13372\tvalidation_1-logloss:0.28745\n",
      "[99]\tvalidation_0-error:0.13022\tvalidation_0-logloss:0.28314\tvalidation_1-error:0.13372\tvalidation_1-logloss:0.28733\n",
      "[100]\tvalidation_0-error:0.13017\tvalidation_0-logloss:0.28300\tvalidation_1-error:0.13391\tvalidation_1-logloss:0.28722\n",
      "[101]\tvalidation_0-error:0.13012\tvalidation_0-logloss:0.28286\tvalidation_1-error:0.13365\tvalidation_1-logloss:0.28710\n",
      "[102]\tvalidation_0-error:0.13012\tvalidation_0-logloss:0.28274\tvalidation_1-error:0.13372\tvalidation_1-logloss:0.28699\n",
      "[103]\tvalidation_0-error:0.13011\tvalidation_0-logloss:0.28262\tvalidation_1-error:0.13372\tvalidation_1-logloss:0.28689\n",
      "[104]\tvalidation_0-error:0.13012\tvalidation_0-logloss:0.28245\tvalidation_1-error:0.13365\tvalidation_1-logloss:0.28680\n",
      "[105]\tvalidation_0-error:0.13014\tvalidation_0-logloss:0.28234\tvalidation_1-error:0.13372\tvalidation_1-logloss:0.28669\n",
      "[106]\tvalidation_0-error:0.13009\tvalidation_0-logloss:0.28223\tvalidation_1-error:0.13372\tvalidation_1-logloss:0.28661\n",
      "[107]\tvalidation_0-error:0.13005\tvalidation_0-logloss:0.28206\tvalidation_1-error:0.13384\tvalidation_1-logloss:0.28653\n",
      "[108]\tvalidation_0-error:0.13000\tvalidation_0-logloss:0.28191\tvalidation_1-error:0.13378\tvalidation_1-logloss:0.28643\n",
      "[109]\tvalidation_0-error:0.12998\tvalidation_0-logloss:0.28180\tvalidation_1-error:0.13378\tvalidation_1-logloss:0.28635\n",
      "[110]\tvalidation_0-error:0.13001\tvalidation_0-logloss:0.28171\tvalidation_1-error:0.13378\tvalidation_1-logloss:0.28629\n",
      "[111]\tvalidation_0-error:0.13001\tvalidation_0-logloss:0.28163\tvalidation_1-error:0.13372\tvalidation_1-logloss:0.28621\n",
      "[112]\tvalidation_0-error:0.13003\tvalidation_0-logloss:0.28154\tvalidation_1-error:0.13365\tvalidation_1-logloss:0.28614\n",
      "[113]\tvalidation_0-error:0.12998\tvalidation_0-logloss:0.28141\tvalidation_1-error:0.13365\tvalidation_1-logloss:0.28609\n",
      "[114]\tvalidation_0-error:0.12997\tvalidation_0-logloss:0.28133\tvalidation_1-error:0.13340\tvalidation_1-logloss:0.28603\n",
      "[115]\tvalidation_0-error:0.12992\tvalidation_0-logloss:0.28119\tvalidation_1-error:0.13340\tvalidation_1-logloss:0.28595\n",
      "[116]\tvalidation_0-error:0.12989\tvalidation_0-logloss:0.28111\tvalidation_1-error:0.13327\tvalidation_1-logloss:0.28587\n",
      "[117]\tvalidation_0-error:0.12987\tvalidation_0-logloss:0.28104\tvalidation_1-error:0.13327\tvalidation_1-logloss:0.28581\n",
      "[118]\tvalidation_0-error:0.12987\tvalidation_0-logloss:0.28090\tvalidation_1-error:0.13327\tvalidation_1-logloss:0.28575\n",
      "[119]\tvalidation_0-error:0.12984\tvalidation_0-logloss:0.28083\tvalidation_1-error:0.13340\tvalidation_1-logloss:0.28570\n",
      "[120]\tvalidation_0-error:0.12982\tvalidation_0-logloss:0.28072\tvalidation_1-error:0.13346\tvalidation_1-logloss:0.28568\n",
      "[121]\tvalidation_0-error:0.12986\tvalidation_0-logloss:0.28065\tvalidation_1-error:0.13340\tvalidation_1-logloss:0.28567\n",
      "[122]\tvalidation_0-error:0.12986\tvalidation_0-logloss:0.28058\tvalidation_1-error:0.13334\tvalidation_1-logloss:0.28561\n",
      "[123]\tvalidation_0-error:0.12984\tvalidation_0-logloss:0.28052\tvalidation_1-error:0.13340\tvalidation_1-logloss:0.28556\n",
      "[124]\tvalidation_0-error:0.12979\tvalidation_0-logloss:0.28041\tvalidation_1-error:0.13346\tvalidation_1-logloss:0.28551\n",
      "[125]\tvalidation_0-error:0.12976\tvalidation_0-logloss:0.28035\tvalidation_1-error:0.13346\tvalidation_1-logloss:0.28546\n",
      "[126]\tvalidation_0-error:0.12978\tvalidation_0-logloss:0.28026\tvalidation_1-error:0.13327\tvalidation_1-logloss:0.28539\n",
      "[127]\tvalidation_0-error:0.12973\tvalidation_0-logloss:0.28020\tvalidation_1-error:0.13321\tvalidation_1-logloss:0.28534\n",
      "[128]\tvalidation_0-error:0.12975\tvalidation_0-logloss:0.28014\tvalidation_1-error:0.13321\tvalidation_1-logloss:0.28529\n",
      "[129]\tvalidation_0-error:0.12975\tvalidation_0-logloss:0.28007\tvalidation_1-error:0.13321\tvalidation_1-logloss:0.28523\n",
      "[130]\tvalidation_0-error:0.12975\tvalidation_0-logloss:0.28001\tvalidation_1-error:0.13321\tvalidation_1-logloss:0.28520\n",
      "[131]\tvalidation_0-error:0.12970\tvalidation_0-logloss:0.27996\tvalidation_1-error:0.13321\tvalidation_1-logloss:0.28515\n",
      "[132]\tvalidation_0-error:0.12962\tvalidation_0-logloss:0.27988\tvalidation_1-error:0.13327\tvalidation_1-logloss:0.28510\n",
      "[133]\tvalidation_0-error:0.12960\tvalidation_0-logloss:0.27983\tvalidation_1-error:0.13327\tvalidation_1-logloss:0.28507\n",
      "[134]\tvalidation_0-error:0.12965\tvalidation_0-logloss:0.27975\tvalidation_1-error:0.13340\tvalidation_1-logloss:0.28504\n",
      "[135]\tvalidation_0-error:0.12963\tvalidation_0-logloss:0.27970\tvalidation_1-error:0.13340\tvalidation_1-logloss:0.28500\n",
      "[136]\tvalidation_0-error:0.12957\tvalidation_0-logloss:0.27960\tvalidation_1-error:0.13340\tvalidation_1-logloss:0.28497\n",
      "[137]\tvalidation_0-error:0.12957\tvalidation_0-logloss:0.27951\tvalidation_1-error:0.13327\tvalidation_1-logloss:0.28494\n",
      "[138]\tvalidation_0-error:0.12957\tvalidation_0-logloss:0.27946\tvalidation_1-error:0.13340\tvalidation_1-logloss:0.28491\n",
      "[139]\tvalidation_0-error:0.12954\tvalidation_0-logloss:0.27942\tvalidation_1-error:0.13334\tvalidation_1-logloss:0.28488\n",
      "[140]\tvalidation_0-error:0.12949\tvalidation_0-logloss:0.27935\tvalidation_1-error:0.13346\tvalidation_1-logloss:0.28487\n",
      "[141]\tvalidation_0-error:0.12952\tvalidation_0-logloss:0.27926\tvalidation_1-error:0.13340\tvalidation_1-logloss:0.28483\n",
      "[142]\tvalidation_0-error:0.12951\tvalidation_0-logloss:0.27923\tvalidation_1-error:0.13340\tvalidation_1-logloss:0.28479\n",
      "[143]\tvalidation_0-error:0.12933\tvalidation_0-logloss:0.27912\tvalidation_1-error:0.13334\tvalidation_1-logloss:0.28480\n",
      "[144]\tvalidation_0-error:0.12932\tvalidation_0-logloss:0.27909\tvalidation_1-error:0.13334\tvalidation_1-logloss:0.28477\n",
      "[145]\tvalidation_0-error:0.12930\tvalidation_0-logloss:0.27903\tvalidation_1-error:0.13334\tvalidation_1-logloss:0.28475\n",
      "[146]\tvalidation_0-error:0.12889\tvalidation_0-logloss:0.27893\tvalidation_1-error:0.13359\tvalidation_1-logloss:0.28475\n",
      "[147]\tvalidation_0-error:0.12891\tvalidation_0-logloss:0.27888\tvalidation_1-error:0.13353\tvalidation_1-logloss:0.28472\n",
      "[148]\tvalidation_0-error:0.12885\tvalidation_0-logloss:0.27882\tvalidation_1-error:0.13340\tvalidation_1-logloss:0.28473\n",
      "[149]\tvalidation_0-error:0.12885\tvalidation_0-logloss:0.27878\tvalidation_1-error:0.13340\tvalidation_1-logloss:0.28470\n",
      "[150]\tvalidation_0-error:0.12883\tvalidation_0-logloss:0.27873\tvalidation_1-error:0.13334\tvalidation_1-logloss:0.28469\n",
      "[151]\tvalidation_0-error:0.12880\tvalidation_0-logloss:0.27868\tvalidation_1-error:0.13327\tvalidation_1-logloss:0.28467\n",
      "[152]\tvalidation_0-error:0.12880\tvalidation_0-logloss:0.27864\tvalidation_1-error:0.13327\tvalidation_1-logloss:0.28465\n",
      "[153]\tvalidation_0-error:0.12885\tvalidation_0-logloss:0.27853\tvalidation_1-error:0.13321\tvalidation_1-logloss:0.28462\n",
      "[154]\tvalidation_0-error:0.12869\tvalidation_0-logloss:0.27848\tvalidation_1-error:0.13308\tvalidation_1-logloss:0.28458\n",
      "[155]\tvalidation_0-error:0.12873\tvalidation_0-logloss:0.27844\tvalidation_1-error:0.13308\tvalidation_1-logloss:0.28456\n",
      "[156]\tvalidation_0-error:0.12866\tvalidation_0-logloss:0.27836\tvalidation_1-error:0.13308\tvalidation_1-logloss:0.28457\n",
      "[157]\tvalidation_0-error:0.12870\tvalidation_0-logloss:0.27829\tvalidation_1-error:0.13315\tvalidation_1-logloss:0.28457\n",
      "[158]\tvalidation_0-error:0.12867\tvalidation_0-logloss:0.27826\tvalidation_1-error:0.13315\tvalidation_1-logloss:0.28454\n",
      "[159]\tvalidation_0-error:0.12866\tvalidation_0-logloss:0.27822\tvalidation_1-error:0.13315\tvalidation_1-logloss:0.28453\n",
      "[160]\tvalidation_0-error:0.12872\tvalidation_0-logloss:0.27818\tvalidation_1-error:0.13315\tvalidation_1-logloss:0.28450\n",
      "[161]\tvalidation_0-error:0.12872\tvalidation_0-logloss:0.27814\tvalidation_1-error:0.13315\tvalidation_1-logloss:0.28449\n",
      "[162]\tvalidation_0-error:0.12861\tvalidation_0-logloss:0.27809\tvalidation_1-error:0.13302\tvalidation_1-logloss:0.28448\n",
      "[163]\tvalidation_0-error:0.12864\tvalidation_0-logloss:0.27805\tvalidation_1-error:0.13308\tvalidation_1-logloss:0.28448\n",
      "[164]\tvalidation_0-error:0.12858\tvalidation_0-logloss:0.27801\tvalidation_1-error:0.13296\tvalidation_1-logloss:0.28445\n",
      "[165]\tvalidation_0-error:0.12851\tvalidation_0-logloss:0.27796\tvalidation_1-error:0.13290\tvalidation_1-logloss:0.28446\n",
      "[166]\tvalidation_0-error:0.12843\tvalidation_0-logloss:0.27790\tvalidation_1-error:0.13296\tvalidation_1-logloss:0.28447\n",
      "[167]\tvalidation_0-error:0.12848\tvalidation_0-logloss:0.27786\tvalidation_1-error:0.13302\tvalidation_1-logloss:0.28447\n",
      "[168]\tvalidation_0-error:0.12840\tvalidation_0-logloss:0.27782\tvalidation_1-error:0.13302\tvalidation_1-logloss:0.28446\n",
      "[169]\tvalidation_0-error:0.12834\tvalidation_0-logloss:0.27778\tvalidation_1-error:0.13308\tvalidation_1-logloss:0.28446\n",
      "[170]\tvalidation_0-error:0.12836\tvalidation_0-logloss:0.27767\tvalidation_1-error:0.13315\tvalidation_1-logloss:0.28447\n",
      "[171]\tvalidation_0-error:0.12831\tvalidation_0-logloss:0.27759\tvalidation_1-error:0.13321\tvalidation_1-logloss:0.28445\n",
      "[172]\tvalidation_0-error:0.12831\tvalidation_0-logloss:0.27756\tvalidation_1-error:0.13321\tvalidation_1-logloss:0.28444\n",
      "[173]\tvalidation_0-error:0.12829\tvalidation_0-logloss:0.27752\tvalidation_1-error:0.13321\tvalidation_1-logloss:0.28442\n",
      "[174]\tvalidation_0-error:0.12829\tvalidation_0-logloss:0.27749\tvalidation_1-error:0.13315\tvalidation_1-logloss:0.28440\n",
      "[175]\tvalidation_0-error:0.12832\tvalidation_0-logloss:0.27747\tvalidation_1-error:0.13321\tvalidation_1-logloss:0.28439\n",
      "[176]\tvalidation_0-error:0.12832\tvalidation_0-logloss:0.27736\tvalidation_1-error:0.13327\tvalidation_1-logloss:0.28439\n",
      "[177]\tvalidation_0-error:0.12831\tvalidation_0-logloss:0.27732\tvalidation_1-error:0.13346\tvalidation_1-logloss:0.28440\n",
      "[178]\tvalidation_0-error:0.12829\tvalidation_0-logloss:0.27730\tvalidation_1-error:0.13346\tvalidation_1-logloss:0.28439\n",
      "[179]\tvalidation_0-error:0.12831\tvalidation_0-logloss:0.27726\tvalidation_1-error:0.13346\tvalidation_1-logloss:0.28437\n",
      "[180]\tvalidation_0-error:0.12815\tvalidation_0-logloss:0.27721\tvalidation_1-error:0.13359\tvalidation_1-logloss:0.28437\n",
      "[181]\tvalidation_0-error:0.12820\tvalidation_0-logloss:0.27717\tvalidation_1-error:0.13359\tvalidation_1-logloss:0.28435\n",
      "[182]\tvalidation_0-error:0.12817\tvalidation_0-logloss:0.27714\tvalidation_1-error:0.13365\tvalidation_1-logloss:0.28435\n",
      "[183]\tvalidation_0-error:0.12815\tvalidation_0-logloss:0.27711\tvalidation_1-error:0.13365\tvalidation_1-logloss:0.28434\n",
      "[184]\tvalidation_0-error:0.12812\tvalidation_0-logloss:0.27704\tvalidation_1-error:0.13365\tvalidation_1-logloss:0.28433\n",
      "[185]\tvalidation_0-error:0.12799\tvalidation_0-logloss:0.27696\tvalidation_1-error:0.13346\tvalidation_1-logloss:0.28432\n",
      "[186]\tvalidation_0-error:0.12801\tvalidation_0-logloss:0.27692\tvalidation_1-error:0.13346\tvalidation_1-logloss:0.28432\n",
      "[187]\tvalidation_0-error:0.12801\tvalidation_0-logloss:0.27688\tvalidation_1-error:0.13346\tvalidation_1-logloss:0.28431\n",
      "[188]\tvalidation_0-error:0.12809\tvalidation_0-logloss:0.27685\tvalidation_1-error:0.13334\tvalidation_1-logloss:0.28428\n",
      "[189]\tvalidation_0-error:0.12809\tvalidation_0-logloss:0.27681\tvalidation_1-error:0.13340\tvalidation_1-logloss:0.28427\n",
      "[190]\tvalidation_0-error:0.12806\tvalidation_0-logloss:0.27673\tvalidation_1-error:0.13334\tvalidation_1-logloss:0.28426\n",
      "[191]\tvalidation_0-error:0.12802\tvalidation_0-logloss:0.27670\tvalidation_1-error:0.13340\tvalidation_1-logloss:0.28425\n",
      "[192]\tvalidation_0-error:0.12802\tvalidation_0-logloss:0.27659\tvalidation_1-error:0.13346\tvalidation_1-logloss:0.28425\n",
      "[193]\tvalidation_0-error:0.12801\tvalidation_0-logloss:0.27656\tvalidation_1-error:0.13334\tvalidation_1-logloss:0.28425\n",
      "[194]\tvalidation_0-error:0.12798\tvalidation_0-logloss:0.27653\tvalidation_1-error:0.13340\tvalidation_1-logloss:0.28425\n",
      "[195]\tvalidation_0-error:0.12790\tvalidation_0-logloss:0.27643\tvalidation_1-error:0.13334\tvalidation_1-logloss:0.28425\n",
      "[196]\tvalidation_0-error:0.12787\tvalidation_0-logloss:0.27635\tvalidation_1-error:0.13359\tvalidation_1-logloss:0.28424\n",
      "[197]\tvalidation_0-error:0.12788\tvalidation_0-logloss:0.27632\tvalidation_1-error:0.13359\tvalidation_1-logloss:0.28424\n",
      "[198]\tvalidation_0-error:0.12787\tvalidation_0-logloss:0.27630\tvalidation_1-error:0.13346\tvalidation_1-logloss:0.28423\n",
      "[199]\tvalidation_0-error:0.12787\tvalidation_0-logloss:0.27627\tvalidation_1-error:0.13346\tvalidation_1-logloss:0.28423\n",
      "Finished training\n",
      "Accuracy: 86.65%\n"
     ]
    }
   ],
   "source": [
    "from sklearn.metrics import accuracy_score\n",
    "import os\n",
    "import xgboost as xgb\n",
    "\n",
    "scale_pos_weight = (len(all_feature['Label'])-all_feature['Label'].sum())/all_feature['Label'].sum()\n",
    "\n",
    "model_path = \"xgboost3.model\"\n",
    "\n",
    "# Verifica se il file del modello esiste\n",
    "if os.path.isfile(model_path):\n",
    "    # Carica il modello da file\n",
    "    model = xgb.sklearn.XGBClassifier()\n",
    "    model.load_model(model_path)\n",
    "    print(\"Model loaded\")\n",
    "else:\n",
    "    # Crea e addestra il modello se il file non esiste\n",
    "    model = xgb.sklearn.XGBClassifier(nthread=-1, seed=1, n_estimators=200, max_depth=5, learning_rate = 0.05) #, scale_pos_weight = scale_pos_weight)\n",
    "\n",
    "    eval_set = [(X_train, y_train), (X_test, y_test)]\n",
    "    model.fit(X_train, y_train, eval_metric=[\"error\", \"logloss\"], eval_set=eval_set, verbose=True)\n",
    "    print(\"Finished training\")\n",
    "\n",
    "    # Salva il modello in file\n",
    "    model.save_model(model_path)\n",
    "\n",
    "# make predictions for test data\n",
    "y_pred = model.predict(X_test)\n",
    "predictions = [round(value) for value in y_pred]\n",
    "\n",
    "# Calcola l'accuracy\n",
    "accuracy = accuracy_score(y_test, predictions)\n",
    "print(\"Accuracy: %.2f%%\" % (accuracy * 100.0))\n",
    "\n",
    "# retrieve performance metrics\n",
    "results = model.evals_result()\n",
    "epochs = len(results['validation_0']['logloss'])\n",
    "x_axis = range(0, epochs)\n"
   ]
  },
  {
   "cell_type": "code",
   "execution_count": 321,
   "metadata": {
    "execution": {
     "iopub.execute_input": "2023-06-06T08:35:03.890674Z",
     "iopub.status.busy": "2023-06-06T08:35:03.890442Z",
     "iopub.status.idle": "2023-06-06T08:35:04.066368Z",
     "shell.execute_reply": "2023-06-06T08:35:04.065321Z"
    }
   },
   "outputs": [
    {
     "data": {
      "image/png": "[encoded data removed]",
      "text/plain": [
       "<Figure size 640x440 with 1 Axes>"
      ]
     },
     "metadata": {},
     "output_type": "display_data"
    }
   ],
   "source": [
    "# retrieve performance metrics\n",
    "results = model.evals_result()\n",
    "epochs = len(results['validation_0']['logloss'])\n",
    "x_axis = range(0, epochs)\n",
    "\n",
    "# plot log loss\n",
    "\n",
    "fig, ax = plt.subplots()\n",
    "ax.plot(x_axis, results['validation_0']['logloss'], label='Train')\n",
    "\n",
    "ax.plot(x_axis, results['validation_1']['logloss'], label='Test')\n",
    "ax.legend()\n",
    "\n",
    "plt.ylabel('Log Loss')\n",
    "plt.title('XGBoost Log Loss')\n",
    "\n",
    "plt.show()\n"
   ]
  },
  {
   "cell_type": "code",
   "execution_count": 322,
   "metadata": {
    "execution": {
     "iopub.execute_input": "2023-06-06T08:35:04.069388Z",
     "iopub.status.busy": "2023-06-06T08:35:04.069186Z",
     "iopub.status.idle": "2023-06-06T08:35:05.010762Z",
     "shell.execute_reply": "2023-06-06T08:35:05.010052Z"
    }
   },
   "outputs": [
    {
     "name": "stdout",
     "output_type": "stream",
     "text": [
      "              precision    recall  f1-score   support\n",
      "\n",
      "         0.0       0.50      0.61      0.55      7975\n",
      "         1.0       0.49      0.39      0.44      7857\n",
      "\n",
      "    accuracy                           0.50     15832\n",
      "   macro avg       0.50      0.50      0.49     15832\n",
      "weighted avg       0.50      0.50      0.49     15832\n",
      "\n"
     ]
    },
    {
     "data": {
      "text/plain": [
       "array([[4845, 3130],\n",
       "       [4794, 3063]])"
      ]
     },
     "execution_count": 322,
     "metadata": {},
     "output_type": "execute_result"
    }
   ],
   "source": [
    "import sklearn\n",
    "print(sklearn.metrics.classification_report(y_test, y_pred))\n",
    "sklearn.metrics.confusion_matrix(y_test, y_pred)"
   ]
  },
  {
   "cell_type": "code",
   "execution_count": 323,
   "metadata": {
    "execution": {
     "iopub.execute_input": "2023-06-06T08:35:05.013722Z",
     "iopub.status.busy": "2023-06-06T08:35:05.013236Z",
     "iopub.status.idle": "2023-06-06T08:35:05.016957Z",
     "shell.execute_reply": "2023-06-06T08:35:05.016340Z"
    }
   },
   "outputs": [
    {
     "name": "stdout",
     "output_type": "stream",
     "text": [
      "['R_prompt', 'E_del', 'delta_radius', 'R_delayed', 'E_pro', 'delta_time', 'Source']\n"
     ]
    }
   ],
   "source": [
    "features_names = [key for key in all_feature.keys() if key!= \"Label\"]\n",
    "print(features_names)"
   ]
  },
  {
   "attachments": {},
   "cell_type": "markdown",
   "metadata": {},
   "source": [
    "## shap"
   ]
  },
  {
   "cell_type": "code",
   "execution_count": 324,
   "metadata": {},
   "outputs": [
    {
     "name": "stderr",
     "output_type": "stream",
     "text": [
      "No data for colormapping provided via 'c'. Parameters 'vmin', 'vmax' will be ignored\n"
     ]
    },
    {
     "data": {
      "image/png": "[encoded data removed]",
      "text/plain": [
       "<Figure size 800x350 with 2 Axes>"
      ]
     },
     "metadata": {},
     "output_type": "display_data"
    }
   ],
   "source": [
    "import shap\n",
    "features_names = X.columns\n",
    "\n",
    "#Creo un oggetto explainer SHAP\n",
    "explainer = shap.Explainer(model, X_test[:2000],model_output=\"probability\")\n",
    "\n",
    "# Calcolo i valori di Shapley per il set di test\n",
    "shap_values = explainer(X_test[:2000])\n",
    " \n",
    "# Plotto il summary plot di SHAP\n",
    "shap.summary_plot(shap_values, X_test[:2000], feature_names=features_names);"
   ]
  },
  {
   "cell_type": "code",
   "execution_count": 304,
   "metadata": {},
   "outputs": [],
   "source": [
    "# shap.plots.bar(shap_values)"
   ]
  },
  {
   "attachments": {},
   "cell_type": "markdown",
   "metadata": {},
   "source": [
    "### Selezione BDT sul dataset di sola radioattività"
   ]
  },
  {
   "cell_type": "code",
   "execution_count": 327,
   "metadata": {
    "execution": {
     "iopub.execute_input": "2023-06-06T08:35:18.515182Z",
     "iopub.status.busy": "2023-06-06T08:35:18.514607Z",
     "iopub.status.idle": "2023-06-06T08:35:18.517381Z",
     "shell.execute_reply": "2023-06-06T08:35:18.516820Z"
    }
   },
   "outputs": [],
   "source": [
    "all_feature_r = pd.read_csv(file_features)"
   ]
  },
  {
   "cell_type": "code",
   "execution_count": 328,
   "metadata": {
    "execution": {
     "iopub.execute_input": "2023-06-06T08:35:18.519652Z",
     "iopub.status.busy": "2023-06-06T08:35:18.519259Z",
     "iopub.status.idle": "2023-06-06T08:35:18.521945Z",
     "shell.execute_reply": "2023-06-06T08:35:18.521385Z"
    }
   },
   "outputs": [],
   "source": [
    "X_rad_df = all_feature_r[(all_feature_r[\"Label\"] == 0) & (all_feature_r[\"Source\"] == 0)]\n",
    "X_rad = X_rad_df.drop(['Label', 'Source', 'delta_time'], axis=1)\n",
    "\n",
    "#Now predict y using model XGBoost thath has been trained\n",
    "y_rad_pred = model.predict(X_rad)"
   ]
  },
  {
   "cell_type": "code",
   "execution_count": 329,
   "metadata": {
    "execution": {
     "iopub.execute_input": "2023-06-06T08:35:18.524326Z",
     "iopub.status.busy": "2023-06-06T08:35:18.523914Z",
     "iopub.status.idle": "2023-06-06T08:35:18.526655Z",
     "shell.execute_reply": "2023-06-06T08:35:18.526082Z"
    }
   },
   "outputs": [
    {
     "name": "stdout",
     "output_type": "stream",
     "text": [
      "695 su 39578\n",
      "Efficiency:  98.24397392490778\n",
      "Purity:  100.0\n"
     ]
    }
   ],
   "source": [
    "print(y_rad_pred.sum(), \"su\", y_rad_pred.shape[0])\n",
    "\n",
    "TP_bkg = np.logical_and(X_rad_df['Label'] == 0, y_rad_pred == 0)\n",
    "TN_bkg = np.logical_and(X_rad_df['Label'] == 1, y_rad_pred == 1)\n",
    "FN_bkg = np.logical_and(X_rad_df[\"Label\"] == 0, y_rad_pred == 1)\n",
    "FP_bkg = np.logical_and(X_rad_df[\"Label\"] == 1, y_rad_pred == 0) \n",
    "\n",
    "print(\"Efficiency: \", (TP_bkg.sum()/(TP_bkg.sum()+FN_bkg.sum())) * 100)\n",
    "print(\"Purity: \", (TP_bkg.sum()/(TP_bkg.sum()+FP_bkg.sum())) * 100)\t"
   ]
  },
  {
   "attachments": {},
   "cell_type": "markdown",
   "metadata": {},
   "source": [
    "### Selezione BDT sul dataset di soli veri IBD"
   ]
  },
  {
   "cell_type": "code",
   "execution_count": 330,
   "metadata": {
    "execution": {
     "iopub.execute_input": "2023-06-06T08:35:18.529074Z",
     "iopub.status.busy": "2023-06-06T08:35:18.528664Z",
     "iopub.status.idle": "2023-06-06T08:35:18.531303Z",
     "shell.execute_reply": "2023-06-06T08:35:18.530747Z"
    }
   },
   "outputs": [],
   "source": [
    "X_true_IBD_df = all_feature_r[(all_feature_r[\"Label\"] == 1) & (all_feature_r[\"Source\"] == 1)]\n",
    "X_true_IBD = X_true_IBD_df.drop(['Label', 'Source', 'delta_time'], axis=1)\n",
    "\n",
    "#Now predict y using model XGBoost thath has been trained\n",
    "y_true_IBD_pred = model.predict(X_true_IBD)\n"
   ]
  },
  {
   "cell_type": "code",
   "execution_count": 331,
   "metadata": {
    "execution": {
     "iopub.execute_input": "2023-06-06T08:35:18.533632Z",
     "iopub.status.busy": "2023-06-06T08:35:18.533218Z",
     "iopub.status.idle": "2023-06-06T08:35:18.535956Z",
     "shell.execute_reply": "2023-06-06T08:35:18.535393Z"
    }
   },
   "outputs": [
    {
     "name": "stdout",
     "output_type": "stream",
     "text": [
      "Venongono selezionati come IBD  37448 Su un tot di 49277\n",
      "Efficiency:  75.9948860523165\n",
      "Purity:  100.0\n"
     ]
    }
   ],
   "source": [
    "print(\"Venongono selezionati come IBD \", y_true_IBD_pred.sum(),\"Su un tot di\", y_true_IBD_pred.shape[0])\n",
    "\n",
    "\n",
    "TP = np.logical_and(X_true_IBD_df['Label'] == 1, y_true_IBD_pred == 1)\n",
    "TN = np.logical_and(X_true_IBD_df['Label'] == 0, y_true_IBD_pred == 0)\n",
    "FN = np.logical_and(X_true_IBD_df[\"Label\"] == 1, y_true_IBD_pred == 0)\n",
    "FP = np.logical_and(X_true_IBD_df[\"Label\"] == 0, y_true_IBD_pred == 1) \n",
    "\n",
    "print(\"Efficiency: \", (TP.sum()/(TP.sum()+FN.sum())) * 100)\n",
    "print(\"Purity: \", (TP.sum()/(TP.sum()+FP.sum())) * 100)\t"
   ]
  },
  {
   "attachments": {},
   "cell_type": "markdown",
   "metadata": {},
   "source": [
    "Output Finale"
   ]
  },
  {
   "cell_type": "code",
   "execution_count": 332,
   "metadata": {},
   "outputs": [
    {
     "name": "stdout",
     "output_type": "stream",
     "text": [
      "Tabella di features utilizzata:  ../../../../mnt/fcufino/all_features_IBD_U.csv\n",
      "Accuracy BDT: 86.65%\n",
      "Efficency testata su veri IBD:  75.9948860523165\n",
      "Purity testata su veri IBD:  100.0\n",
      "Efficency testata su BKG:  98.24397392490778\n",
      "Purity testata su BKG:  100.0\n"
     ]
    }
   ],
   "source": [
    "print(\"Tabella di features utilizzata: \", file_features)\n",
    "print(\"Accuracy BDT: %.2f%%\" % (accuracy * 100.0))\n",
    "print(\"Efficency testata su veri IBD: \", (TP.sum()/(TP.sum()+FN.sum())) * 100)\n",
    "print(\"Purity testata su veri IBD: \", (TP.sum()/(TP.sum()+FP.sum())) * 100)\n",
    "\n",
    "print(\"Efficency testata su BKG: \", (TP_bkg.sum()/(TP_bkg.sum()+FN_bkg.sum())) * 100)\n",
    "print(\"Purity testata su BKG: \", (TP_bkg.sum()/(TP_bkg.sum()+FP_bkg.sum())) * 100)\t\n"
   ]
  },
  {
   "attachments": {},
   "cell_type": "markdown",
   "metadata": {},
   "source": [
    "## PyTorch Neural Network"
   ]
  },
  {
   "cell_type": "code",
   "execution_count": 311,
   "metadata": {
    "execution": {
     "iopub.execute_input": "2023-06-06T08:35:18.538334Z",
     "iopub.status.busy": "2023-06-06T08:35:18.537923Z",
     "iopub.status.idle": "2023-06-06T08:35:18.541883Z",
     "shell.execute_reply": "2023-06-06T08:35:18.541339Z"
    }
   },
   "outputs": [],
   "source": [
    "# type(X_train[1:1+4].values)"
   ]
  },
  {
   "cell_type": "code",
   "execution_count": 312,
   "metadata": {
    "execution": {
     "iopub.execute_input": "2023-06-06T08:35:18.544281Z",
     "iopub.status.busy": "2023-06-06T08:35:18.543893Z",
     "iopub.status.idle": "2023-06-06T10:17:45.937196Z",
     "shell.execute_reply": "2023-06-06T10:17:45.936206Z"
    }
   },
   "outputs": [],
   "source": [
    "# import torch\n",
    "# import torch.nn as nn\n",
    "# import torch.optim as optim\n",
    "# from torch.utils.data import Dataset, DataLoader\n",
    "# from sklearn.preprocessing import StandardScaler\n",
    "# from sklearn.metrics import accuracy_score\n",
    "\n",
    "# # cuda, se disponibile\n",
    "# device = torch.device(\"cuda\" if torch.cuda.is_available() else \"cpu\")\n",
    "\n",
    "# # Definire il DataSet personalizzato\n",
    "# class CustomDataset(Dataset):\n",
    "#     def __init__(self, features, labels):\n",
    "#         self.features = features\n",
    "#         self.labels = labels\n",
    "\n",
    "#     def __len__(self):\n",
    "#         return len(self.features)\n",
    "\n",
    "#     def __getitem__(self, idx):\n",
    "#         return self.features[idx], self.labels[idx]\n",
    "\n",
    "# # Creare i set di dati personalizzati\n",
    "# train_dataset = CustomDataset(torch.from_numpy(X_train.values).float(), torch.from_numpy(y_train.values).long())\n",
    "# test_dataset = CustomDataset(torch.from_numpy(X_test.values).float(), torch.from_numpy(y_test.values).long())\n",
    "\n",
    "# # Creare i DataLoader\n",
    "# train_loader = DataLoader(train_dataset, batch_size=32, shuffle=True)\n",
    "# test_loader = DataLoader(test_dataset, batch_size=32, shuffle=False)\n"
   ]
  },
  {
   "cell_type": "code",
   "execution_count": 313,
   "metadata": {},
   "outputs": [],
   "source": [
    "# import os\n",
    "\n",
    "# # Definire la rete neurale\n",
    "# class Net(nn.Module):\n",
    "#     def __init__(self):\n",
    "#         super(Net, self).__init__()\n",
    "#         self.fc1 = nn.Linear(X_train.shape[1], 64)  # num features from X_train\n",
    "#         self.fc2 = nn.Linear(64, 64)\n",
    "#         self.fc3 = nn.Linear(64, len(y_train.unique()))  # num classes from y_train\n",
    "\n",
    "#     def forward(self, x):\n",
    "#         x = torch.relu(self.fc1(x))\n",
    "#         x = torch.relu(self.fc2(x))\n",
    "#         x = self.fc3(x)\n",
    "#         return x\n",
    "\n",
    "# # Istanziare la rete e spostarla su cuda  \n",
    "# net = Net().to(device)\n",
    "\n",
    "# # Definire la loss function e l'optimizer\n",
    "# criterion = nn.CrossEntropyLoss()  # Usando la CrossEntropy come funzione di perdita per la classificazione\n",
    "# optimizer = optim.Adam(net.parameters())\n",
    "\n",
    "# model_path = \"torch_net.pth\"\n",
    "\n",
    "# # Controllare se esiste un file contenente il modello addestrato\n",
    "# if os.path.isfile(model_path):\n",
    "#     # Caricare il modello\n",
    "#     net.load_state_dict(torch.load(model_path))\n",
    "#     net.eval()\n",
    "#     print(\"Model loaded\")\n",
    "# else:\n",
    "#     # Addestrare la rete\n",
    "#     for epoch in range(100):  # 100 epoche\n",
    "#         for inputs, labels in train_loader:\n",
    "#             inputs, labels = inputs.to(device), labels.to(device)\n",
    "#             optimizer.zero_grad()\n",
    "\n",
    "#             outputs = net(inputs)\n",
    "#             loss = criterion(outputs, labels)\n",
    "#             loss.backward()\n",
    "#             optimizer.step()\n",
    "\n",
    "#     print('Finished Training')\n",
    "\n",
    "#     # Salvare il modello\n",
    "#     torch.save(net.state_dict(), model_path)\n",
    "\n",
    "# # Calcolare l'accuracy\n",
    "# correct = 0\n",
    "# total = 0\n",
    "# with torch.no_grad():\n",
    "#     for data in test_loader:\n",
    "#         inputs, labels = data\n",
    "#         inputs, labels = inputs.to(device), labels.to(device)\n",
    "#         outputs = net(inputs) \n",
    "#         _, predicted = torch.max(outputs.data, 1)\n",
    "#         total += labels.size(0)\n",
    "#         correct += (predicted == labels).sum().item()\n",
    "\n",
    "# print('Accuracy of the network on the test data: %d %%' % (100 * correct / total))\n"
   ]
  },
  {
   "attachments": {},
   "cell_type": "markdown",
   "metadata": {},
   "source": [
    "## SVM kernel rbf"
   ]
  },
  {
   "cell_type": "code",
   "execution_count": 314,
   "metadata": {
    "execution": {
     "iopub.execute_input": "2023-06-06T10:17:45.969787Z",
     "iopub.status.busy": "2023-06-06T10:17:45.969598Z",
     "iopub.status.idle": "2023-06-06T10:17:45.971975Z",
     "shell.execute_reply": "2023-06-06T10:17:45.971510Z"
    }
   },
   "outputs": [],
   "source": [
    "# from sklearn import svm\n",
    "# # Definisci il modello SVM\n",
    "# svm_rbf = svm.SVC(kernel='rbf', C=1, gamma='scale')\n",
    "\n",
    "# y_train = y_train.ravel()\n",
    "# # Addestra il modello sui dati di train\n",
    "# svm_rbf.fit(X_train, y_train)"
   ]
  },
  {
   "cell_type": "code",
   "execution_count": 315,
   "metadata": {
    "execution": {
     "iopub.execute_input": "2023-06-06T10:17:45.974313Z",
     "iopub.status.busy": "2023-06-06T10:17:45.974127Z",
     "iopub.status.idle": "2023-06-06T10:17:45.976398Z",
     "shell.execute_reply": "2023-06-06T10:17:45.975930Z"
    }
   },
   "outputs": [],
   "source": [
    "# accuracy = svm_rbf.score(X_test, y_test)\n",
    "# print('Accuracy:', accuracy)"
   ]
  },
  {
   "attachments": {},
   "cell_type": "markdown",
   "metadata": {},
   "source": []
  }
 ],
 "metadata": {
  "kernelspec": {
   "display_name": "thesis",
   "language": "python",
   "name": "python3"
  },
  "language_info": {
   "codemirror_mode": {
    "name": "ipython",
    "version": 3
   },
   "file_extension": ".py",
   "mimetype": "text/x-python",
   "name": "python",
   "nbconvert_exporter": "python",
   "pygments_lexer": "ipython3",
   "version": "3.10.6"
  }
 },
 "nbformat": 4,
 "nbformat_minor": 2
}
