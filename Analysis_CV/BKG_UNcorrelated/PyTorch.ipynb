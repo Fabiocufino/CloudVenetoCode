{
 "cells": [
  {
   "attachments": {},
   "cell_type": "markdown",
   "metadata": {},
   "source": [
    "# Loading data"
   ]
  },
  {
   "cell_type": "code",
   "execution_count": 1,
   "metadata": {
    "execution": {
     "iopub.execute_input": "2023-06-06T08:32:24.647157Z",
     "iopub.status.busy": "2023-06-06T08:32:24.646688Z",
     "iopub.status.idle": "2023-06-06T08:32:25.213242Z",
     "shell.execute_reply": "2023-06-06T08:32:25.212609Z"
    }
   },
   "outputs": [],
   "source": [
    "import uproot as up\n",
    "import numpy as np\n",
    "import matplotlib.pyplot as plt\n",
    "import pandas as pd\n",
    "\n",
    "plt.style.use('seaborn-v0_8-paper')\n",
    "plt.rcParams[\"patch.force_edgecolor\"] = True"
   ]
  },
  {
   "cell_type": "code",
   "execution_count": 2,
   "metadata": {
    "execution": {
     "iopub.execute_input": "2023-06-06T08:32:25.222389Z",
     "iopub.status.busy": "2023-06-06T08:32:25.222015Z",
     "iopub.status.idle": "2023-06-06T08:32:28.356387Z",
     "shell.execute_reply": "2023-06-06T08:32:28.355683Z"
    }
   },
   "outputs": [],
   "source": [
    "all_feature = pd.read_csv(\"../../../../mnt/fcufino/all_features.csv\")"
   ]
  },
  {
   "attachments": {},
   "cell_type": "markdown",
   "metadata": {},
   "source": [
    "# Balancing the dataset"
   ]
  },
  {
   "cell_type": "code",
   "execution_count": 3,
   "metadata": {
    "execution": {
     "iopub.execute_input": "2023-06-06T08:32:28.577654Z",
     "iopub.status.busy": "2023-06-06T08:32:28.577213Z",
     "iopub.status.idle": "2023-06-06T08:32:28.672389Z",
     "shell.execute_reply": "2023-06-06T08:32:28.671732Z"
    }
   },
   "outputs": [
    {
     "name": "stdout",
     "output_type": "stream",
     "text": [
      "BKG:  1000081\n",
      "IBD:  1468385\n"
     ]
    }
   ],
   "source": [
    "print(\"BKG: \", all_feature[\"delta_time\"][all_feature['Label']==0].shape[0])\n",
    "print(\"IBD: \", all_feature[\"delta_time\"][all_feature['Label']==1].shape[0]) "
   ]
  },
  {
   "cell_type": "code",
   "execution_count": 4,
   "metadata": {
    "execution": {
     "iopub.execute_input": "2023-06-06T08:32:28.725339Z",
     "iopub.status.busy": "2023-06-06T08:32:28.724981Z",
     "iopub.status.idle": "2023-06-06T08:32:29.244375Z",
     "shell.execute_reply": "2023-06-06T08:32:29.243748Z"
    }
   },
   "outputs": [
    {
     "name": "stdout",
     "output_type": "stream",
     "text": [
      "BKG: 1000081\n",
      "IBD: 1000081\n"
     ]
    }
   ],
   "source": [
    "# Elimina gli elementi desiderati dal dataset\n",
    "num_IBD = all_feature[\"delta_time\"][all_feature['Label']==1].shape[0]\n",
    "num_BKG = all_feature[\"delta_time\"][all_feature['Label']==0].shape[0]\n",
    "\n",
    "del_BKG = 0\n",
    "del_IBD = 0\n",
    "\n",
    "if num_IBD > num_BKG:\n",
    "    del_IBD = num_IBD - num_BKG\n",
    "    to_del_ibd = all_feature.shape[0] - del_IBD\n",
    "    order = np.argsort(all_feature[\"Label\"])\n",
    "    all_feature = all_feature.iloc[order].dropna()\n",
    "    all_feature = all_feature.iloc[:to_del_ibd]\n",
    "\n",
    "elif num_IBD < num_BKG:\n",
    "    del_BKG = num_BKG - num_IBD\n",
    "    order = np.argsort(all_feature[\"Label\"])\n",
    "    all_feature = all_feature.iloc[order].dropna()\n",
    "    all_feature = all_feature.iloc[del_BKG:]\n",
    "\n",
    "print(\"BKG:\", all_feature[\"Label\"][all_feature['Label']==0].shape[0]) \n",
    "print(\"IBD:\",  all_feature[\"Label\"][all_feature['Label']==1].shape[0])"
   ]
  },
  {
   "attachments": {},
   "cell_type": "markdown",
   "metadata": {},
   "source": [
    "## Creating train and test datasets"
   ]
  },
  {
   "cell_type": "code",
   "execution_count": 5,
   "metadata": {
    "execution": {
     "iopub.execute_input": "2023-06-06T08:32:33.247754Z",
     "iopub.status.busy": "2023-06-06T08:32:33.247380Z",
     "iopub.status.idle": "2023-06-06T08:32:34.138779Z",
     "shell.execute_reply": "2023-06-06T08:32:34.138104Z"
    }
   },
   "outputs": [],
   "source": [
    "from sklearn.model_selection import train_test_split\n",
    "\n",
    "\n",
    "columns_to_exclude = ['Label', 'Source']\n",
    "\n",
    "\n",
    "X = all_feature.drop(columns_to_exclude, axis=1)\n",
    "Y = all_feature['Label']\n",
    "\n",
    "X_train, X_test, y_train, y_test = train_test_split(X, Y, test_size=.2)"
   ]
  },
  {
   "attachments": {},
   "cell_type": "markdown",
   "metadata": {},
   "source": [
    "## PyTorch Neural Network"
   ]
  },
  {
   "cell_type": "code",
   "execution_count": 6,
   "metadata": {
    "execution": {
     "iopub.execute_input": "2023-06-06T08:35:18.538334Z",
     "iopub.status.busy": "2023-06-06T08:35:18.537923Z",
     "iopub.status.idle": "2023-06-06T08:35:18.541883Z",
     "shell.execute_reply": "2023-06-06T08:35:18.541339Z"
    }
   },
   "outputs": [
    {
     "data": {
      "text/plain": [
       "numpy.ndarray"
      ]
     },
     "execution_count": 6,
     "metadata": {},
     "output_type": "execute_result"
    }
   ],
   "source": [
    "type(X_train[1:1+4].values)"
   ]
  },
  {
   "cell_type": "code",
   "execution_count": 7,
   "metadata": {
    "execution": {
     "iopub.execute_input": "2023-06-06T08:35:18.544281Z",
     "iopub.status.busy": "2023-06-06T08:35:18.543893Z",
     "iopub.status.idle": "2023-06-06T10:17:45.937196Z",
     "shell.execute_reply": "2023-06-06T10:17:45.936206Z"
    }
   },
   "outputs": [],
   "source": [
    "import torch\n",
    "import torch.nn as nn\n",
    "import torch.optim as optim\n",
    "from torch.utils.data import Dataset, DataLoader\n",
    "# from sklearn.preprocessing import StandardScaler\n",
    "# from sklearn.metrics import accuracy_score\n",
    "\n",
    "# cuda, se disponibile\n",
    "device = torch.device(\"cuda\" if torch.cuda.is_available() else \"cpu\")\n",
    "\n",
    "# Definire il DataSet personalizzato\n",
    "class CustomDataset(Dataset):\n",
    "    def __init__(self, features, labels):\n",
    "        self.features = features\n",
    "        self.labels = labels\n",
    "\n",
    "    def __len__(self):\n",
    "        return len(self.features)\n",
    "\n",
    "    def __getitem__(self, idx):\n",
    "        return self.features[idx], self.labels[idx]\n",
    "\n",
    "from sklearn import preprocessing\n",
    "\n",
    "scaler = preprocessing.StandardScaler().fit(X_train)\n",
    "X_train_normed = scaler.transform(X_train)\n",
    "X_test_normed = scaler.transform(X_test)\n",
    "    \n",
    "# Creare i set di dati personalizzati\n",
    "train_dataset = CustomDataset(torch.from_numpy(X_train_normed).float(), torch.from_numpy(y_train.values).long())\n",
    "test_dataset = CustomDataset(torch.from_numpy(X_test_normed).float(), torch.from_numpy(y_test.values).long())\n",
    "\n",
    "# Creare i DataLoader\n",
    "train_loader = DataLoader(train_dataset, batch_size=32, shuffle=True)\n",
    "test_loader = DataLoader(test_dataset, batch_size=32, shuffle=False)\n"
   ]
  },
  {
   "cell_type": "code",
   "execution_count": 21,
   "metadata": {},
   "outputs": [
    {
     "name": "stdout",
     "output_type": "stream",
     "text": [
      "Model loaded\n",
      "Accuracy of the network on the test data: 99 %\n"
     ]
    }
   ],
   "source": [
    "import os\n",
    "from tqdm import tqdm\n",
    "\n",
    "# Definire la rete neurale\n",
    "class Net(nn.Module):\n",
    "    def __init__(self):\n",
    "        super(Net, self).__init__()\n",
    "        self.fc1 = nn.Linear(X_train.shape[1], 64)  # num features from X_train\n",
    "        self.fc2 = nn.Linear(64, 64)\n",
    "        self.fc3 = nn.Linear(64, len(y_train.unique()))  # num classes from y_train\n",
    "\n",
    "    def forward(self, x):\n",
    "        x = torch.relu(self.fc1(x))\n",
    "        x = torch.relu(self.fc2(x))\n",
    "        x = self.fc3(x)\n",
    "        return x\n",
    "\n",
    "# Istanziare la rete e spostarla su cuda  \n",
    "net = Net().to(device)\n",
    "\n",
    "# Definire la loss function e l'optimizer\n",
    "criterion = nn.CrossEntropyLoss()  # Usando la CrossEntropy come funzione di perdita per la classificazione\n",
    "optimizer = optim.Adam(net.parameters())\n",
    "\n",
    "model_path = \"torch_net_normed_100ep.pth\"\n",
    "# model_path = \"torch_net_normed_def.pth\"\n",
    "\n",
    "\n",
    "# Controllare se esiste un file contenente il modello addestrato\n",
    "if os.path.isfile(model_path):\n",
    "    # Caricare il modello\n",
    "    net.load_state_dict(torch.load(model_path, map_location=torch.device('cpu')))\n",
    "    net.eval()\n",
    "    print(\"Model loaded\")\n",
    "else:\n",
    "    # Addestrare la rete\n",
    "    for epoch in tqdm(range(100)):  # 100 epoche\n",
    "        for inputs, labels in train_loader:\n",
    "            inputs, labels = inputs.to(device), labels.to(device)\n",
    "            optimizer.zero_grad()\n",
    "\n",
    "            outputs = net(inputs)\n",
    "            loss = criterion(outputs, labels)\n",
    "            loss.backward()\n",
    "            optimizer.step()\n",
    "\n",
    "    print('Finished Training')\n",
    "\n",
    "    # Salvare il modello\n",
    "    torch.save(net.state_dict(), model_path)\n",
    "\n",
    "# Calcolare l'accuracy\n",
    "correct = 0\n",
    "total = 0\n",
    "with torch.no_grad():\n",
    "    for data in test_loader:\n",
    "        inputs, labels = data\n",
    "        inputs, labels = inputs.to(device), labels.to(device)\n",
    "        outputs = net(inputs) \n",
    "        _, predicted = torch.max(outputs.data, 1)\n",
    "        total += labels.size(0)\n",
    "        correct += (predicted == labels).sum().item()\n",
    "\n",
    "print('Accuracy of the network on the test data: %d %%' % (100 * correct / total))\n"
   ]
  },
  {
   "attachments": {},
   "cell_type": "markdown",
   "metadata": {},
   "source": [
    "# R vs $\\Delta R$"
   ]
  },
  {
   "cell_type": "code",
   "execution_count": 36,
   "metadata": {},
   "outputs": [
    {
     "name": "stdout",
     "output_type": "stream",
     "text": [
      "17600\n"
     ]
    },
    {
     "data": {
      "text/plain": [
       "Text(0, 0.5, '$\\\\Delta$t [ns]')"
      ]
     },
     "execution_count": 36,
     "metadata": {},
     "output_type": "execute_result"
    },
    {
     "data": {
      "image/png": "[encoded data removed]",
      "text/plain": [
       "<Figure size 640x440 with 1 Axes>"
      ]
     },
     "metadata": {},
     "output_type": "display_data"
    }
   ],
   "source": [
    "import numpy as np\n",
    "import matplotlib.pyplot as plt\n",
    "import torch.nn.functional as nnf\n",
    "\n",
    "to_plot = pd.DataFrame()\n",
    "dr_array = np.linspace(0, 3000, 1000)\n",
    "# dt_array = np.linspace(0, 20*220e3, 1000)\n",
    "dt_array = np.linspace(0, 10*220e3, 1000)\n",
    "# dr_array = np.linspace(0, 3000, 1000)\n",
    "# dt_array = np.linspace(0, 20*220e3, 1000)\n",
    "dr_mesh, dt_mesh = np.meshgrid(dr_array, dt_array)\n",
    "elements = len(dr_mesh.flatten())\n",
    "\n",
    "Radius = np.linspace(0,17600,100).astype(int)\n",
    "R = Radius[99]\n",
    "print(R)\n",
    "\n",
    "\n",
    "to_plot['R_prompt'] = R*np.ones(elements)\n",
    "to_plot['R_delayed'] = R*np.ones(elements)\n",
    "to_plot['E_pro'] = 1.*np.ones(elements)\n",
    "to_plot['delta_radius'] = dr_mesh.flatten()\n",
    "to_plot['E_del'] = 2.2*np.ones(elements)\n",
    "to_plot['delta_time'] = dt_mesh.flatten()\n",
    "to_plot = to_plot[X.columns]\n",
    "to_plot = scaler.transform(to_plot)\n",
    "\n",
    "#utilizza net per fare previsione sui dati contenuti in to_plot.\n",
    "to_plot_tensor = torch.tensor(to_plot, dtype=torch.float32).to('cpu')\n",
    "probs = net(to_plot_tensor.to('cuda:0')).to('cpu')\n",
    "probs_normed = nnf.softmax(probs, dim=1).to('cpu')\n",
    "probs_normed = probs_normed[:, 1].reshape(dr_mesh.shape)\n",
    "plt.imshow(probs_normed.detach().numpy(), cmap = 'Blues', origin = 'lower', extent = (dr_mesh.min(), dr_mesh.max(), dt_mesh.min(), dt_mesh.max()), aspect = 'auto', vmin = 0.95, vmax = 1)\n",
    "plt.xlabel(r'$\\Delta$R [mm]')\n",
    "plt.ylabel(r'$\\Delta$t [ns]')\n",
    "\n",
    "   "
   ]
  },
  {
   "attachments": {},
   "cell_type": "markdown",
   "metadata": {},
   "source": []
  },
  {
   "cell_type": "code",
   "execution_count": 35,
   "metadata": {},
   "outputs": [
    {
     "name": "stderr",
     "output_type": "stream",
     "text": [
      "/tmp/ipykernel_650770/605554521.py:25: UserWarning: The following kwargs were not used by contour: 'aspect'\n",
      "  plt.contour(probs_normed.detach().numpy(), cmap = 'Blues', origin = 'lower', extent = (dr_mesh.min(), dr_mesh.max(), R_mesh.min(), R_mesh.max()), aspect = 'auto')\n"
     ]
    },
    {
     "data": {
      "text/plain": [
       "Text(0, 0.5, 'R [mm]')"
      ]
     },
     "execution_count": 35,
     "metadata": {},
     "output_type": "execute_result"
    },
    {
     "data": {
      "image/png": "[encoded data removed]",
      "text/plain": [
       "<Figure size 640x440 with 1 Axes>"
      ]
     },
     "metadata": {},
     "output_type": "display_data"
    }
   ],
   "source": [
    "to_plot = pd.DataFrame()\n",
    "\n",
    "dr_array = np.linspace(0, 3000, 1000)\n",
    "R_array = np.linspace(15000, 17700, 1000)\n",
    "\n",
    "dr_mesh, R_mesh = np.meshgrid(dr_array, R_array)\n",
    "\n",
    "elements = len(dr_mesh.flatten())\n",
    "to_plot['R_prompt'] = R_mesh.flatten()\n",
    "to_plot['R_delayed'] = to_plot['R_prompt']\n",
    "to_plot['E_pro'] = 1.*np.ones(elements)\n",
    "to_plot['delta_radius'] = dr_mesh.flatten()\n",
    "to_plot['E_del'] = 2.2*np.ones(elements)\n",
    "to_plot['delta_time'] = 220e3\n",
    "to_plot = to_plot[X.columns]\n",
    "to_plot = scaler.transform(to_plot)\n",
    "\n",
    "\n",
    "#utilizza net per fare previsione sui dati contenuti in to_plot.\n",
    "to_plot_tensor = torch.tensor(to_plot, dtype=torch.float32).to('cpu')\n",
    "probs = net(to_plot_tensor.to('cuda:0')).to('cpu')\n",
    "probs_normed = nnf.softmax(probs, dim=1).to('cpu')\n",
    "probs_normed = probs_normed[:, 1].reshape(dr_mesh.shape)\n",
    "\n",
    "plt.contour(probs_normed.detach().numpy(), cmap = 'Blues', origin = 'lower', extent = (dr_mesh.min(), dr_mesh.max(), R_mesh.min(), R_mesh.max()), aspect = 'auto')\n",
    "\n",
    "plt.xlabel(r'$\\Delta$R [mm]')\n",
    "plt.ylabel(r'R [mm]')"
   ]
  }
 ],
 "metadata": {
  "kernelspec": {
   "display_name": "thesis",
   "language": "python",
   "name": "python3"
  },
  "language_info": {
   "codemirror_mode": {
    "name": "ipython",
    "version": 3
   },
   "file_extension": ".py",
   "mimetype": "text/x-python",
   "name": "python",
   "nbconvert_exporter": "python",
   "pygments_lexer": "ipython3",
   "version": "3.10.6"
  }
 },
 "nbformat": 4,
 "nbformat_minor": 2
}
