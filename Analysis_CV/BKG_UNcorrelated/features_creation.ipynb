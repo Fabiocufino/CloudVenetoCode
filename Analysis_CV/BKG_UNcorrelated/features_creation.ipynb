{
 "cells": [
  {
   "attachments": {},
   "cell_type": "markdown",
   "metadata": {},
   "source": [
    "# Creating Table of features from datas"
   ]
  },
  {
   "cell_type": "code",
   "execution_count": 2,
   "metadata": {
    "execution": {
     "iopub.execute_input": "2023-06-02T13:57:38.724358Z",
     "iopub.status.busy": "2023-06-02T13:57:38.723820Z",
     "iopub.status.idle": "2023-06-02T13:57:39.520706Z",
     "shell.execute_reply": "2023-06-02T13:57:39.519656Z"
    }
   },
   "outputs": [],
   "source": [
    "import uproot as up\n",
    "import numpy as np\n",
    "import matplotlib.pyplot as plt\n",
    "import pandas as pd\n",
    "\n",
    "plt.style.use('seaborn-v0_8-paper')\n",
    "plt.rcParams[\"patch.force_edgecolor\"] = True"
   ]
  },
  {
   "attachments": {},
   "cell_type": "markdown",
   "metadata": {},
   "source": [
    "## Imprting datasets\n",
    "For the dataset we will use\n",
    "- ibd_userfile_new_production\n",
    "- radioactivity_userfile_7days\n",
    "\n",
    "for the background."
   ]
  },
  {
   "cell_type": "code",
   "execution_count": 3,
   "metadata": {
    "execution": {
     "iopub.execute_input": "2023-06-02T13:57:39.526425Z",
     "iopub.status.busy": "2023-06-02T13:57:39.525156Z",
     "iopub.status.idle": "2023-06-02T13:57:42.901530Z",
     "shell.execute_reply": "2023-06-02T13:57:42.900066Z"
    }
   },
   "outputs": [
    {
     "ename": "FileNotFoundError",
     "evalue": "file not found\n\n    '../../../../mnt/fcufino/radioactivity_userfile_1days.root'\n\nFiles may be specified as:\n   * str/bytes: relative or absolute filesystem path or URL, without any colons\n         other than Windows drive letter or URL schema.\n         Examples: \"rel/file.root\", \"C:\\abs\\file.root\", \"http://where/what.root\"\n   * str/bytes: same with an object-within-ROOT path, separated by a colon.\n         Example: \"rel/file.root:tdirectory/ttree\"\n   * pathlib.Path: always interpreted as a filesystem path or URL only (no\n         object-within-ROOT path), regardless of whether there are any colons.\n         Examples: Path(\"rel:/file.root\"), Path(\"/abs/path:stuff.root\")\n\nFunctions that accept many files (uproot.iterate, etc.) also allow:\n   * glob syntax in str/bytes and pathlib.Path.\n         Examples: Path(\"rel/*.root\"), \"/abs/*.root:tdirectory/ttree\"\n   * dict: keys are filesystem paths, values are objects-within-ROOT paths.\n         Example: {\"/data_v1/*.root\": \"ttree_v1\", \"/data_v2/*.root\": \"ttree_v2\"}\n   * already-open TTree objects.\n   * iterables of the above.\n",
     "output_type": "error",
     "traceback": [
      "\u001b[0;31m---------------------------------------------------------------------------\u001b[0m",
      "\u001b[0;31mFileNotFoundError\u001b[0m                         Traceback (most recent call last)",
      "File \u001b[0;32m~/anaconda3/envs/thesis/lib/python3.9/site-packages/uproot/source/file.py:112\u001b[0m, in \u001b[0;36mMemmapSource._open\u001b[0;34m(self)\u001b[0m\n\u001b[1;32m    111\u001b[0m \u001b[39mtry\u001b[39;00m:\n\u001b[0;32m--> 112\u001b[0m     \u001b[39mself\u001b[39m\u001b[39m.\u001b[39m_file \u001b[39m=\u001b[39m numpy\u001b[39m.\u001b[39;49mmemmap(\u001b[39mself\u001b[39;49m\u001b[39m.\u001b[39;49m_file_path, dtype\u001b[39m=\u001b[39;49m\u001b[39mself\u001b[39;49m\u001b[39m.\u001b[39;49m_dtype, mode\u001b[39m=\u001b[39;49m\u001b[39m\"\u001b[39;49m\u001b[39mr\u001b[39;49m\u001b[39m\"\u001b[39;49m)\n\u001b[1;32m    113\u001b[0m     \u001b[39mself\u001b[39m\u001b[39m.\u001b[39m_fallback \u001b[39m=\u001b[39m \u001b[39mNone\u001b[39;00m\n",
      "File \u001b[0;32m~/anaconda3/envs/thesis/lib/python3.9/site-packages/numpy/core/memmap.py:228\u001b[0m, in \u001b[0;36mmemmap.__new__\u001b[0;34m(subtype, filename, dtype, mode, offset, shape, order)\u001b[0m\n\u001b[1;32m    227\u001b[0m \u001b[39melse\u001b[39;00m:\n\u001b[0;32m--> 228\u001b[0m     f_ctx \u001b[39m=\u001b[39m \u001b[39mopen\u001b[39;49m(os_fspath(filename), (\u001b[39m'\u001b[39;49m\u001b[39mr\u001b[39;49m\u001b[39m'\u001b[39;49m \u001b[39mif\u001b[39;49;00m mode \u001b[39m==\u001b[39;49m \u001b[39m'\u001b[39;49m\u001b[39mc\u001b[39;49m\u001b[39m'\u001b[39;49m \u001b[39melse\u001b[39;49;00m mode)\u001b[39m+\u001b[39;49m\u001b[39m'\u001b[39;49m\u001b[39mb\u001b[39;49m\u001b[39m'\u001b[39;49m)\n\u001b[1;32m    230\u001b[0m \u001b[39mwith\u001b[39;00m f_ctx \u001b[39mas\u001b[39;00m fid:\n",
      "\u001b[0;31mFileNotFoundError\u001b[0m: [Errno 2] No such file or directory: '../../../../mnt/fcufino/radioactivity_userfile_1days.root'",
      "\nDuring handling of the above exception, another exception occurred:\n",
      "\u001b[0;31mFileNotFoundError\u001b[0m                         Traceback (most recent call last)",
      "File \u001b[0;32m~/anaconda3/envs/thesis/lib/python3.9/site-packages/uproot/source/file.py:36\u001b[0m, in \u001b[0;36mFileResource.__init__\u001b[0;34m(self, file_path)\u001b[0m\n\u001b[1;32m     35\u001b[0m \u001b[39mtry\u001b[39;00m:\n\u001b[0;32m---> 36\u001b[0m     \u001b[39mself\u001b[39m\u001b[39m.\u001b[39m_file \u001b[39m=\u001b[39m \u001b[39mopen\u001b[39;49m(\u001b[39mself\u001b[39;49m\u001b[39m.\u001b[39;49m_file_path, \u001b[39m\"\u001b[39;49m\u001b[39mrb\u001b[39;49m\u001b[39m\"\u001b[39;49m)\n\u001b[1;32m     37\u001b[0m \u001b[39mexcept\u001b[39;00m uproot\u001b[39m.\u001b[39m_util\u001b[39m.\u001b[39m_FileNotFoundError \u001b[39mas\u001b[39;00m err:\n",
      "\u001b[0;31mFileNotFoundError\u001b[0m: [Errno 2] No such file or directory: '../../../../mnt/fcufino/radioactivity_userfile_1days.root'",
      "\nThe above exception was the direct cause of the following exception:\n",
      "\u001b[0;31mFileNotFoundError\u001b[0m                         Traceback (most recent call last)",
      "Cell \u001b[0;32mIn[3], line 1\u001b[0m\n\u001b[0;32m----> 1\u001b[0m file_BKG \u001b[39m=\u001b[39m up\u001b[39m.\u001b[39;49mopen(\u001b[39m\"\u001b[39;49m\u001b[39m../../../../mnt/fcufino/radioactivity_userfile_1days.root\u001b[39;49m\u001b[39m\"\u001b[39;49m)\n\u001b[1;32m      2\u001b[0m \u001b[39m#file_IBD = up.open('../BrutalCuts/unoscillated_IBD_userfile.root') \u001b[39;00m\n\u001b[1;32m      3\u001b[0m \u001b[39m#file_IBD = up.open('../../../../mnt/fcufino/ibd_userfile_1500days_tprecision.root')\u001b[39;00m\n\u001b[1;32m      4\u001b[0m file_IBD \u001b[39m=\u001b[39m up\u001b[39m.\u001b[39mopen(\u001b[39m'\u001b[39m\u001b[39m../../../../mnt/data/userfiles/ibd_userfile_new_production.root\u001b[39m\u001b[39m'\u001b[39m)\n",
      "File \u001b[0;32m~/anaconda3/envs/thesis/lib/python3.9/site-packages/uproot/reading.py:141\u001b[0m, in \u001b[0;36mopen\u001b[0;34m(path, object_cache, array_cache, custom_classes, decompression_executor, interpretation_executor, **options)\u001b[0m\n\u001b[1;32m    132\u001b[0m \u001b[39mif\u001b[39;00m \u001b[39mnot\u001b[39;00m uproot\u001b[39m.\u001b[39m_util\u001b[39m.\u001b[39misstr(file_path) \u001b[39mand\u001b[39;00m \u001b[39mnot\u001b[39;00m (\n\u001b[1;32m    133\u001b[0m     \u001b[39mhasattr\u001b[39m(file_path, \u001b[39m\"\u001b[39m\u001b[39mread\u001b[39m\u001b[39m\"\u001b[39m) \u001b[39mand\u001b[39;00m \u001b[39mhasattr\u001b[39m(file_path, \u001b[39m\"\u001b[39m\u001b[39mseek\u001b[39m\u001b[39m\"\u001b[39m)\n\u001b[1;32m    134\u001b[0m ):\n\u001b[1;32m    135\u001b[0m     \u001b[39mraise\u001b[39;00m \u001b[39mValueError\u001b[39;00m(\n\u001b[1;32m    136\u001b[0m         \u001b[39m\"\u001b[39m\u001b[39m'\u001b[39m\u001b[39mpath\u001b[39m\u001b[39m'\u001b[39m\u001b[39m must be a string, pathlib.Path, an object with \u001b[39m\u001b[39m'\u001b[39m\u001b[39mread\u001b[39m\u001b[39m'\u001b[39m\u001b[39m and \u001b[39m\u001b[39m\"\u001b[39m\n\u001b[1;32m    137\u001b[0m         \u001b[39m\"\u001b[39m\u001b[39m'\u001b[39m\u001b[39mseek\u001b[39m\u001b[39m'\u001b[39m\u001b[39m methods, or a length-1 dict of \u001b[39m\u001b[39m{\u001b[39m\u001b[39mfile_path: object_path}, \u001b[39m\u001b[39m\"\u001b[39m\n\u001b[1;32m    138\u001b[0m         \u001b[39mf\u001b[39m\u001b[39m\"\u001b[39m\u001b[39mnot \u001b[39m\u001b[39m{\u001b[39;00mpath\u001b[39m!r}\u001b[39;00m\u001b[39m\"\u001b[39m\n\u001b[1;32m    139\u001b[0m     )\n\u001b[0;32m--> 141\u001b[0m file \u001b[39m=\u001b[39m ReadOnlyFile(\n\u001b[1;32m    142\u001b[0m     file_path,\n\u001b[1;32m    143\u001b[0m     object_cache\u001b[39m=\u001b[39;49mobject_cache,\n\u001b[1;32m    144\u001b[0m     array_cache\u001b[39m=\u001b[39;49marray_cache,\n\u001b[1;32m    145\u001b[0m     custom_classes\u001b[39m=\u001b[39;49mcustom_classes,\n\u001b[1;32m    146\u001b[0m     decompression_executor\u001b[39m=\u001b[39;49mdecompression_executor,\n\u001b[1;32m    147\u001b[0m     interpretation_executor\u001b[39m=\u001b[39;49minterpretation_executor,\n\u001b[1;32m    148\u001b[0m     \u001b[39m*\u001b[39;49m\u001b[39m*\u001b[39;49moptions,  \u001b[39m# NOTE: a comma after **options breaks Python 2\u001b[39;49;00m\n\u001b[1;32m    149\u001b[0m )\n\u001b[1;32m    151\u001b[0m \u001b[39mif\u001b[39;00m object_path \u001b[39mis\u001b[39;00m \u001b[39mNone\u001b[39;00m:\n\u001b[1;32m    152\u001b[0m     \u001b[39mreturn\u001b[39;00m file\u001b[39m.\u001b[39mroot_directory\n",
      "File \u001b[0;32m~/anaconda3/envs/thesis/lib/python3.9/site-packages/uproot/reading.py:581\u001b[0m, in \u001b[0;36mReadOnlyFile.__init__\u001b[0;34m(self, file_path, object_cache, array_cache, custom_classes, decompression_executor, interpretation_executor, **options)\u001b[0m\n\u001b[1;32m    576\u001b[0m \u001b[39mself\u001b[39m\u001b[39m.\u001b[39mhook_before_create_source()\n\u001b[1;32m    578\u001b[0m Source, file_path \u001b[39m=\u001b[39m uproot\u001b[39m.\u001b[39m_util\u001b[39m.\u001b[39mfile_path_to_source_class(\n\u001b[1;32m    579\u001b[0m     file_path, \u001b[39mself\u001b[39m\u001b[39m.\u001b[39m_options\n\u001b[1;32m    580\u001b[0m )\n\u001b[0;32m--> 581\u001b[0m \u001b[39mself\u001b[39m\u001b[39m.\u001b[39m_source \u001b[39m=\u001b[39m Source(\n\u001b[1;32m    582\u001b[0m     file_path, \u001b[39m*\u001b[39;49m\u001b[39m*\u001b[39;49m\u001b[39mself\u001b[39;49m\u001b[39m.\u001b[39;49m_options  \u001b[39m# NOTE: a comma after **options breaks Python 2\u001b[39;49;00m\n\u001b[1;32m    583\u001b[0m )\n\u001b[1;32m    585\u001b[0m \u001b[39mself\u001b[39m\u001b[39m.\u001b[39mhook_before_get_chunks()\n\u001b[1;32m    587\u001b[0m \u001b[39mif\u001b[39;00m \u001b[39mself\u001b[39m\u001b[39m.\u001b[39m_options[\u001b[39m\"\u001b[39m\u001b[39mbegin_chunk_size\u001b[39m\u001b[39m\"\u001b[39m] \u001b[39m<\u001b[39m _file_header_fields_big\u001b[39m.\u001b[39msize:\n",
      "File \u001b[0;32m~/anaconda3/envs/thesis/lib/python3.9/site-packages/uproot/source/file.py:108\u001b[0m, in \u001b[0;36mMemmapSource.__init__\u001b[0;34m(self, file_path, **options)\u001b[0m\n\u001b[1;32m    105\u001b[0m \u001b[39mself\u001b[39m\u001b[39m.\u001b[39m_num_requested_bytes \u001b[39m=\u001b[39m \u001b[39m0\u001b[39m\n\u001b[1;32m    107\u001b[0m \u001b[39mself\u001b[39m\u001b[39m.\u001b[39m_file_path \u001b[39m=\u001b[39m file_path\n\u001b[0;32m--> 108\u001b[0m \u001b[39mself\u001b[39;49m\u001b[39m.\u001b[39;49m_open()\n",
      "File \u001b[0;32m~/anaconda3/envs/thesis/lib/python3.9/site-packages/uproot/source/file.py:118\u001b[0m, in \u001b[0;36mMemmapSource._open\u001b[0;34m(self)\u001b[0m\n\u001b[1;32m    116\u001b[0m opts \u001b[39m=\u001b[39m \u001b[39mdict\u001b[39m(\u001b[39mself\u001b[39m\u001b[39m.\u001b[39m_fallback_opts)\n\u001b[1;32m    117\u001b[0m opts[\u001b[39m\"\u001b[39m\u001b[39mnum_workers\u001b[39m\u001b[39m\"\u001b[39m] \u001b[39m=\u001b[39m \u001b[39mself\u001b[39m\u001b[39m.\u001b[39m_num_fallback_workers\n\u001b[0;32m--> 118\u001b[0m \u001b[39mself\u001b[39m\u001b[39m.\u001b[39m_fallback \u001b[39m=\u001b[39m uproot\u001b[39m.\u001b[39;49msource\u001b[39m.\u001b[39;49mfile\u001b[39m.\u001b[39;49mMultithreadedFileSource(\n\u001b[1;32m    119\u001b[0m     \u001b[39mself\u001b[39;49m\u001b[39m.\u001b[39;49m_file_path, \u001b[39m*\u001b[39;49m\u001b[39m*\u001b[39;49mopts  \u001b[39m# NOTE: a comma after **opts breaks Python 2\u001b[39;49;00m\n\u001b[1;32m    120\u001b[0m )\n",
      "File \u001b[0;32m~/anaconda3/envs/thesis/lib/python3.9/site-packages/uproot/source/file.py:250\u001b[0m, in \u001b[0;36mMultithreadedFileSource.__init__\u001b[0;34m(self, file_path, **options)\u001b[0m\n\u001b[1;32m    247\u001b[0m \u001b[39mself\u001b[39m\u001b[39m.\u001b[39m_num_requested_bytes \u001b[39m=\u001b[39m \u001b[39m0\u001b[39m\n\u001b[1;32m    249\u001b[0m \u001b[39mself\u001b[39m\u001b[39m.\u001b[39m_file_path \u001b[39m=\u001b[39m file_path\n\u001b[0;32m--> 250\u001b[0m \u001b[39mself\u001b[39;49m\u001b[39m.\u001b[39;49m_open()\n",
      "File \u001b[0;32m~/anaconda3/envs/thesis/lib/python3.9/site-packages/uproot/source/file.py:254\u001b[0m, in \u001b[0;36mMultithreadedFileSource._open\u001b[0;34m(self)\u001b[0m\n\u001b[1;32m    252\u001b[0m \u001b[39mdef\u001b[39;00m \u001b[39m_open\u001b[39m(\u001b[39mself\u001b[39m):\n\u001b[1;32m    253\u001b[0m     \u001b[39mself\u001b[39m\u001b[39m.\u001b[39m_executor \u001b[39m=\u001b[39m uproot\u001b[39m.\u001b[39msource\u001b[39m.\u001b[39mfutures\u001b[39m.\u001b[39mResourceThreadPoolExecutor(\n\u001b[0;32m--> 254\u001b[0m         [FileResource(\u001b[39mself\u001b[39m\u001b[39m.\u001b[39m_file_path) \u001b[39mfor\u001b[39;00m x \u001b[39min\u001b[39;00m \u001b[39mrange\u001b[39m(\u001b[39mself\u001b[39m\u001b[39m.\u001b[39m_num_workers)]\n\u001b[1;32m    255\u001b[0m     )\n\u001b[1;32m    256\u001b[0m     \u001b[39mself\u001b[39m\u001b[39m.\u001b[39m_num_bytes \u001b[39m=\u001b[39m os\u001b[39m.\u001b[39mpath\u001b[39m.\u001b[39mgetsize(\u001b[39mself\u001b[39m\u001b[39m.\u001b[39m_file_path)\n",
      "File \u001b[0;32m~/anaconda3/envs/thesis/lib/python3.9/site-packages/uproot/source/file.py:254\u001b[0m, in \u001b[0;36m<listcomp>\u001b[0;34m(.0)\u001b[0m\n\u001b[1;32m    252\u001b[0m \u001b[39mdef\u001b[39;00m \u001b[39m_open\u001b[39m(\u001b[39mself\u001b[39m):\n\u001b[1;32m    253\u001b[0m     \u001b[39mself\u001b[39m\u001b[39m.\u001b[39m_executor \u001b[39m=\u001b[39m uproot\u001b[39m.\u001b[39msource\u001b[39m.\u001b[39mfutures\u001b[39m.\u001b[39mResourceThreadPoolExecutor(\n\u001b[0;32m--> 254\u001b[0m         [FileResource(\u001b[39mself\u001b[39;49m\u001b[39m.\u001b[39;49m_file_path) \u001b[39mfor\u001b[39;00m x \u001b[39min\u001b[39;00m \u001b[39mrange\u001b[39m(\u001b[39mself\u001b[39m\u001b[39m.\u001b[39m_num_workers)]\n\u001b[1;32m    255\u001b[0m     )\n\u001b[1;32m    256\u001b[0m     \u001b[39mself\u001b[39m\u001b[39m.\u001b[39m_num_bytes \u001b[39m=\u001b[39m os\u001b[39m.\u001b[39mpath\u001b[39m.\u001b[39mgetsize(\u001b[39mself\u001b[39m\u001b[39m.\u001b[39m_file_path)\n",
      "File \u001b[0;32m~/anaconda3/envs/thesis/lib/python3.9/site-packages/uproot/source/file.py:38\u001b[0m, in \u001b[0;36mFileResource.__init__\u001b[0;34m(self, file_path)\u001b[0m\n\u001b[1;32m     36\u001b[0m     \u001b[39mself\u001b[39m\u001b[39m.\u001b[39m_file \u001b[39m=\u001b[39m \u001b[39mopen\u001b[39m(\u001b[39mself\u001b[39m\u001b[39m.\u001b[39m_file_path, \u001b[39m\"\u001b[39m\u001b[39mrb\u001b[39m\u001b[39m\"\u001b[39m)\n\u001b[1;32m     37\u001b[0m \u001b[39mexcept\u001b[39;00m uproot\u001b[39m.\u001b[39m_util\u001b[39m.\u001b[39m_FileNotFoundError \u001b[39mas\u001b[39;00m err:\n\u001b[0;32m---> 38\u001b[0m     \u001b[39mraise\u001b[39;00m uproot\u001b[39m.\u001b[39m_util\u001b[39m.\u001b[39m_file_not_found(file_path) \u001b[39mfrom\u001b[39;00m \u001b[39merr\u001b[39;00m\n",
      "\u001b[0;31mFileNotFoundError\u001b[0m: file not found\n\n    '../../../../mnt/fcufino/radioactivity_userfile_1days.root'\n\nFiles may be specified as:\n   * str/bytes: relative or absolute filesystem path or URL, without any colons\n         other than Windows drive letter or URL schema.\n         Examples: \"rel/file.root\", \"C:\\abs\\file.root\", \"http://where/what.root\"\n   * str/bytes: same with an object-within-ROOT path, separated by a colon.\n         Example: \"rel/file.root:tdirectory/ttree\"\n   * pathlib.Path: always interpreted as a filesystem path or URL only (no\n         object-within-ROOT path), regardless of whether there are any colons.\n         Examples: Path(\"rel:/file.root\"), Path(\"/abs/path:stuff.root\")\n\nFunctions that accept many files (uproot.iterate, etc.) also allow:\n   * glob syntax in str/bytes and pathlib.Path.\n         Examples: Path(\"rel/*.root\"), \"/abs/*.root:tdirectory/ttree\"\n   * dict: keys are filesystem paths, values are objects-within-ROOT paths.\n         Example: {\"/data_v1/*.root\": \"ttree_v1\", \"/data_v2/*.root\": \"ttree_v2\"}\n   * already-open TTree objects.\n   * iterables of the above.\n"
     ]
    }
   ],
   "source": [
    "file_BKG = up.open(\"../../../../mnt/fcufino/radioactivity_userfile_1days.root\")\n",
    "#file_IBD = up.open('../BrutalCuts/unoscillated_IBD_userfile.root') \n",
    "#file_IBD = up.open('../../../../mnt/fcufino/ibd_userfile_1500days_tprecision.root')\n",
    "file_IBD = up.open('../../../../mnt/data/userfiles/ibd_userfile_new_production.root')\n",
    "\n",
    "\n",
    "dataset_IBD_all = file_IBD['TRec'].arrays(library = 'np')\n",
    "dataset_BKG = file_BKG['TRec'].arrays(library = 'np')\n",
    "\n",
    "dataset_IBD = {}\n",
    "for key in ['recx', 'recy', 'recz', 'm_QEn', 'timestamp', 'SimID']:\n",
    "    dataset_IBD[key] = dataset_IBD_all[key]\n",
    "\n",
    "\n",
    "#Adding SimID to the BKG dataset\n",
    "dataset_BKG[\"SimID\"] = np.arange(len(dataset_BKG[\"m_QEn\"]))"
   ]
  },
  {
   "cell_type": "code",
   "execution_count": 4,
   "metadata": {},
   "outputs": [
    {
     "data": {
      "text/plain": [
       "array([   0,    1,    2, ..., 1987, 1988, 1989])"
      ]
     },
     "execution_count": 4,
     "metadata": {},
     "output_type": "execute_result"
    }
   ],
   "source": [
    "dataset_IBD_all[\"SimID\"]\n",
    "dataset_IBD_all[\"EventID\"]"
   ]
  },
  {
   "cell_type": "code",
   "execution_count": 9,
   "metadata": {},
   "outputs": [
    {
     "name": "stdout",
     "output_type": "stream",
     "text": [
      "dict_keys(['EventID', 'SimID', 'timestamp', 't_sec', 't_nanosec', 'recx', 'recy', 'recz', 'm_QEn', 'm_pe'])\n"
     ]
    }
   ],
   "source": [
    "print(dataset_IBD_all.keys())"
   ]
  },
  {
   "cell_type": "code",
   "execution_count": 3,
   "metadata": {
    "execution": {
     "iopub.execute_input": "2023-06-02T13:57:42.906644Z",
     "iopub.status.busy": "2023-06-02T13:57:42.906279Z",
     "iopub.status.idle": "2023-06-02T13:57:42.912198Z",
     "shell.execute_reply": "2023-06-02T13:57:42.911103Z"
    }
   },
   "outputs": [
    {
     "name": "stdout",
     "output_type": "stream",
     "text": [
      "IBD events:  2977856\n",
      "BKG events:  8841188\n"
     ]
    }
   ],
   "source": [
    "print(\"IBD events: \", len(dataset_IBD[\"m_QEn\"]))\n",
    "print(\"BKG events: \", len(dataset_BKG[\"m_QEn\"]))"
   ]
  },
  {
   "attachments": {},
   "cell_type": "markdown",
   "metadata": {},
   "source": [
    "## Creation of two tables of features\n",
    "One for IBD events and one for BKG, keeping them separately.\n",
    "\n",
    "\n",
    "The feature table will have those features ($\\Delta t$, $\\Delta r$, $E_p$, $E_d$,$R_{prompt}$, $R_{delayed}$, $Label$)"
   ]
  },
  {
   "cell_type": "code",
   "execution_count": 4,
   "metadata": {
    "execution": {
     "iopub.execute_input": "2023-06-02T13:57:43.006840Z",
     "iopub.status.busy": "2023-06-02T13:57:43.006495Z",
     "iopub.status.idle": "2023-06-02T13:57:43.316123Z",
     "shell.execute_reply": "2023-06-02T13:57:43.315093Z"
    }
   },
   "outputs": [],
   "source": [
    "from numba import njit, prange"
   ]
  },
  {
   "cell_type": "code",
   "execution_count": 5,
   "metadata": {
    "execution": {
     "iopub.execute_input": "2023-06-02T13:57:43.321439Z",
     "iopub.status.busy": "2023-06-02T13:57:43.320770Z",
     "iopub.status.idle": "2023-06-02T13:57:43.345176Z",
     "shell.execute_reply": "2023-06-02T13:57:43.344149Z"
    }
   },
   "outputs": [],
   "source": [
    "@njit(parallel = True)\n",
    "def create_features_handle(x,y,z,E,t,SimID,expon_time_cut = 5 * 220e3):\n",
    "\n",
    "    n = x.shape[0] - 1\n",
    "      \n",
    "    delta_time = n*[np.zeros(0)]\n",
    "    delta_radius = n*[np.zeros(0)]\n",
    "    E_pro = n*[np.zeros(0)]\n",
    "    E_del = n*[np.zeros(0)] \n",
    "    R_prompt = n*[np.zeros(0)]\n",
    "    R_delayed = n*[np.zeros(0)]\n",
    "    Label = n*[np.zeros(0)]\n",
    "\n",
    "    for i in prange(x.shape[0] - 1):\n",
    "\n",
    "        mask = np.logical_and(t>t[i], (t - t[i]) < expon_time_cut)\n",
    "        to_loop = np.nonzero(mask)[0] \n",
    "\n",
    "        for t_index in range(len(to_loop)):\n",
    "            j = to_loop[t_index] \n",
    "\n",
    "            if (t[j] - t[i]) < expon_time_cut:\n",
    "                if (j-i)<1000 and j>i: #provvisorio\n",
    "                    delta_time[i] = np.append(delta_time[i], t[j] - t[i])\n",
    "                    delta_radius[i] = np.append(delta_radius[i], np.sqrt((x[i] - x[j])**2 + (y[i] - y[j])**2 + (z[i] - z[j])**2))\n",
    "                    E_pro[i] = np.append(E_pro[i], E[i])\n",
    "                    E_del[i] = np.append(E_del[i], E[j])\n",
    "                    R_prompt[i] = np.append(R_prompt[i],np.sqrt((x[i])**2 + (y[i])**2 + (z[i])**2))\n",
    "                    R_delayed[i] = np.append(R_delayed[i],np.sqrt((x[j])**2 + (y[j])**2 + (z[j])**2))\n",
    "                    \n",
    "                    if SimID[i] == SimID[j]:\n",
    "                        Label[i] = np.append(Label[i], 1)\n",
    "                    elif SimID[i] != SimID[j]:\n",
    "                        Label[i] = np.append(Label[i], 0)\n",
    "\n",
    "            else:\n",
    "                print(i, j, t[j] - t[i], 'Qualcosa non va')\n",
    "                break\n",
    "\n",
    "    return delta_time, delta_radius, E_pro, E_del, R_prompt, R_delayed, Label\n",
    "\n",
    "from iteration_utilities import deepflatten\n",
    "\n",
    "# Funzione per fare un flatten dell'output di Numba\n",
    "def create_features(x,y,z,E,t,SimID,expon_time_cut = 5 * 220e3):\n",
    "    res = create_features_handle(x,y,z,E,t,SimID,expon_time_cut)\n",
    "    out = []\n",
    "    for vec in res:\n",
    "        out.append(np.asarray(list(deepflatten(vec))))  \n",
    "    return out"
   ]
  },
  {
   "attachments": {},
   "cell_type": "markdown",
   "metadata": {},
   "source": [
    "### For IBD events"
   ]
  },
  {
   "cell_type": "code",
   "execution_count": 6,
   "metadata": {
    "execution": {
     "iopub.execute_input": "2023-06-02T13:57:43.350895Z",
     "iopub.status.busy": "2023-06-02T13:57:43.349705Z",
     "iopub.status.idle": "2023-06-02T14:16:27.802857Z",
     "shell.execute_reply": "2023-06-02T14:16:27.801409Z"
    }
   },
   "outputs": [],
   "source": [
    "features_IBD = {\"delta_time\": np.array([]), \n",
    "            \"delta_radius\": np.array([]),\n",
    "            \"E_pro\": np.array([]),\n",
    "            \"E_del\": np.array([]),\n",
    "            \"R_prompt\": np.array([]),\n",
    "            \"R_delayed\": np.array([]),\n",
    "            \"Label\": np.array([])} \n",
    "\n",
    "\n",
    "features_IBD[\"delta_time\"],features_IBD[\"delta_radius\"],features_IBD[\"E_pro\"],features_IBD[\"E_del\"],features_IBD[\"R_prompt\"],features_IBD[\"R_delayed\"],features_IBD['Label']  = create_features(\n",
    "    dataset_IBD[\"recx\"],\n",
    "    dataset_IBD[\"recy\"],\n",
    "    dataset_IBD[\"recz\"],\n",
    "    dataset_IBD[\"m_QEn\"],\n",
    "    dataset_IBD[\"timestamp\"],\n",
    "    dataset_IBD[\"SimID\"])\n",
    "\n",
    "\n"
   ]
  },
  {
   "cell_type": "code",
   "execution_count": 7,
   "metadata": {
    "execution": {
     "iopub.execute_input": "2023-06-02T14:16:27.808042Z",
     "iopub.status.busy": "2023-06-02T14:16:27.807775Z",
     "iopub.status.idle": "2023-06-02T14:16:27.813848Z",
     "shell.execute_reply": "2023-06-02T14:16:27.813329Z"
    }
   },
   "outputs": [
    {
     "name": "stdout",
     "output_type": "stream",
     "text": [
      "1475009\n",
      "1475009\n",
      "1475009\n",
      "1475009\n",
      "1475009\n",
      "1475009\n",
      "99.55091799439867\n"
     ]
    }
   ],
   "source": [
    "print(features_IBD[\"delta_time\"].shape[0])\n",
    "print(features_IBD[\"delta_radius\"].shape[0])\n",
    "print(features_IBD[\"E_pro\"].shape[0])\n",
    "print(features_IBD[\"E_del\"].shape[0])\n",
    "print(features_IBD[\"R_prompt\"].shape[0])\n",
    "print(features_IBD[\"R_delayed\"].shape[0])\n",
    "print((features_IBD[\"Label\"].sum()/features_IBD[\"Label\"].shape[0]) * 100)"
   ]
  },
  {
   "attachments": {},
   "cell_type": "markdown",
   "metadata": {},
   "source": [
    "### For the BKG events"
   ]
  },
  {
   "cell_type": "code",
   "execution_count": 8,
   "metadata": {
    "execution": {
     "iopub.execute_input": "2023-06-02T14:16:27.816731Z",
     "iopub.status.busy": "2023-06-02T14:16:27.816166Z",
     "iopub.status.idle": "2023-06-02T16:53:21.512581Z",
     "shell.execute_reply": "2023-06-02T16:53:21.511333Z"
    }
   },
   "outputs": [],
   "source": [
    "features_BKG = {\"delta_time\": np.array([]),\n",
    "                \"delta_radius\": np.array([]),\n",
    "                \"E_pro\": np.array([]),\n",
    "                \"E_del\": np.array([]),\n",
    "                \"R_prompt\": np.array([]),\n",
    "                \"R_delayed\": np.array([]),\n",
    "                \"Label\": np.array([])} \n",
    "\n",
    "\n",
    "features_BKG[\"delta_time\"],features_BKG[\"delta_radius\"],features_BKG[\"E_pro\"],features_BKG[\"E_del\"],features_BKG[\"R_prompt\"],features_BKG[\"R_delayed\"],features_BKG[\"Label\"] = create_features(\n",
    "        dataset_BKG[\"recx\"],\n",
    "        dataset_BKG[\"recy\"],\n",
    "        dataset_BKG[\"recz\"],\n",
    "        dataset_BKG[\"m_QEn\"],\n",
    "        dataset_BKG[\"m_triggerT\"],\n",
    "        dataset_BKG[\"SimID\"])"
   ]
  },
  {
   "cell_type": "code",
   "execution_count": 9,
   "metadata": {
    "execution": {
     "iopub.execute_input": "2023-06-02T16:53:21.517491Z",
     "iopub.status.busy": "2023-06-02T16:53:21.516748Z",
     "iopub.status.idle": "2023-06-02T16:53:21.521581Z",
     "shell.execute_reply": "2023-06-02T16:53:21.521063Z"
    }
   },
   "outputs": [
    {
     "name": "stdout",
     "output_type": "stream",
     "text": [
      "993457\n",
      "993457\n",
      "993457\n",
      "993457\n",
      "993457\n",
      "993457\n",
      "993457\n"
     ]
    }
   ],
   "source": [
    "print(features_BKG[\"delta_time\"].shape[0])\n",
    "print(features_BKG[\"delta_radius\"].shape[0])\n",
    "print(features_BKG[\"E_pro\"].shape[0])\n",
    "print(features_BKG[\"E_del\"].shape[0])\n",
    "print(features_BKG[\"R_prompt\"].shape[0])\n",
    "print(features_BKG[\"R_delayed\"].shape[0])\n",
    "print(features_BKG[\"Label\"].shape[0])"
   ]
  },
  {
   "attachments": {},
   "cell_type": "markdown",
   "metadata": {},
   "source": [
    "## Plots before the cut"
   ]
  },
  {
   "attachments": {},
   "cell_type": "markdown",
   "metadata": {},
   "source": [
    "Delta time"
   ]
  },
  {
   "cell_type": "code",
   "execution_count": 10,
   "metadata": {
    "execution": {
     "iopub.execute_input": "2023-06-02T16:53:21.524103Z",
     "iopub.status.busy": "2023-06-02T16:53:21.523923Z",
     "iopub.status.idle": "2023-06-02T16:53:22.554051Z",
     "shell.execute_reply": "2023-06-02T16:53:22.553529Z"
    }
   },
   "outputs": [
    {
     "data": {
      "text/plain": [
       "<matplotlib.lines.Line2D at 0x7f6df835db10>"
      ]
     },
     "execution_count": 10,
     "metadata": {},
     "output_type": "execute_result"
    },
    {
     "data": {
      "image/png": "[encoded data removed]",
      "text/plain": [
       "<Figure size 640x440 with 1 Axes>"
      ]
     },
     "metadata": {},
     "output_type": "display_data"
    }
   ],
   "source": [
    "#plt.scatter(np.arange(features_IBD[\"delta_time\"][ features_IBD['Label'] ==1].shape[0]), features_IBD[\"delta_time\"][ features_IBD['Label'] ==1], s=1)\n",
    "# plt.scatter(np.arange(features_BKG[\"delta_time\"].shape[0]), features_BKG[\"delta_time\"], s=1)\n",
    "plt.hist(features_IBD[\"delta_time\"][features_IBD['Label'] == 1], np.linspace(0, 1.5e6, 500))\n",
    "plt.axvline(1e6, c = 'red')"
   ]
  },
  {
   "attachments": {},
   "cell_type": "markdown",
   "metadata": {},
   "source": [
    "Delta radius"
   ]
  },
  {
   "cell_type": "code",
   "execution_count": 11,
   "metadata": {
    "execution": {
     "iopub.execute_input": "2023-06-02T16:53:22.557258Z",
     "iopub.status.busy": "2023-06-02T16:53:22.556638Z",
     "iopub.status.idle": "2023-06-02T16:53:23.602129Z",
     "shell.execute_reply": "2023-06-02T16:53:23.601620Z"
    }
   },
   "outputs": [
    {
     "name": "stdout",
     "output_type": "stream",
     "text": [
      "Ne perdiamo:  17208\n"
     ]
    },
    {
     "data": {
      "text/plain": [
       "<matplotlib.lines.Line2D at 0x7f6d9f8e6620>"
      ]
     },
     "execution_count": 11,
     "metadata": {},
     "output_type": "execute_result"
    },
    {
     "data": {
      "image/png": "[encoded data removed]",
      "text/plain": [
       "<Figure size 640x440 with 1 Axes>"
      ]
     },
     "metadata": {},
     "output_type": "display_data"
    }
   ],
   "source": [
    "# plt.scatter(np.arange(features_IBD[\"delta_radius\"][features_IBD['Label'] == 1].shape[0]), features_IBD[\"delta_radius\"][ features_IBD['Label'] == 1], s=1)\n",
    "# plt.scatter(np.arange(features_BKG[\"delta_radius\"].shape[0]), features_BKG[\"delta_radius\"], s=1)\n",
    "plt.hist(features_IBD[\"delta_radius\"][features_IBD['Label'] == 1], np.linspace(0, 1e4, 500))\n",
    "# plt.hist(features_IBD[\"delta_radius\"][features_IBD['Label'] == 0], np.linspace(0, 1e4, 10))\n",
    "plt.legend([\"IBD\", \"BKG\"])\n",
    "count = np.logical_and(True, features_IBD[\"delta_radius\"]>1500)\n",
    "print(\"Ne perdiamo: \", count.sum())\n",
    "plt.axvline(1500, c = 'red')"
   ]
  },
  {
   "attachments": {},
   "cell_type": "markdown",
   "metadata": {},
   "source": [
    "# Merging the IBD and BKG tables, but the tables before the cuts "
   ]
  },
  {
   "cell_type": "code",
   "execution_count": 18,
   "metadata": {
    "execution": {
     "iopub.execute_input": "2023-06-02T16:53:26.890490Z",
     "iopub.status.busy": "2023-06-02T16:53:26.889897Z",
     "iopub.status.idle": "2023-06-02T16:53:26.894522Z",
     "shell.execute_reply": "2023-06-02T16:53:26.894054Z"
    }
   },
   "outputs": [],
   "source": [
    "def combine_dict(d1, d2):\n",
    "    combined = {}\n",
    "    for k in set(d1.keys()) | set(d2.keys()):\n",
    "        if k in d1 and k in d2 and isinstance(d1[k], np.ndarray) and isinstance(d2[k], np.ndarray):\n",
    "            combined[k] = np.concatenate([d1[k], d2[k]])\n",
    "        elif k in d1:\n",
    "            combined[k] = d1[k]\n",
    "        else:\n",
    "            combined[k] = d2[k]\n",
    "    source = np.concatenate([np.full_like(d1.get(k, []), 1), np.full_like(d2.get(k, []), 0)])\n",
    "    return {**combined, 'Source': source}\n",
    "    "
   ]
  },
  {
   "cell_type": "code",
   "execution_count": 19,
   "metadata": {
    "execution": {
     "iopub.execute_input": "2023-06-02T16:53:26.897211Z",
     "iopub.status.busy": "2023-06-02T16:53:26.896602Z",
     "iopub.status.idle": "2023-06-02T16:53:26.943261Z",
     "shell.execute_reply": "2023-06-02T16:53:26.942688Z"
    }
   },
   "outputs": [
    {
     "name": "stdout",
     "output_type": "stream",
     "text": [
      "{'E_pro': array([5.26223   , 1.16043   , 4.45989   , ..., 0.48400998, 0.43437806,\n",
      "       0.72712225]), 'delta_radius': array([  448.27860591,   321.95137047,   393.87693878, ...,\n",
      "       14226.99707031, 31111.78125   , 24202.59179688]), 'Label': array([1., 1., 1., ..., 0., 0., 0.]), 'E_del': array([2.25358   , 2.25309   , 2.18264   , ..., 1.10824633, 2.00029159,\n",
      "       0.56004959]), 'R_delayed': array([15381.68681502,  7549.91058534, 13683.06215751, ...,\n",
      "       17399.        , 17399.        , 14583.58398438]), 'delta_time': array([528976., 243136.,  16304., ..., 750850.,  46371., 141066.]), 'R_prompt': array([15679.26747646,  7756.76478105, 13333.76935441, ...,\n",
      "       12850.04296875, 17399.        , 17399.        ]), 'Source': array([1., 1., 1., ..., 0., 0., 0.])}\n"
     ]
    }
   ],
   "source": [
    "all_feature = combine_dict(features_IBD,features_BKG)\n",
    "print(all_feature)"
   ]
  },
  {
   "attachments": {},
   "cell_type": "markdown",
   "metadata": {},
   "source": [
    "### Shuffle in random order"
   ]
  },
  {
   "cell_type": "code",
   "execution_count": 20,
   "metadata": {
    "execution": {
     "iopub.execute_input": "2023-06-02T16:53:26.946247Z",
     "iopub.status.busy": "2023-06-02T16:53:26.945658Z",
     "iopub.status.idle": "2023-06-02T16:53:27.241213Z",
     "shell.execute_reply": "2023-06-02T16:53:27.240613Z"
    }
   },
   "outputs": [],
   "source": [
    "# ottieni il numero di righe in ogni array\n",
    "n_rows = all_feature['E_del'].shape[0]\n",
    "\n",
    "# crea un nuovo ordine casuale degli indici delle righe\n",
    "new_order = np.random.permutation(n_rows)\n",
    "\n",
    "# estrai le righe nei nuovi indici\n",
    "for key in all_feature:\n",
    "    all_feature[key] = all_feature[key][new_order]\n"
   ]
  },
  {
   "cell_type": "code",
   "execution_count": 21,
   "metadata": {
    "execution": {
     "iopub.execute_input": "2023-06-02T16:53:27.244646Z",
     "iopub.status.busy": "2023-06-02T16:53:27.244112Z",
     "iopub.status.idle": "2023-06-02T16:53:27.251089Z",
     "shell.execute_reply": "2023-06-02T16:53:27.250567Z"
    }
   },
   "outputs": [
    {
     "name": "stdout",
     "output_type": "stream",
     "text": [
      "{'E_pro': array([4.90241   , 2.12466   , 2.10948   , ..., 2.72292352, 1.692     ,\n",
      "       0.35823345]), 'delta_radius': array([  143.6652089 ,   180.09585448,   314.33367891, ...,\n",
      "       34034.94140625,   632.71584908, 27854.82226562]), 'Label': array([1., 1., 1., ..., 0., 1., 0.]), 'E_del': array([2.27892   , 2.21941   , 2.26256   , ..., 0.97690666, 2.21436   ,\n",
      "       1.31288648]), 'R_delayed': array([16483.59088559, 15446.85781849,  5157.15655333, ...,\n",
      "       17399.        , 16572.51636455, 17399.        ]), 'delta_time': array([190096., 100080., 230800., ..., 699138.,  82096., 867009.]), 'R_prompt': array([16407.92629753, 15336.04502303,  5104.73810808, ...,\n",
      "       17248.6015625 , 16216.50390994, 11569.71191406]), 'Source': array([1., 1., 1., ..., 0., 1., 0.])}\n",
      "1468385.0\n"
     ]
    }
   ],
   "source": [
    "\n",
    "print(all_feature)\n",
    "print(all_feature['Label'].sum())"
   ]
  },
  {
   "attachments": {},
   "cell_type": "markdown",
   "metadata": {},
   "source": [
    "Statistics about the data"
   ]
  },
  {
   "cell_type": "code",
   "execution_count": 22,
   "metadata": {
    "execution": {
     "iopub.execute_input": "2023-06-02T16:53:27.253574Z",
     "iopub.status.busy": "2023-06-02T16:53:27.253026Z",
     "iopub.status.idle": "2023-06-02T16:53:31.514311Z",
     "shell.execute_reply": "2023-06-02T16:53:31.513603Z"
    }
   },
   "outputs": [
    {
     "data": {
      "text/html": [
       "<div>\n",
       "<style scoped>\n",
       "    .dataframe tbody tr th:only-of-type {\n",
       "        vertical-align: middle;\n",
       "    }\n",
       "\n",
       "    .dataframe tbody tr th {\n",
       "        vertical-align: top;\n",
       "    }\n",
       "\n",
       "    .dataframe thead th {\n",
       "        text-align: right;\n",
       "    }\n",
       "</style>\n",
       "<table border=\"1\" class=\"dataframe\">\n",
       "  <thead>\n",
       "    <tr style=\"text-align: right;\">\n",
       "      <th></th>\n",
       "      <th>E_pro</th>\n",
       "      <th>delta_radius</th>\n",
       "      <th>Label</th>\n",
       "      <th>E_del</th>\n",
       "      <th>R_delayed</th>\n",
       "      <th>delta_time</th>\n",
       "      <th>R_prompt</th>\n",
       "      <th>Source</th>\n",
       "    </tr>\n",
       "  </thead>\n",
       "  <tbody>\n",
       "    <tr>\n",
       "      <th>count</th>\n",
       "      <td>2.468466e+06</td>\n",
       "      <td>2.468466e+06</td>\n",
       "      <td>2.468466e+06</td>\n",
       "      <td>2.468466e+06</td>\n",
       "      <td>2.468466e+06</td>\n",
       "      <td>2.468466e+06</td>\n",
       "      <td>2.468466e+06</td>\n",
       "      <td>2.468466e+06</td>\n",
       "    </tr>\n",
       "    <tr>\n",
       "      <th>mean</th>\n",
       "      <td>2.390887e+00</td>\n",
       "      <td>8.667336e+03</td>\n",
       "      <td>5.948573e-01</td>\n",
       "      <td>1.666316e+00</td>\n",
       "      <td>1.404633e+04</td>\n",
       "      <td>3.486208e+05</td>\n",
       "      <td>1.405515e+04</td>\n",
       "      <td>5.975407e-01</td>\n",
       "    </tr>\n",
       "    <tr>\n",
       "      <th>std</th>\n",
       "      <td>2.097064e+00</td>\n",
       "      <td>1.108018e+04</td>\n",
       "      <td>4.909197e-01</td>\n",
       "      <td>1.515295e+00</td>\n",
       "      <td>3.505519e+03</td>\n",
       "      <td>3.034888e+05</td>\n",
       "      <td>3.494771e+03</td>\n",
       "      <td>4.903936e-01</td>\n",
       "    </tr>\n",
       "    <tr>\n",
       "      <th>min</th>\n",
       "      <td>0.000000e+00</td>\n",
       "      <td>6.084932e-01</td>\n",
       "      <td>0.000000e+00</td>\n",
       "      <td>0.000000e+00</td>\n",
       "      <td>0.000000e+00</td>\n",
       "      <td>6.400000e+02</td>\n",
       "      <td>5.884042e-09</td>\n",
       "      <td>0.000000e+00</td>\n",
       "    </tr>\n",
       "    <tr>\n",
       "      <th>25%</th>\n",
       "      <td>7.555603e-01</td>\n",
       "      <td>2.886269e+02</td>\n",
       "      <td>0.000000e+00</td>\n",
       "      <td>7.455531e-01</td>\n",
       "      <td>1.195644e+04</td>\n",
       "      <td>9.707200e+04</td>\n",
       "      <td>1.196440e+04</td>\n",
       "      <td>0.000000e+00</td>\n",
       "    </tr>\n",
       "    <tr>\n",
       "      <th>50%</th>\n",
       "      <td>2.217184e+00</td>\n",
       "      <td>6.486227e+02</td>\n",
       "      <td>1.000000e+00</td>\n",
       "      <td>2.169400e+00</td>\n",
       "      <td>1.502750e+04</td>\n",
       "      <td>2.497920e+05</td>\n",
       "      <td>1.503730e+04</td>\n",
       "      <td>1.000000e+00</td>\n",
       "    </tr>\n",
       "    <tr>\n",
       "      <th>75%</th>\n",
       "      <td>3.587890e+00</td>\n",
       "      <td>1.854104e+04</td>\n",
       "      <td>1.000000e+00</td>\n",
       "      <td>2.227280e+00</td>\n",
       "      <td>1.730813e+04</td>\n",
       "      <td>5.451360e+05</td>\n",
       "      <td>1.730879e+04</td>\n",
       "      <td>1.000000e+00</td>\n",
       "    </tr>\n",
       "    <tr>\n",
       "      <th>max</th>\n",
       "      <td>3.913881e+02</td>\n",
       "      <td>3.479771e+04</td>\n",
       "      <td>1.000000e+00</td>\n",
       "      <td>3.913881e+02</td>\n",
       "      <td>1.740007e+04</td>\n",
       "      <td>1.099999e+06</td>\n",
       "      <td>1.740007e+04</td>\n",
       "      <td>1.000000e+00</td>\n",
       "    </tr>\n",
       "  </tbody>\n",
       "</table>\n",
       "</div>"
      ],
      "text/plain": [
       "              E_pro  delta_radius         Label         E_del     R_delayed   \n",
       "count  2.468466e+06  2.468466e+06  2.468466e+06  2.468466e+06  2.468466e+06  \\\n",
       "mean   2.390887e+00  8.667336e+03  5.948573e-01  1.666316e+00  1.404633e+04   \n",
       "std    2.097064e+00  1.108018e+04  4.909197e-01  1.515295e+00  3.505519e+03   \n",
       "min    0.000000e+00  6.084932e-01  0.000000e+00  0.000000e+00  0.000000e+00   \n",
       "25%    7.555603e-01  2.886269e+02  0.000000e+00  7.455531e-01  1.195644e+04   \n",
       "50%    2.217184e+00  6.486227e+02  1.000000e+00  2.169400e+00  1.502750e+04   \n",
       "75%    3.587890e+00  1.854104e+04  1.000000e+00  2.227280e+00  1.730813e+04   \n",
       "max    3.913881e+02  3.479771e+04  1.000000e+00  3.913881e+02  1.740007e+04   \n",
       "\n",
       "         delta_time      R_prompt        Source  \n",
       "count  2.468466e+06  2.468466e+06  2.468466e+06  \n",
       "mean   3.486208e+05  1.405515e+04  5.975407e-01  \n",
       "std    3.034888e+05  3.494771e+03  4.903936e-01  \n",
       "min    6.400000e+02  5.884042e-09  0.000000e+00  \n",
       "25%    9.707200e+04  1.196440e+04  0.000000e+00  \n",
       "50%    2.497920e+05  1.503730e+04  1.000000e+00  \n",
       "75%    5.451360e+05  1.730879e+04  1.000000e+00  \n",
       "max    1.099999e+06  1.740007e+04  1.000000e+00  "
      ]
     },
     "execution_count": 22,
     "metadata": {},
     "output_type": "execute_result"
    }
   ],
   "source": [
    "import pandas as pd\n",
    "dataframe = pd.DataFrame({k:list(v) for k,v in all_feature.items()})\n",
    "dataframe.describe()"
   ]
  },
  {
   "cell_type": "code",
   "execution_count": 23,
   "metadata": {
    "execution": {
     "iopub.execute_input": "2023-06-02T16:53:31.517203Z",
     "iopub.status.busy": "2023-06-02T16:53:31.516994Z",
     "iopub.status.idle": "2023-06-02T16:53:31.520171Z",
     "shell.execute_reply": "2023-06-02T16:53:31.519626Z"
    }
   },
   "outputs": [],
   "source": [
    "# import seaborn as sns\n",
    "\n",
    "\n",
    "# g = sns.PairGrid(dataframe, hue=\"Label\", hue_kws={\"marker\": [\"o\", \"s\"]})\n",
    "\n",
    "\n",
    "# g.map_diag(sns.histplot)\n",
    "# g.map_offdiag(sns.scatterplot)\n",
    "# g.add_legend()\n",
    "\n"
   ]
  },
  {
   "attachments": {},
   "cell_type": "markdown",
   "metadata": {},
   "source": [
    "# Saving data"
   ]
  },
  {
   "cell_type": "code",
   "execution_count": 24,
   "metadata": {
    "execution": {
     "iopub.execute_input": "2023-06-02T16:53:31.522547Z",
     "iopub.status.busy": "2023-06-02T16:53:31.522111Z",
     "iopub.status.idle": "2023-06-02T16:53:31.525733Z",
     "shell.execute_reply": "2023-06-02T16:53:31.525086Z"
    }
   },
   "outputs": [
    {
     "name": "stdout",
     "output_type": "stream",
     "text": [
      "dict_keys(['E_pro', 'delta_radius', 'Label', 'E_del', 'R_delayed', 'delta_time', 'R_prompt', 'Source'])\n"
     ]
    }
   ],
   "source": [
    "print(all_feature.keys())"
   ]
  },
  {
   "attachments": {},
   "cell_type": "markdown",
   "metadata": {},
   "source": [
    "I've tried using root but it did not worked "
   ]
  },
  {
   "cell_type": "code",
   "execution_count": 25,
   "metadata": {
    "execution": {
     "iopub.execute_input": "2023-06-02T16:53:31.528112Z",
     "iopub.status.busy": "2023-06-02T16:53:31.527646Z",
     "iopub.status.idle": "2023-06-02T16:53:31.530688Z",
     "shell.execute_reply": "2023-06-02T16:53:31.530181Z"
    }
   },
   "outputs": [],
   "source": [
    "\n",
    "# import ROOT\n",
    "\n",
    "# root_file = ROOT.TFile(\"Data/all_feature.root\", \"recreate\")\n",
    "\n",
    "# tree = ROOT.TTree(\"all_feature\", \"Tree with all features\")\n",
    "\n",
    "# # create a ROOT TBranch for each array\n",
    "# branches = {}\n",
    "# for key in all_feature.keys():\n",
    "#     branches[key] = tree.Branch(key, all_feature[key], f\"{key}[{len(all_feature[key])}]/F\")\n",
    "\n",
    "# # fill the tree with the array data\n",
    "# for i in range(len(all_feature['delta_time'])):\n",
    "#     for key in all_feature.keys():\n",
    "#         all_feature[key][i] = (i+1)*(key+1)  # set each element to a different value\n",
    "#         branches[key].Fill()   # fill the branch for this key only\n",
    "\n",
    "\n",
    "# # write the tree to the ROOT file\n",
    "# root_file.Write()\n",
    "# root_file.Close()"
   ]
  },
  {
   "cell_type": "code",
   "execution_count": 26,
   "metadata": {
    "execution": {
     "iopub.execute_input": "2023-06-02T16:53:31.533127Z",
     "iopub.status.busy": "2023-06-02T16:53:31.532580Z",
     "iopub.status.idle": "2023-06-02T16:53:31.537273Z",
     "shell.execute_reply": "2023-06-02T16:53:31.536651Z"
    }
   },
   "outputs": [
    {
     "name": "stdout",
     "output_type": "stream",
     "text": [
      "{'E_pro': array([4.90241   , 2.12466   , 2.10948   , ..., 2.72292352, 1.692     ,\n",
      "       0.35823345]), 'delta_radius': array([  143.6652089 ,   180.09585448,   314.33367891, ...,\n",
      "       34034.94140625,   632.71584908, 27854.82226562]), 'Label': array([1., 1., 1., ..., 0., 1., 0.]), 'E_del': array([2.27892   , 2.21941   , 2.26256   , ..., 0.97690666, 2.21436   ,\n",
      "       1.31288648]), 'R_delayed': array([16483.59088559, 15446.85781849,  5157.15655333, ...,\n",
      "       17399.        , 16572.51636455, 17399.        ]), 'delta_time': array([190096., 100080., 230800., ..., 699138.,  82096., 867009.]), 'R_prompt': array([16407.92629753, 15336.04502303,  5104.73810808, ...,\n",
      "       17248.6015625 , 16216.50390994, 11569.71191406]), 'Source': array([1., 1., 1., ..., 0., 1., 0.])}\n"
     ]
    }
   ],
   "source": [
    "print(all_feature)"
   ]
  },
  {
   "cell_type": "code",
   "execution_count": 27,
   "metadata": {
    "execution": {
     "iopub.execute_input": "2023-06-02T16:53:31.539619Z",
     "iopub.status.busy": "2023-06-02T16:53:31.539062Z",
     "iopub.status.idle": "2023-06-02T16:53:44.020737Z",
     "shell.execute_reply": "2023-06-02T16:53:44.020139Z"
    }
   },
   "outputs": [],
   "source": [
    "np.savetxt(\"../../../../mnt/fcufino/all_features.csv\", np.column_stack(list(all_feature.values())), delimiter=\",\", header=\",\".join(list(all_feature.keys())), comments=\"\")"
   ]
  }
 ],
 "metadata": {
  "kernelspec": {
   "display_name": "Python 3 (ipykernel)",
   "language": "python",
   "name": "python3"
  },
  "language_info": {
   "codemirror_mode": {
    "name": "ipython",
    "version": 3
   },
   "file_extension": ".py",
   "mimetype": "text/x-python",
   "name": "python",
   "nbconvert_exporter": "python",
   "pygments_lexer": "ipython3",
   "version": "3.9.16"
  }
 },
 "nbformat": 4,
 "nbformat_minor": 2
}
