{
 "cells": [
  {
   "cell_type": "code",
   "execution_count": 38,
   "metadata": {},
   "outputs": [],
   "source": [
    "import pandas as pd\n",
    "import numpy as np"
   ]
  },
  {
   "attachments": {},
   "cell_type": "markdown",
   "metadata": {},
   "source": [
    "Tabella dei fondi e dei tagli che devi applicare per ottenere i numeri finali.\n",
    "\n",
    "Dataset         Events/day      Selection_eff   Muon_cut    Fiducial_volume     Combined_efficiency\\\n",
    "Reactor         57.4            98.4%           91.6%       91.2%               82%\\\n",
    "Geo-U           1.155           98.4%           91.6%       91.2%               82%\\\n",
    "Geo-Th          0.345           98.4%           91.6%       91.2%               82%\\\n",
    "Li9             0.81            98.4%           -           91.2%               90%\\\n",
    "He8             0.09            98.4%           -           91.2%               90%\\\n",
    "World_reactors  1.22            98.4%           91.6%       91.2%               82%\\\n",
    "Atmospheric_nu  0.2             98.4%           91.6%       91.2%               82% (?)\\\n",
    "Fast_neutron    0.12            98.4%           91.6%       91.2%               82%\\\n",
    "CO_alpha_n      0.06            98.4%           91.6%       91.2%               82% (?)\\\n",
    "Accidentals     8.8e6           1.41e-6         91.6%       -                   1.29e-6\\\n",
    "\n",
    "Puoi farlo per ogni categoria, poi sommi tutti gli eventi finali e fai:\\\n",
    "efficiency = selected_IBDs/overall_IBDs\\\n",
    "purity = selected_IBDs/selected_events\\"
   ]
  },
  {
   "cell_type": "code",
   "execution_count": 39,
   "metadata": {},
   "outputs": [],
   "source": [
    "import pandas as pd\n",
    "\n",
    "data = {\n",
    "    'Reactor': {\n",
    "        'evday': 57.4,\n",
    "        'selection_eff': 0.984,\n",
    "        'muon_cut': 0.916,\n",
    "        'fiducial_volume': 0.912,\n",
    "        'combined_efficiency': 0.82\n",
    "    },\n",
    "    'Geo-U': {\n",
    "        'evday': 1.155,\n",
    "        'selection_eff': 0.984,\n",
    "        'muon_cut': 0.916,\n",
    "        'fiducial_volume': 0.912,\n",
    "        'combined_efficiency': 0.82\n",
    "    },\n",
    "    'Geo-Th': {\n",
    "        'evday': 0.345,\n",
    "        'selection_eff': 0.984,\n",
    "        'muon_cut': 0.916,\n",
    "        'fiducial_volume': 0.912,\n",
    "        'combined_efficiency': 0.82\n",
    "    },\n",
    "    'Li9': {\n",
    "        'evday': 0.81,\n",
    "        'selection_eff': 0.984,\n",
    "        'muon_cut': 1,\n",
    "        'fiducial_volume': 0.912,\n",
    "        'combined_efficiency': 0.9\n",
    "    },\n",
    "    'He8': {\n",
    "        'evday': 0.09,\n",
    "        'selection_eff': 0.984,\n",
    "        'muon_cut': 1,\n",
    "        'fiducial_volume': 0.912,\n",
    "        'combined_efficiency': 0.9\n",
    "    },\n",
    "    'World_reactors': {\n",
    "        'evday': 1.22,\n",
    "        'selection_eff': 0.984,\n",
    "        'muon_cut': 0.916,\n",
    "        'fiducial_volume': 0.912,\n",
    "        'combined_efficiency': 0.82\n",
    "    },\n",
    "    'Atmospheric_nu': {\n",
    "        'evday': 0.2,\n",
    "        'selection_eff': 0.984,\n",
    "        'muon_cut': 0.916,\n",
    "        'fiducial_volume': 0.912,\n",
    "        'combined_efficiency': 0.82\n",
    "    },\n",
    "    'Fast_neutron': {\n",
    "        'evday': 0.12,\n",
    "        'selection_eff': 0.984,\n",
    "        'muon_cut': 0.916,\n",
    "        'fiducial_volume': 0.912,\n",
    "        'combined_efficiency': 0.82\n",
    "    },\n",
    "    'CO_alpha_n': {\n",
    "        'evday': 0.06,\n",
    "        'selection_eff': 0.984,\n",
    "        'muon_cut': 0.916,\n",
    "        'fiducial_volume': 0.912,\n",
    "        'combined_efficiency': 0.82\n",
    "    },\n",
    "    'Accidentals': {\n",
    "        'evday': 134124, #corrisponde alle coincidenze accidentali attese con 39.4 Hz in una finestra di 5 tau\n",
    "        'selection_eff': 1.41e-6,\n",
    "        'muon_cut': 0.916,\n",
    "        'fiducial_volume': 1,\n",
    "        'combined_efficiency': 1.29e-6\n",
    "    }\n",
    "}\n",
    "\n",
    "df = pd.DataFrame.from_dict(data, orient='index')\n",
    "\n",
    "#Ricorda, hai messo 1 ai fiducial volume che mancano\n"
   ]
  },
  {
   "cell_type": "code",
   "execution_count": 40,
   "metadata": {},
   "outputs": [],
   "source": [
    "eff_test_manual_cut_IBD =  0.9770288355028044\n",
    "eff_test_xgboost_IBD = 0.9999850163321979\n",
    "eff_test_pytorch_IBD =   0.9998498167764673"
   ]
  },
  {
   "cell_type": "code",
   "execution_count": 41,
   "metadata": {},
   "outputs": [],
   "source": [
    "eff_test_manual_cut_BKG = 0.9999750650801408\n",
    "eff_test_xgboost_BKG = 0.9999799814828717\n",
    "eff_test_pytorch_BKG =   0.9997703181094184"
   ]
  },
  {
   "cell_type": "code",
   "execution_count": 42,
   "metadata": {},
   "outputs": [
    {
     "data": {
      "text/html": [
       "<div>\n",
       "<style scoped>\n",
       "    .dataframe tbody tr th:only-of-type {\n",
       "        vertical-align: middle;\n",
       "    }\n",
       "\n",
       "    .dataframe tbody tr th {\n",
       "        vertical-align: top;\n",
       "    }\n",
       "\n",
       "    .dataframe thead th {\n",
       "        text-align: right;\n",
       "    }\n",
       "</style>\n",
       "<table border=\"1\" class=\"dataframe\">\n",
       "  <thead>\n",
       "    <tr style=\"text-align: right;\">\n",
       "      <th></th>\n",
       "      <th>evday</th>\n",
       "      <th>selection_eff</th>\n",
       "      <th>muon_cut</th>\n",
       "      <th>fiducial_volume</th>\n",
       "      <th>combined_efficiency</th>\n",
       "    </tr>\n",
       "  </thead>\n",
       "  <tbody>\n",
       "    <tr>\n",
       "      <th>Reactor</th>\n",
       "      <td>57.400</td>\n",
       "      <td>0.984000</td>\n",
       "      <td>0.916</td>\n",
       "      <td>0.912</td>\n",
       "      <td>0.820000</td>\n",
       "    </tr>\n",
       "    <tr>\n",
       "      <th>Geo-U</th>\n",
       "      <td>1.155</td>\n",
       "      <td>0.984000</td>\n",
       "      <td>0.916</td>\n",
       "      <td>0.912</td>\n",
       "      <td>0.820000</td>\n",
       "    </tr>\n",
       "    <tr>\n",
       "      <th>Geo-Th</th>\n",
       "      <td>0.345</td>\n",
       "      <td>0.984000</td>\n",
       "      <td>0.916</td>\n",
       "      <td>0.912</td>\n",
       "      <td>0.820000</td>\n",
       "    </tr>\n",
       "    <tr>\n",
       "      <th>Li9</th>\n",
       "      <td>0.810</td>\n",
       "      <td>0.984000</td>\n",
       "      <td>1.000</td>\n",
       "      <td>0.912</td>\n",
       "      <td>0.900000</td>\n",
       "    </tr>\n",
       "    <tr>\n",
       "      <th>He8</th>\n",
       "      <td>0.090</td>\n",
       "      <td>0.984000</td>\n",
       "      <td>1.000</td>\n",
       "      <td>0.912</td>\n",
       "      <td>0.900000</td>\n",
       "    </tr>\n",
       "    <tr>\n",
       "      <th>World_reactors</th>\n",
       "      <td>1.220</td>\n",
       "      <td>0.984000</td>\n",
       "      <td>0.916</td>\n",
       "      <td>0.912</td>\n",
       "      <td>0.820000</td>\n",
       "    </tr>\n",
       "    <tr>\n",
       "      <th>Atmospheric_nu</th>\n",
       "      <td>0.200</td>\n",
       "      <td>0.984000</td>\n",
       "      <td>0.916</td>\n",
       "      <td>0.912</td>\n",
       "      <td>0.820000</td>\n",
       "    </tr>\n",
       "    <tr>\n",
       "      <th>Fast_neutron</th>\n",
       "      <td>0.120</td>\n",
       "      <td>0.984000</td>\n",
       "      <td>0.916</td>\n",
       "      <td>0.912</td>\n",
       "      <td>0.820000</td>\n",
       "    </tr>\n",
       "    <tr>\n",
       "      <th>CO_alpha_n</th>\n",
       "      <td>0.060</td>\n",
       "      <td>0.984000</td>\n",
       "      <td>0.916</td>\n",
       "      <td>0.912</td>\n",
       "      <td>0.820000</td>\n",
       "    </tr>\n",
       "    <tr>\n",
       "      <th>Accidentals</th>\n",
       "      <td>134124.000</td>\n",
       "      <td>0.000001</td>\n",
       "      <td>0.916</td>\n",
       "      <td>1.000</td>\n",
       "      <td>0.000001</td>\n",
       "    </tr>\n",
       "  </tbody>\n",
       "</table>\n",
       "</div>"
      ],
      "text/plain": [
       "                     evday  selection_eff  muon_cut  fiducial_volume   \n",
       "Reactor             57.400       0.984000     0.916            0.912  \\\n",
       "Geo-U                1.155       0.984000     0.916            0.912   \n",
       "Geo-Th               0.345       0.984000     0.916            0.912   \n",
       "Li9                  0.810       0.984000     1.000            0.912   \n",
       "He8                  0.090       0.984000     1.000            0.912   \n",
       "World_reactors       1.220       0.984000     0.916            0.912   \n",
       "Atmospheric_nu       0.200       0.984000     0.916            0.912   \n",
       "Fast_neutron         0.120       0.984000     0.916            0.912   \n",
       "CO_alpha_n           0.060       0.984000     0.916            0.912   \n",
       "Accidentals     134124.000       0.000001     0.916            1.000   \n",
       "\n",
       "                combined_efficiency  \n",
       "Reactor                    0.820000  \n",
       "Geo-U                      0.820000  \n",
       "Geo-Th                     0.820000  \n",
       "Li9                        0.900000  \n",
       "He8                        0.900000  \n",
       "World_reactors             0.820000  \n",
       "Atmospheric_nu             0.820000  \n",
       "Fast_neutron               0.820000  \n",
       "CO_alpha_n                 0.820000  \n",
       "Accidentals                0.000001  "
      ]
     },
     "execution_count": 42,
     "metadata": {},
     "output_type": "execute_result"
    }
   ],
   "source": [
    "df"
   ]
  },
  {
   "attachments": {},
   "cell_type": "markdown",
   "metadata": {},
   "source": [
    "IBD"
   ]
  },
  {
   "cell_type": "code",
   "execution_count": 43,
   "metadata": {},
   "outputs": [
    {
     "name": "stdout",
     "output_type": "stream",
     "text": [
      "------Manual Cut------ \t -----XGBoost------ \t -------PyTorch----\n",
      "Reactor \t 51.37061292460065 \t 52.57761218272084 \t 52.57050360639981\n",
      "Geo-U \t 1.033676967385257 \t 1.0579641475791388 \t 1.0578211091531668\n",
      "Geo-Th \t 0.30876065259559626 \t 0.3160152648613012 \t 0.3159725390976992\n",
      "Li9 \t 0.7913933567572716 \t 0.8099878632290803 \t 0.8098783515889386\n",
      "He8 \t 0.08793259519525239 \t 0.08999865146989781 \t 0.08998648350988206\n",
      "World_reactors \t 1.091849264251094 \t 1.1175032554515578 \t 1.1173521672440376\n",
      "Atmospheric_nu \t 0.1789916826641138 \t 0.1831972549920587 \t 0.18317248643344886\n",
      "Fast_neutron \t 0.10739500959846826 \t 0.1099183529952352 \t 0.10990349186006929\n",
      "CO_alpha_n \t 0.05369750479923413 \t 0.0549591764976176 \t 0.05495174593003464\n",
      "--------------- \t ---------------\n",
      "Attesi:  55.02430995784693 \t 56.31715614979673 \t 56.30954198121709\n"
     ]
    }
   ],
   "source": [
    "n_IBD_manualcut = np.array([])\n",
    "n_IBD_xgboost = np.array([])\n",
    "n_IBD_pytorch = np.array([])\n",
    "all_IBD_reac = df[\"evday\"]['Reactor']\n",
    "\n",
    "\n",
    "print(\"------Manual Cut------\", '\\t', \"-----XGBoost------\",'\\t', \"-------PyTorch----\")\n",
    "for name in df.index.tolist():\n",
    "    if name!=\"Accidentals\":\n",
    "        n_IBD_manualcut = np.append(n_IBD_manualcut,df[\"evday\"][name]*eff_test_manual_cut_IBD*df[\"muon_cut\"][name])\n",
    "        n_IBD_xgboost = np.append(n_IBD_xgboost, df[\"evday\"][name]*eff_test_xgboost_IBD*df[\"muon_cut\"][name])\n",
    "        n_IBD_pytorch = np.append(n_IBD_pytorch,df[\"evday\"][name]*eff_test_pytorch_IBD*df[\"muon_cut\"][name])\n",
    "        print(name, '\\t', df[\"evday\"][name]*eff_test_manual_cut_IBD*df[\"muon_cut\"][name], '\\t',df[\"evday\"][name]*eff_test_xgboost_IBD*df[\"muon_cut\"][name],\"\\t\", df[\"evday\"][name]*eff_test_pytorch_IBD*df[\"muon_cut\"][name])\n",
    "    \n",
    "sel_IBD_manualcut = n_IBD_manualcut.sum()\n",
    "sel_IBD_pytorch = n_IBD_pytorch.sum()\n",
    "sel_IBD_xgboost = n_IBD_xgboost.sum()\n",
    "\n",
    "\n",
    "print(\"---------------\", '\\t', \"---------------\")\n",
    "print(\"Attesi: \", sel_IBD_manualcut, '\\t', sel_IBD_xgboost, '\\t', sel_IBD_pytorch)"
   ]
  },
  {
   "attachments": {},
   "cell_type": "markdown",
   "metadata": {},
   "source": [
    "Questi appena calcolati dovrebbero essere gli eventi che mi ASPETTO DI SELEZIONARE per un giorno di presa dati.\\\n",
    "Gli algoritmi sviluppati restituiscono una accuracy (Che dovrebbe essere l'efficency come la intendiamo noi, ovvero TP/(TP+FN)). Questa accuracy dovrebbe tener conto dei fattori di fiducial volume e anche dei criteri di selection per come è stato valutato l'apprendimento. Dunque infine quello che abbiamo fatto è ottenere un valore migliorato di 'fiducial_volume' * 'selection_effects'. \\\n",
    "Il muon cut non l'abbiamo proprio considerato, dunque lo teniamo per calcolare gli IBD attesi."
   ]
  },
  {
   "attachments": {},
   "cell_type": "markdown",
   "metadata": {},
   "source": [
    "Mi mancano i selected events. Ho una efficency per gli eventi di BKG, devo usare quella?"
   ]
  },
  {
   "attachments": {},
   "cell_type": "markdown",
   "metadata": {},
   "source": [
    "BKG"
   ]
  },
  {
   "cell_type": "code",
   "execution_count": 44,
   "metadata": {},
   "outputs": [],
   "source": [
    "all_events = pd.read_csv(\"all_features.csv\")"
   ]
  },
  {
   "cell_type": "code",
   "execution_count": 45,
   "metadata": {},
   "outputs": [
    {
     "data": {
      "text/plain": [
       "993457"
      ]
     },
     "execution_count": 45,
     "metadata": {},
     "output_type": "execute_result"
    }
   ],
   "source": [
    "n_ev = all_events[\"Label\"][(all_events[\"Label\"] == 0) & (all_events[\"Source\"] == 0)].shape[0]\n",
    "n_ev"
   ]
  },
  {
   "cell_type": "code",
   "execution_count": 46,
   "metadata": {},
   "outputs": [
    {
     "name": "stdout",
     "output_type": "stream",
     "text": [
      "------Manual Cut------ \t -----XGBoost------ \t -------PyTorch----\n",
      "FP:  22.69094194158104 \t 18.216982949183855 \t 209.01203908590747\n"
     ]
    }
   ],
   "source": [
    "print(\"------Manual Cut------\", '\\t', \"-----XGBoost------\",'\\t', \"-------PyTorch----\")\n",
    "\n",
    "FN_manual_cut = n_ev*(1-eff_test_manual_cut_BKG)*df[\"muon_cut\"][\"Accidentals\"]\n",
    "FN_xgboost =  n_ev*(1-eff_test_xgboost_BKG)*df[\"muon_cut\"][\"Accidentals\"]\n",
    "FN_pytorch = n_ev*(1-eff_test_pytorch_BKG)*df[\"muon_cut\"][\"Accidentals\"]\n",
    "\n",
    "\n",
    "print(\"FP: \", FN_manual_cut, '\\t', FN_xgboost, '\\t', FN_pytorch)"
   ]
  },
  {
   "cell_type": "code",
   "execution_count": 47,
   "metadata": {},
   "outputs": [],
   "source": [
    "TP_reac_manualcut = df[\"evday\"]['Reactor']*eff_test_manual_cut_IBD*df[\"muon_cut\"]['Reactor']\n",
    "TP_reac_xgboost =  df[\"evday\"]['Reactor']*eff_test_xgboost_IBD*df[\"muon_cut\"]['Reactor']\n",
    "TP_reac_pytorch = df[\"evday\"]['Reactor']*eff_test_pytorch_IBD*df[\"muon_cut\"]['Reactor']"
   ]
  },
  {
   "cell_type": "code",
   "execution_count": 48,
   "metadata": {},
   "outputs": [
    {
     "name": "stdout",
     "output_type": "stream",
     "text": [
      "0.8949584133205688\n",
      "0.9159862749602934\n",
      "0.9158624321672442\n"
     ]
    }
   ],
   "source": [
    "final_efficency_manualcut = TP_reac_manualcut/all_IBD_reac\n",
    "final_efficency_xgboost = TP_reac_xgboost/all_IBD_reac\n",
    "final_efficency_pytorch = TP_reac_pytorch/all_IBD_reac\n",
    "\n",
    "# final_purity_pytorch = sel_IBD_pytorch/sel_events\n",
    "\n",
    "print(final_efficency_manualcut)\n",
    "print(final_efficency_xgboost)\n",
    "print(final_efficency_pytorch)"
   ]
  },
  {
   "cell_type": "code",
   "execution_count": 49,
   "metadata": {},
   "outputs": [
    {
     "name": "stdout",
     "output_type": "stream",
     "text": [
      "0.6610106982742568\n",
      "0.7054165087074837\n",
      "0.1981388147732311\n"
     ]
    }
   ],
   "source": [
    "final_purity_manualcut = TP_reac_manualcut/(sel_IBD_manualcut + FN_manual_cut)\n",
    "final_purity_xgboost = TP_reac_xgboost/(sel_IBD_xgboost + FN_xgboost)\n",
    "final_purity_pytorch = TP_reac_pytorch/(sel_IBD_pytorch + FN_pytorch)\n",
    "\n",
    "# final_purity_pytorch = sel_IBD_pytorch/sel_events\n",
    "\n",
    "print(final_purity_manualcut)\n",
    "print(final_purity_xgboost)\n",
    "print(final_purity_pytorch)"
   ]
  },
  {
   "cell_type": "code",
   "execution_count": null,
   "metadata": {},
   "outputs": [],
   "source": []
  }
 ],
 "metadata": {
  "kernelspec": {
   "display_name": "Python 3",
   "language": "python",
   "name": "python3"
  },
  "language_info": {
   "codemirror_mode": {
    "name": "ipython",
    "version": 3
   },
   "file_extension": ".py",
   "mimetype": "text/x-python",
   "name": "python",
   "nbconvert_exporter": "python",
   "pygments_lexer": "ipython3",
   "version": "3.9.16"
  },
  "orig_nbformat": 4
 },
 "nbformat": 4,
 "nbformat_minor": 2
}
